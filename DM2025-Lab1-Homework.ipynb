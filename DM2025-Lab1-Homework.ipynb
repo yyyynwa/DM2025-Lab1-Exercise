{
 "cells": [
  {
   "cell_type": "markdown",
   "metadata": {},
   "source": [
    "### Student Information\n",
    "Name: 余雅韻\n",
    "\n",
    "Student ID: 114577002\n",
    "\n",
    "GitHub ID: yyyynwa"
   ]
  },
  {
   "cell_type": "markdown",
   "metadata": {},
   "source": [
    "---"
   ]
  },
  {
   "cell_type": "markdown",
   "metadata": {},
   "source": [
    "### Instructions"
   ]
  },
  {
   "cell_type": "markdown",
   "metadata": {},
   "source": [
    "### First Phase Submission"
   ]
  },
  {
   "cell_type": "markdown",
   "metadata": {},
   "source": [
    "1. First: do the **take home** exercises in the [DM2025-Lab1-Master](https://github.com/leoson-wu/DM2025-Lab1-Exercise/blob/main/DM2025-Lab1-Master.ipynb) that considered as **phase 1 (from exercise 1 to exercise 15)**. You can answer in the master file. __This part is worth 10% of your grade.__\n",
    "\n",
    "\n",
    "2. Second: follow the same process from the [DM2025-Lab1-Master](https://github.com/leoson-wu/DM2025-Lab1-Exercise/blob/main/DM2025-Lab1-Master.ipynb) on **the new dataset** up **until phase 1**. You can skip some exercises if you think some steps are not necessary. However main exercises should be completed. You don't need to explain all details as we did (some **minimal comments** explaining your code are useful though).  __This part is worth 15% of your grade.__\n",
    "    -  Use [the new dataset](https://github.com/leoson-wu/DM2025-Lab1-Exercise/blob/main/newdataset/Reddit-stock-sentiment.csv). The dataset contains a 16 columns including 'text' and 'label', with the sentiment labels being: 1.0 is positive, 0.0 is neutral and -1.0 is negative. You can simplify the dataset and use only the columns that you think are necessary. \n",
    "    \n",
    "    - You are allowed to use and modify the `helper` functions in the folder of the first lab session (notice they may need modification) or create your own.\n",
    "    - Use this file to complete the homework from the second part. Make sure the code can be run from the beginning till the end and has all the needed output.\n",
    "\n",
    "\n",
    "3. Third: please attempt the following tasks on **the new dataset**. __This part is worth 10% of your grade.__\n",
    "    - Generate meaningful **new data visualizations**. Refer to online resources and the Data Mining textbook for inspiration and ideas. \n",
    "    \n",
    "\n",
    "\n",
    "4. Fourth: It's hard for us to follow if your code is messy, so please **tidy up your notebook** and **add minimal comments where needed**. __This part is worth 5% of your grade.__\n",
    "\n",
    "You can submit your homework following these guidelines: [DM2025-Lab1-announcement](https://github.com/leoson-wu/DM2025-Lab1-Announcement/blob/main/README.md). Make sure to commit and save your changes to your repository __BEFORE the deadline (September 28th 11:59 pm, Sunday)__. "
   ]
  },
  {
   "cell_type": "markdown",
   "metadata": {},
   "source": [
    "### Second Phase Submission "
   ]
  },
  {
   "cell_type": "markdown",
   "metadata": {},
   "source": [
    "**You can keep the answer for phase 1 for easier running and update the phase 2 on the same page.**\n",
    "\n",
    "1. First: Continue doing the **take home** exercises in the [DM2025-Lab1-Master](https://github.com/leoson-wu/DM2025-Lab1-Exercise/blob/main/DM2025-Lab1-Master.ipynb) for **phase 2, starting from Finding frequent patterns**. Use the same master(.ipynb) file. Answer from phase 1 will not be considered at this stage. You can answer in the master file. __This part is worth 10% of your grade.__\n",
    "\n",
    "\n",
    "2. Second: Continue from first phase and do the same process from the [DM2025-Lab1-Master](https://github.com/leoson-wu/DM2025-Lab1-Exercise/blob/main/DM2025-Lab1-Master.ipynb) on **the new dataset** for phase 2, starting from Finding frequent pattern. You can skip some exercises if you think some steps are not necessary. However main exercises should be completed. You don't need to explain all details as we did (some **minimal comments** explaining your code are useful though).  __This part is worth 15% of your grade.__\n",
    "    - Continue using this file to complete the homework from the second part. Make sure the code can be run from the beginning till the end and has all the needed output. Use the same new dataset as in phase 1.\n",
    "    \n",
    "    - You are allowed to use and modify the `helper` functions in the folder of the first lab session (notice they may need modification) or create your own.\n",
    "\n",
    "3. Third: please attempt the following tasks on **the new dataset**. __This part is worth 20% of your grade.__\n",
    "    - Use this file to answer.\n",
    "    - Generate **TF-IDF features** from the tokens of each text. This will generating a document matrix, however, the weights will be computed differently (using the TF-IDF value of each word per document as opposed to the word frequency).  Refer to this Scikit-learn [guide](http://scikit-learn.org/stable/modules/generated/sklearn.feature_extraction.text.TfidfVectorizer.html) .\n",
    "    - Implement a simple **Naive Bayes classifier** that automatically classifies the records into their categories. Use both the TF-IDF features and word frequency features to build two seperate classifiers. Note that for the TF-IDF features you might need to use other type of NB classifier different than the one in the Master Notebook. Comment on the differences and when using augmentation with feature pattern.  Refer to this [article](https://hub.packtpub.com/implementing-3-naive-bayes-classifiers-in-scikit-learn/).\n",
    "\n",
    "\n",
    "4. Fourth: In the lab, we applied each step really quickly just to illustrate how to work with your dataset. There are somethings that are not ideal or the most efficient/meaningful. Each dataset can be handled differently as well. What are those inefficent parts you noticed? How can you improve the Data preprocessing for these specific datasets? __This part is worth 10% of your grade.__\n",
    "\n",
    "\n",
    "5. Fifth: It's hard for us to follow if your code is messy, so please **tidy up your notebook** and **add minimal comments where needed**. __This part is worth 5% of your grade.__\n",
    "\n",
    "\n",
    "You can submit your homework following these guidelines: [DM2025-Lab1-announcement](https://github.com/leoson-wu/DM2025-Lab1-Announcement/blob/main/README.md). Make sure to commit and save your changes to your repository __BEFORE the deadline (October 19th 11:59 pm, Sunday)__. "
   ]
  },
  {
   "cell_type": "markdown",
   "metadata": {},
   "source": [
    "# Phase 1"
   ]
  },
  {
   "cell_type": "code",
   "execution_count": 539,
   "metadata": {},
   "outputs": [],
   "source": [
    "### Begin Assignment Here"
   ]
  },
  {
   "cell_type": "markdown",
   "metadata": {},
   "source": [
    "---"
   ]
  },
  {
   "cell_type": "code",
   "execution_count": 540,
   "metadata": {},
   "outputs": [
    {
     "name": "stdout",
     "output_type": "stream",
     "text": [
      "The autoreload extension is already loaded. To reload it, use:\n",
      "  %reload_ext autoreload\n"
     ]
    }
   ],
   "source": [
    "# TEST necessary for when working with external scripts\n",
    "%load_ext autoreload\n",
    "%autoreload 2"
   ]
  },
  {
   "cell_type": "code",
   "execution_count": 541,
   "metadata": {},
   "outputs": [
    {
     "name": "stdout",
     "output_type": "stream",
     "text": [
      "/Users/irene/Documents/Program/2025_Fall/DM2025Labs/DM2025-Lab1-Exercise/.venv/bin/python\n",
      "3.11.10 (main, Oct 16 2024, 08:56:36) [Clang 18.1.8 ]\n"
     ]
    }
   ],
   "source": [
    "import sys\n",
    "print(sys.executable) # c:\\<your path to the project directory>\\.venv\\Scripts\\python.exe\n",
    "print(sys.version) #3.11.0"
   ]
  },
  {
   "cell_type": "markdown",
   "metadata": {},
   "source": [
    "---"
   ]
  },
  {
   "cell_type": "markdown",
   "metadata": {},
   "source": [
    "## 1. The Data"
   ]
  },
  {
   "cell_type": "code",
   "execution_count": 542,
   "metadata": {},
   "outputs": [
    {
     "name": "stdout",
     "output_type": "stream",
     "text": [
      "      type             datetime  post_id         subreddit  \\\n",
      "0  comment  2025-04-11 17:29:56  mmli62w    wallstreetbets   \n",
      "1  comment   2025-04-12 1:12:19  mmnu7v9    wallstreetbets   \n",
      "2  comment  2025-04-10 15:09:41  mmeevio       StockMarket   \n",
      "3     post  2023-08-30 17:12:55  165kllm  stockstobuytoday   \n",
      "4  comment  2025-04-11 14:48:05  mmkl6bw       StockMarket   \n",
      "\n",
      "                                               title                author  \\\n",
      "0    Retardation is on the menu boys! WSB is so back          StickyTip420   \n",
      "1  Retail giant TARGET has now declined for 10 co...  Comfortable-Dog-8437   \n",
      "2  How do you feel about a sitting president maki...          Btankersly66   \n",
      "3                              Who knows more? $VMAR             emiljenfn   \n",
      "4  The Trump administration is begging Xi Jinping...          Just-Big6411   \n",
      "\n",
      "                                                 url  upvotes  downvotes  \\\n",
      "0               https://i.redd.it/0yq2ftren8ue1.jpeg        0        NaN   \n",
      "1               https://i.redd.it/7tl6puv9waue1.jpeg      -15        NaN   \n",
      "2  https://apnews.com/article/trump-truth-social-...        1        NaN   \n",
      "3  https://www.reddit.com/r/stockstobuytoday/comm...       30        0.0   \n",
      "4  https://edition.cnn.com/2025/04/10/politics/tr...        1        NaN   \n",
      "\n",
      "   upvote_ratio                                               text  \\\n",
      "0           NaN                                   Calls on retards   \n",
      "1           NaN  Stunt as in like why did they even make a big ...   \n",
      "2           NaN                  Seeing lots of red in the ticker.   \n",
      "3          0.98  Vision Marine Technologies Inc. is rewriting t...   \n",
      "4           NaN                           He didn’t say thank you.   \n",
      "\n",
      "   subjectivity  polarity  sentiment  \\\n",
      "0      1.000000 -0.900000       -1.0   \n",
      "1      0.177778  0.083333        1.0   \n",
      "2      0.000000  0.000000        0.0   \n",
      "3      0.646970  0.216383        1.0   \n",
      "4      0.000000  0.000000        0.0   \n",
      "\n",
      "                                            entities  label  \n",
      "0                                                 []   -1.0  \n",
      "1              ['Stunt', 'company', 'deal', 'place']    0.0  \n",
      "2                                         ['ticker']    0.0  \n",
      "3  ['watercraft', 'skill', 'power', ']', 'feat', ...    1.0  \n",
      "4                                                 []   -1.0  \n"
     ]
    }
   ],
   "source": [
    "import pandas as pd\n",
    "newdataset = pd.read_csv(\"newdataset/Reddit-stock-sentiment.csv\")\n",
    "\n",
    "print(newdataset.head(5))"
   ]
  },
  {
   "cell_type": "markdown",
   "metadata": {},
   "source": [
    "## 2. Data Preparation\n",
    "\n",
    "newdataset_columns = [\n",
    "  'type', 'datetime', 'post_id', 'subreddit', 'title', 'author', 'url', \n",
    "  'upvotes', 'downvotes', 'upvote_ratio', 'text', 'subjectivity', \n",
    "  'polarity', 'sentiment', 'entities', 'label'\n",
    "]\n"
   ]
  },
  {
   "cell_type": "code",
   "execution_count": 543,
   "metadata": {},
   "outputs": [],
   "source": [
    "# categories\n",
    "categories = ['Neutral', 'Positive', 'Negative']"
   ]
  },
  {
   "cell_type": "code",
   "execution_count": 544,
   "metadata": {},
   "outputs": [],
   "source": [
    "df = pd.read_csv(\"newdataset/Reddit-stock-sentiment.csv\")"
   ]
  },
  {
   "cell_type": "code",
   "execution_count": 545,
   "metadata": {},
   "outputs": [],
   "source": [
    "from sklearn.utils import Bunch\n",
    "\n",
    "newdataset = Bunch(\n",
    "    data=df['text'].values,\n",
    "    titles=df['title'].values,\n",
    "    target=df['sentiment'].astype(int).values,\n",
    "    polarity=df['polarity'].values,\n",
    "    subjectivity=df['subjectivity'].values,\n",
    "    target_names=categories\n",
    ") "
   ]
  },
  {
   "cell_type": "code",
   "execution_count": 546,
   "metadata": {},
   "outputs": [
    {
     "data": {
      "text/plain": [
       "array(['Calls on retards',\n",
       "       'Stunt as in like why did they even make a big deal about starting it in the first place? No company should ever talk about politics ever.'],\n",
       "      dtype=object)"
      ]
     },
     "execution_count": 546,
     "metadata": {},
     "output_type": "execute_result"
    }
   ],
   "source": [
    "newdataset.data[0:2]"
   ]
  },
  {
   "cell_type": "code",
   "execution_count": 547,
   "metadata": {},
   "outputs": [
    {
     "data": {
      "text/plain": [
       "['Neutral', 'Positive', 'Negative']"
      ]
     },
     "execution_count": 547,
     "metadata": {},
     "output_type": "execute_result"
    }
   ],
   "source": [
    "newdataset.target_names"
   ]
  },
  {
   "cell_type": "code",
   "execution_count": 548,
   "metadata": {},
   "outputs": [
    {
     "data": {
      "text/plain": [
       "847"
      ]
     },
     "execution_count": 548,
     "metadata": {},
     "output_type": "execute_result"
    }
   ],
   "source": [
    "len(newdataset.data)"
   ]
  },
  {
   "cell_type": "code",
   "execution_count": 549,
   "metadata": {},
   "outputs": [
    {
     "data": {
      "text/plain": [
       "3"
      ]
     },
     "execution_count": 549,
     "metadata": {},
     "output_type": "execute_result"
    }
   ],
   "source": [
    "len(newdataset.target_names)"
   ]
  },
  {
   "cell_type": "markdown",
   "metadata": {},
   "source": [
    "sentiment\t-1\t1\t0\t1\t0\n",
    "label\t-1\t0\t0\t1\t-1"
   ]
  },
  {
   "cell_type": "code",
   "execution_count": 550,
   "metadata": {},
   "outputs": [
    {
     "name": "stdout",
     "output_type": "stream",
     "text": [
      "Hoping to ejaculate in wet warm puss tonight, wish me luck\n"
     ]
    }
   ],
   "source": [
    "print(\"\\n\".join(newdataset.data[5].split(\"\\n\")))"
   ]
  },
  {
   "cell_type": "code",
   "execution_count": 551,
   "metadata": {},
   "outputs": [
    {
     "name": "stdout",
     "output_type": "stream",
     "text": [
      "Negative\n"
     ]
    }
   ],
   "source": [
    "print(newdataset.target_names[int(newdataset.target[0])])"
   ]
  },
  {
   "cell_type": "code",
   "execution_count": 552,
   "metadata": {},
   "outputs": [
    {
     "data": {
      "text/plain": [
       "np.int64(-1)"
      ]
     },
     "execution_count": 552,
     "metadata": {},
     "output_type": "execute_result"
    }
   ],
   "source": [
    "newdataset.target[0]"
   ]
  },
  {
   "cell_type": "code",
   "execution_count": 553,
   "metadata": {},
   "outputs": [
    {
     "data": {
      "text/plain": [
       "array([-1,  1,  0,  1,  0,  1, -1,  1,  1,  0])"
      ]
     },
     "execution_count": 553,
     "metadata": {},
     "output_type": "execute_result"
    }
   ],
   "source": [
    "newdataset.target[0:10]\n",
    "#label"
   ]
  },
  {
   "cell_type": "code",
   "execution_count": 554,
   "metadata": {},
   "outputs": [
    {
     "name": "stdout",
     "output_type": "stream",
     "text": [
      "Negative\n",
      "Positive\n",
      "Neutral\n",
      "Positive\n",
      "Neutral\n",
      "Positive\n",
      "Negative\n",
      "Positive\n",
      "Positive\n",
      "Neutral\n"
     ]
    }
   ],
   "source": [
    "for t in newdataset.target[:10]:\n",
    "    print(newdataset.target_names[t])"
   ]
  },
  {
   "cell_type": "code",
   "execution_count": 555,
   "metadata": {},
   "outputs": [
    {
     "name": "stdout",
     "output_type": "stream",
     "text": [
      "Example 1\n",
      "Calls on retards\n",
      "Example 2\n",
      "Stunt as in like why did they even make a big deal about starting it in the first place? No company should ever talk about politics ever.\n",
      "Example 3\n",
      "Seeing lots of red in the ticker.\n",
      "Example 4\n",
      "Vision Marine Technologies Inc. is rewriting the watercraft rulebook. Their collaboration with Shaun Torrente has achieved the unthinkable – a blazing 116 mph on water! This isn't just about speed; it's about propelling electric boating into a new era. Their cutting-edge technology, combined with Torrente's skill, is making waves that'll ripple for generations.\n",
      "\n",
      "**Highlight Main Points**\n",
      "\n",
      "* Vision Marine Technologies Inc. achieves a record-breaking 116 mph speed on water with Shaun Torrente.\n",
      "* The feat highlights the power of electric boating and pushes the limits of innovation.\n",
      "* Partners like Octillion Power Systems and Danfoss Editron contribute to this groundbreaking achievement.\n",
      "\n",
      "**TLDR**\n",
      "\n",
      "Hold onto your seats – Vision Marine Technologies Inc. and Shaun Torrente have shattered the water-speed record at an astonishing 116 mph!  This isn't just about speed; it's about pioneering electric boating and innovation. The collaboration of technology, skill, and passion is creating ripples that'll be felt for years to come in the world of watercraft.\n",
      "\n",
      "[]()\n",
      "Example 5\n",
      "He didn’t say thank you.\n"
     ]
    }
   ],
   "source": [
    "for i in range(5):\n",
    "    print(f'Example {i+1}')\n",
    "    print('\\n'.join(newdataset.data[i].split('\\n')))"
   ]
  },
  {
   "cell_type": "code",
   "execution_count": 556,
   "metadata": {},
   "outputs": [
    {
     "name": "stdout",
     "output_type": "stream",
     "text": [
      "Negative\n",
      "Positive\n",
      "Neutral\n",
      "Positive\n",
      "Neutral\n",
      "Positive\n",
      "Negative\n",
      "Positive\n",
      "Positive\n",
      "Neutral\n"
     ]
    }
   ],
   "source": [
    "for t in newdataset.target[:10]:\n",
    "    print(newdataset.target_names[t])"
   ]
  },
  {
   "cell_type": "markdown",
   "metadata": {},
   "source": [
    "---"
   ]
  },
  {
   "cell_type": "markdown",
   "metadata": {},
   "source": [
    "## 3. Data Transformation\n",
    "Transform data into tabular format."
   ]
  },
  {
   "cell_type": "markdown",
   "metadata": {},
   "source": [
    "---"
   ]
  },
  {
   "cell_type": "markdown",
   "metadata": {},
   "source": [
    "### 3.1 Converting Dictionary into Pandas Dataframe"
   ]
  },
  {
   "cell_type": "code",
   "execution_count": 557,
   "metadata": {},
   "outputs": [],
   "source": [
    "import pandas as pd\n",
    "\n",
    "# my functions\n",
    "import helpers.data_mining_helpers as dmh\n",
    "\n",
    "# construct dataframe from a list\n",
    "X = pd.DataFrame.from_records(dmh.format_rows(newdataset), columns= ['text'])"
   ]
  },
  {
   "cell_type": "code",
   "execution_count": 558,
   "metadata": {},
   "outputs": [
    {
     "data": {
      "text/plain": [
       "847"
      ]
     },
     "execution_count": 558,
     "metadata": {},
     "output_type": "execute_result"
    }
   ],
   "source": [
    "len(X)"
   ]
  },
  {
   "cell_type": "code",
   "execution_count": 559,
   "metadata": {},
   "outputs": [
    {
     "data": {
      "text/html": [
       "<div>\n",
       "<style scoped>\n",
       "    .dataframe tbody tr th:only-of-type {\n",
       "        vertical-align: middle;\n",
       "    }\n",
       "\n",
       "    .dataframe tbody tr th {\n",
       "        vertical-align: top;\n",
       "    }\n",
       "\n",
       "    .dataframe thead th {\n",
       "        text-align: right;\n",
       "    }\n",
       "</style>\n",
       "<table border=\"1\" class=\"dataframe\">\n",
       "  <thead>\n",
       "    <tr style=\"text-align: right;\">\n",
       "      <th></th>\n",
       "      <th>text</th>\n",
       "    </tr>\n",
       "  </thead>\n",
       "  <tbody>\n",
       "    <tr>\n",
       "      <th>0</th>\n",
       "      <td>Calls on retards</td>\n",
       "    </tr>\n",
       "    <tr>\n",
       "      <th>1</th>\n",
       "      <td>Stunt as in like why did they even make a big ...</td>\n",
       "    </tr>\n",
       "  </tbody>\n",
       "</table>\n",
       "</div>"
      ],
      "text/plain": [
       "                                                text\n",
       "0                                   Calls on retards\n",
       "1  Stunt as in like why did they even make a big ..."
      ]
     },
     "execution_count": 559,
     "metadata": {},
     "output_type": "execute_result"
    }
   ],
   "source": [
    "X[0:2]"
   ]
  },
  {
   "cell_type": "code",
   "execution_count": 560,
   "metadata": {},
   "outputs": [
    {
     "name": "stdout",
     "output_type": "stream",
     "text": [
      "Calls on retards\n",
      "Stunt as in like why did they even make a big deal about starting it in the first place? No company should ever talk about politics ever.\n"
     ]
    }
   ],
   "source": [
    "for t in X[\"text\"][:2]:\n",
    "    print(t)"
   ]
  },
  {
   "cell_type": "markdown",
   "metadata": {},
   "source": [
    "### Adding Columns"
   ]
  },
  {
   "cell_type": "code",
   "execution_count": 561,
   "metadata": {},
   "outputs": [],
   "source": [
    "# add category to the dataframe\n",
    "X['category'] = newdataset.target"
   ]
  },
  {
   "cell_type": "code",
   "execution_count": 562,
   "metadata": {},
   "outputs": [],
   "source": [
    "# add category label\n",
    "X['category_name'] = X.category.apply(lambda t: dmh.format_labels(t, newdataset))"
   ]
  },
  {
   "cell_type": "code",
   "execution_count": 563,
   "metadata": {},
   "outputs": [
    {
     "data": {
      "text/html": [
       "<div>\n",
       "<style scoped>\n",
       "    .dataframe tbody tr th:only-of-type {\n",
       "        vertical-align: middle;\n",
       "    }\n",
       "\n",
       "    .dataframe tbody tr th {\n",
       "        vertical-align: top;\n",
       "    }\n",
       "\n",
       "    .dataframe thead th {\n",
       "        text-align: right;\n",
       "    }\n",
       "</style>\n",
       "<table border=\"1\" class=\"dataframe\">\n",
       "  <thead>\n",
       "    <tr style=\"text-align: right;\">\n",
       "      <th></th>\n",
       "      <th>text</th>\n",
       "      <th>category</th>\n",
       "      <th>category_name</th>\n",
       "    </tr>\n",
       "  </thead>\n",
       "  <tbody>\n",
       "    <tr>\n",
       "      <th>0</th>\n",
       "      <td>Calls on retards</td>\n",
       "      <td>-1</td>\n",
       "      <td>Negative</td>\n",
       "    </tr>\n",
       "    <tr>\n",
       "      <th>1</th>\n",
       "      <td>Stunt as in like why did they even make a big ...</td>\n",
       "      <td>1</td>\n",
       "      <td>Positive</td>\n",
       "    </tr>\n",
       "    <tr>\n",
       "      <th>2</th>\n",
       "      <td>Seeing lots of red in the ticker.</td>\n",
       "      <td>0</td>\n",
       "      <td>Neutral</td>\n",
       "    </tr>\n",
       "    <tr>\n",
       "      <th>3</th>\n",
       "      <td>Vision Marine Technologies Inc. is rewriting t...</td>\n",
       "      <td>1</td>\n",
       "      <td>Positive</td>\n",
       "    </tr>\n",
       "    <tr>\n",
       "      <th>4</th>\n",
       "      <td>He didn’t say thank you.</td>\n",
       "      <td>0</td>\n",
       "      <td>Neutral</td>\n",
       "    </tr>\n",
       "    <tr>\n",
       "      <th>5</th>\n",
       "      <td>Hoping to ejaculate in wet warm puss tonight, ...</td>\n",
       "      <td>1</td>\n",
       "      <td>Positive</td>\n",
       "    </tr>\n",
       "    <tr>\n",
       "      <th>6</th>\n",
       "      <td>Trump will respond to china increasing their t...</td>\n",
       "      <td>-1</td>\n",
       "      <td>Negative</td>\n",
       "    </tr>\n",
       "    <tr>\n",
       "      <th>7</th>\n",
       "      <td>Confirmed not a trap. Its been like this for p...</td>\n",
       "      <td>1</td>\n",
       "      <td>Positive</td>\n",
       "    </tr>\n",
       "    <tr>\n",
       "      <th>8</th>\n",
       "      <td>Am I the only one seeing the cup &amp; handle brea...</td>\n",
       "      <td>1</td>\n",
       "      <td>Positive</td>\n",
       "    </tr>\n",
       "    <tr>\n",
       "      <th>9</th>\n",
       "      <td>HLGN is $10. Hurry and catch it now before it ...</td>\n",
       "      <td>0</td>\n",
       "      <td>Neutral</td>\n",
       "    </tr>\n",
       "  </tbody>\n",
       "</table>\n",
       "</div>"
      ],
      "text/plain": [
       "                                                text  category category_name\n",
       "0                                   Calls on retards        -1      Negative\n",
       "1  Stunt as in like why did they even make a big ...         1      Positive\n",
       "2                  Seeing lots of red in the ticker.         0       Neutral\n",
       "3  Vision Marine Technologies Inc. is rewriting t...         1      Positive\n",
       "4                           He didn’t say thank you.         0       Neutral\n",
       "5  Hoping to ejaculate in wet warm puss tonight, ...         1      Positive\n",
       "6  Trump will respond to china increasing their t...        -1      Negative\n",
       "7  Confirmed not a trap. Its been like this for p...         1      Positive\n",
       "8  Am I the only one seeing the cup & handle brea...         1      Positive\n",
       "9  HLGN is $10. Hurry and catch it now before it ...         0       Neutral"
      ]
     },
     "execution_count": 563,
     "metadata": {},
     "output_type": "execute_result"
    }
   ],
   "source": [
    "X[0:10]"
   ]
  },
  {
   "cell_type": "markdown",
   "metadata": {},
   "source": [
    "---"
   ]
  },
  {
   "cell_type": "markdown",
   "metadata": {},
   "source": [
    "### 3.2 Familiarizing yourself with the Data"
   ]
  },
  {
   "cell_type": "markdown",
   "metadata": {},
   "source": [
    "To query for the first 10 rows (documents), and keep the `text` and `category_name` attributes or fields."
   ]
  },
  {
   "cell_type": "code",
   "execution_count": 564,
   "metadata": {},
   "outputs": [
    {
     "data": {
      "text/html": [
       "<div>\n",
       "<style scoped>\n",
       "    .dataframe tbody tr th:only-of-type {\n",
       "        vertical-align: middle;\n",
       "    }\n",
       "\n",
       "    .dataframe tbody tr th {\n",
       "        vertical-align: top;\n",
       "    }\n",
       "\n",
       "    .dataframe thead th {\n",
       "        text-align: right;\n",
       "    }\n",
       "</style>\n",
       "<table border=\"1\" class=\"dataframe\">\n",
       "  <thead>\n",
       "    <tr style=\"text-align: right;\">\n",
       "      <th></th>\n",
       "      <th>text</th>\n",
       "      <th>category_name</th>\n",
       "    </tr>\n",
       "  </thead>\n",
       "  <tbody>\n",
       "    <tr>\n",
       "      <th>0</th>\n",
       "      <td>Calls on retards</td>\n",
       "      <td>Negative</td>\n",
       "    </tr>\n",
       "    <tr>\n",
       "      <th>1</th>\n",
       "      <td>Stunt as in like why did they even make a big ...</td>\n",
       "      <td>Positive</td>\n",
       "    </tr>\n",
       "    <tr>\n",
       "      <th>2</th>\n",
       "      <td>Seeing lots of red in the ticker.</td>\n",
       "      <td>Neutral</td>\n",
       "    </tr>\n",
       "    <tr>\n",
       "      <th>3</th>\n",
       "      <td>Vision Marine Technologies Inc. is rewriting t...</td>\n",
       "      <td>Positive</td>\n",
       "    </tr>\n",
       "    <tr>\n",
       "      <th>4</th>\n",
       "      <td>He didn’t say thank you.</td>\n",
       "      <td>Neutral</td>\n",
       "    </tr>\n",
       "    <tr>\n",
       "      <th>5</th>\n",
       "      <td>Hoping to ejaculate in wet warm puss tonight, ...</td>\n",
       "      <td>Positive</td>\n",
       "    </tr>\n",
       "    <tr>\n",
       "      <th>6</th>\n",
       "      <td>Trump will respond to china increasing their t...</td>\n",
       "      <td>Negative</td>\n",
       "    </tr>\n",
       "    <tr>\n",
       "      <th>7</th>\n",
       "      <td>Confirmed not a trap. Its been like this for p...</td>\n",
       "      <td>Positive</td>\n",
       "    </tr>\n",
       "    <tr>\n",
       "      <th>8</th>\n",
       "      <td>Am I the only one seeing the cup &amp; handle brea...</td>\n",
       "      <td>Positive</td>\n",
       "    </tr>\n",
       "    <tr>\n",
       "      <th>9</th>\n",
       "      <td>HLGN is $10. Hurry and catch it now before it ...</td>\n",
       "      <td>Neutral</td>\n",
       "    </tr>\n",
       "  </tbody>\n",
       "</table>\n",
       "</div>"
      ],
      "text/plain": [
       "                                                text category_name\n",
       "0                                   Calls on retards      Negative\n",
       "1  Stunt as in like why did they even make a big ...      Positive\n",
       "2                  Seeing lots of red in the ticker.       Neutral\n",
       "3  Vision Marine Technologies Inc. is rewriting t...      Positive\n",
       "4                           He didn’t say thank you.       Neutral\n",
       "5  Hoping to ejaculate in wet warm puss tonight, ...      Positive\n",
       "6  Trump will respond to china increasing their t...      Negative\n",
       "7  Confirmed not a trap. Its been like this for p...      Positive\n",
       "8  Am I the only one seeing the cup & handle brea...      Positive\n",
       "9  HLGN is $10. Hurry and catch it now before it ...       Neutral"
      ]
     },
     "execution_count": 564,
     "metadata": {},
     "output_type": "execute_result"
    }
   ],
   "source": [
    "# a simple query\n",
    "X[:10][[\"text\",\"category_name\"]]"
   ]
  },
  {
   "cell_type": "markdown",
   "metadata": {},
   "source": [
    "#### Let's query the last 10 records"
   ]
  },
  {
   "cell_type": "code",
   "execution_count": 565,
   "metadata": {},
   "outputs": [
    {
     "data": {
      "text/html": [
       "<div>\n",
       "<style scoped>\n",
       "    .dataframe tbody tr th:only-of-type {\n",
       "        vertical-align: middle;\n",
       "    }\n",
       "\n",
       "    .dataframe tbody tr th {\n",
       "        vertical-align: top;\n",
       "    }\n",
       "\n",
       "    .dataframe thead th {\n",
       "        text-align: right;\n",
       "    }\n",
       "</style>\n",
       "<table border=\"1\" class=\"dataframe\">\n",
       "  <thead>\n",
       "    <tr style=\"text-align: right;\">\n",
       "      <th></th>\n",
       "      <th>text</th>\n",
       "      <th>category</th>\n",
       "      <th>category_name</th>\n",
       "    </tr>\n",
       "  </thead>\n",
       "  <tbody>\n",
       "    <tr>\n",
       "      <th>837</th>\n",
       "      <td>Finance media lying   *Surprise*</td>\n",
       "      <td>0</td>\n",
       "      <td>Neutral</td>\n",
       "    </tr>\n",
       "    <tr>\n",
       "      <th>838</th>\n",
       "      <td>I am all in</td>\n",
       "      <td>0</td>\n",
       "      <td>Neutral</td>\n",
       "    </tr>\n",
       "    <tr>\n",
       "      <th>839</th>\n",
       "      <td>The Art of the Deal…</td>\n",
       "      <td>0</td>\n",
       "      <td>Neutral</td>\n",
       "    </tr>\n",
       "    <tr>\n",
       "      <th>840</th>\n",
       "      <td>Lol fr</td>\n",
       "      <td>1</td>\n",
       "      <td>Positive</td>\n",
       "    </tr>\n",
       "    <tr>\n",
       "      <th>841</th>\n",
       "      <td>So countries “begging to stop the tariffs” and...</td>\n",
       "      <td>0</td>\n",
       "      <td>Neutral</td>\n",
       "    </tr>\n",
       "    <tr>\n",
       "      <th>842</th>\n",
       "      <td>Invest now it is going to shoot up tomorrow</td>\n",
       "      <td>0</td>\n",
       "      <td>Neutral</td>\n",
       "    </tr>\n",
       "    <tr>\n",
       "      <th>843</th>\n",
       "      <td>Where can I read this?</td>\n",
       "      <td>0</td>\n",
       "      <td>Neutral</td>\n",
       "    </tr>\n",
       "    <tr>\n",
       "      <th>844</th>\n",
       "      <td>Upgrades, Downgrades   [Stock Analyst Recommen...</td>\n",
       "      <td>0</td>\n",
       "      <td>Neutral</td>\n",
       "    </tr>\n",
       "    <tr>\n",
       "      <th>845</th>\n",
       "      <td>i sold my puts so i expect cheeto to declare w...</td>\n",
       "      <td>0</td>\n",
       "      <td>Neutral</td>\n",
       "    </tr>\n",
       "    <tr>\n",
       "      <th>846</th>\n",
       "      <td>![img](emote|t5_2th52|31224)</td>\n",
       "      <td>0</td>\n",
       "      <td>Neutral</td>\n",
       "    </tr>\n",
       "  </tbody>\n",
       "</table>\n",
       "</div>"
      ],
      "text/plain": [
       "                                                  text  category category_name\n",
       "837                   Finance media lying   *Surprise*         0       Neutral\n",
       "838                                        I am all in         0       Neutral\n",
       "839                               The Art of the Deal…         0       Neutral\n",
       "840                                             Lol fr         1      Positive\n",
       "841  So countries “begging to stop the tariffs” and...         0       Neutral\n",
       "842        Invest now it is going to shoot up tomorrow         0       Neutral\n",
       "843                             Where can I read this?         0       Neutral\n",
       "844  Upgrades, Downgrades   [Stock Analyst Recommen...         0       Neutral\n",
       "845  i sold my puts so i expect cheeto to declare w...         0       Neutral\n",
       "846                       ![img](emote|t5_2th52|31224)         0       Neutral"
      ]
     },
     "execution_count": 565,
     "metadata": {},
     "output_type": "execute_result"
    }
   ],
   "source": [
    "X[-10:]"
   ]
  },
  {
   "cell_type": "markdown",
   "metadata": {},
   "source": [
    "Build-in function called `loc` allows to explicity define the columns to query."
   ]
  },
  {
   "cell_type": "code",
   "execution_count": 566,
   "metadata": {},
   "outputs": [
    {
     "data": {
      "text/plain": [
       "0                                      Calls on retards\n",
       "1     Stunt as in like why did they even make a big ...\n",
       "2                     Seeing lots of red in the ticker.\n",
       "3     Vision Marine Technologies Inc. is rewriting t...\n",
       "4                              He didn’t say thank you.\n",
       "5     Hoping to ejaculate in wet warm puss tonight, ...\n",
       "6     Trump will respond to china increasing their t...\n",
       "7     Confirmed not a trap. Its been like this for p...\n",
       "8     Am I the only one seeing the cup & handle brea...\n",
       "9     HLGN is $10. Hurry and catch it now before it ...\n",
       "10         It's a copy/paste from a Bloomberg terminal.\n",
       "Name: text, dtype: object"
      ]
     },
     "execution_count": 566,
     "metadata": {},
     "output_type": "execute_result"
    }
   ],
   "source": [
    "# using loc (by label)\n",
    "X.loc[:10, 'text']"
   ]
  },
  {
   "cell_type": "markdown",
   "metadata": {},
   "source": [
    "`iloc` function to query a selection dataset by position. "
   ]
  },
  {
   "cell_type": "code",
   "execution_count": 567,
   "metadata": {},
   "outputs": [
    {
     "data": {
      "text/plain": [
       "0                                     Calls on retards\n",
       "1    Stunt as in like why did they even make a big ...\n",
       "2                    Seeing lots of red in the ticker.\n",
       "3    Vision Marine Technologies Inc. is rewriting t...\n",
       "4                             He didn’t say thank you.\n",
       "5    Hoping to ejaculate in wet warm puss tonight, ...\n",
       "6    Trump will respond to china increasing their t...\n",
       "7    Confirmed not a trap. Its been like this for p...\n",
       "8    Am I the only one seeing the cup & handle brea...\n",
       "9    HLGN is $10. Hurry and catch it now before it ...\n",
       "Name: text, dtype: object"
      ]
     },
     "execution_count": 567,
     "metadata": {},
     "output_type": "execute_result"
    }
   ],
   "source": [
    "# using iloc (by position)\n",
    "X.iloc[:10, 0]"
   ]
  },
  {
   "cell_type": "markdown",
   "metadata": {},
   "source": [
    "### **>>> Exercise 2 (take home):** \n",
    "Other querying techniques using pandas dataframes."
   ]
  },
  {
   "cell_type": "code",
   "execution_count": 568,
   "metadata": {},
   "outputs": [
    {
     "name": "stdout",
     "output_type": "stream",
     "text": [
      "                                                text  category category_name\n",
      "0                                   Calls on retards        -1      Negative\n",
      "1  Stunt as in like why did they even make a big ...         1      Positive\n",
      "2                  Seeing lots of red in the ticker.         0       Neutral\n",
      "3  Vision Marine Technologies Inc. is rewriting t...         1      Positive\n",
      "4                           He didn’t say thank you.         0       Neutral\n",
      "5  Hoping to ejaculate in wet warm puss tonight, ...         1      Positive\n",
      "6  Trump will respond to china increasing their t...        -1      Negative\n",
      "7  Confirmed not a trap. Its been like this for p...         1      Positive\n",
      "8  Am I the only one seeing the cup & handle brea...         1      Positive\n",
      "9  HLGN is $10. Hurry and catch it now before it ...         0       Neutral\n",
      "                                                text category_name\n",
      "0                                   Calls on retards      Negative\n",
      "1  Stunt as in like why did they even make a big ...      Positive\n",
      "2                  Seeing lots of red in the ticker.       Neutral\n",
      "3  Vision Marine Technologies Inc. is rewriting t...      Positive\n",
      "4                           He didn’t say thank you.       Neutral\n",
      "5  Hoping to ejaculate in wet warm puss tonight, ...      Positive\n",
      "6  Trump will respond to china increasing their t...      Negative\n",
      "7  Confirmed not a trap. Its been like this for p...      Positive\n",
      "8  Am I the only one seeing the cup & handle brea...      Positive\n",
      "9  HLGN is $10. Hurry and catch it now before it ...       Neutral\n",
      "                                                  text  category category_name\n",
      "0                                     Calls on retards        -1      Negative\n",
      "1    Stunt as in like why did they even make a big ...         1      Positive\n",
      "2                    Seeing lots of red in the ticker.         0       Neutral\n",
      "3    Vision Marine Technologies Inc. is rewriting t...         1      Positive\n",
      "4                             He didn’t say thank you.         0       Neutral\n",
      "..                                                 ...       ...           ...\n",
      "832                             NICE. Cannot complain.         1      Positive\n",
      "833  LVMH (MC)-31.42%  Disney (DIS)-17.03%   Apple ...         0       Neutral\n",
      "834  There's going to be 4 years of this shit. How ...        -1      Negative\n",
      "835  I was also disappointed to see it mentioned in...        -1      Negative\n",
      "836  how does the futures market look today  SPY, E...         1      Positive\n",
      "\n",
      "[837 rows x 3 columns]\n"
     ]
    }
   ],
   "source": [
    "#Answer here\n",
    "# to query for the first 10 rows \n",
    "print(X.head(10))\n",
    "\n",
    "# to keep the `text` and `category_name` attributes or fields\n",
    "print(X.head(10).filter(items=['text', 'category_name']))\n",
    "\n",
    "# to query the last 10 records\n",
    "print(X.head(-10))"
   ]
  },
  {
   "cell_type": "markdown",
   "metadata": {},
   "source": [
    "---"
   ]
  },
  {
   "cell_type": "markdown",
   "metadata": {},
   "source": [
    "### **>>> Exercise 3 (Watch Video):**  \n",
    "Try to fetch records belonging to the category, and query every 10th record. Only show the first 5 records."
   ]
  },
  {
   "cell_type": "code",
   "execution_count": 569,
   "metadata": {},
   "outputs": [
    {
     "data": {
      "text/html": [
       "<div>\n",
       "<style scoped>\n",
       "    .dataframe tbody tr th:only-of-type {\n",
       "        vertical-align: middle;\n",
       "    }\n",
       "\n",
       "    .dataframe tbody tr th {\n",
       "        vertical-align: top;\n",
       "    }\n",
       "\n",
       "    .dataframe thead th {\n",
       "        text-align: right;\n",
       "    }\n",
       "</style>\n",
       "<table border=\"1\" class=\"dataframe\">\n",
       "  <thead>\n",
       "    <tr style=\"text-align: right;\">\n",
       "      <th></th>\n",
       "      <th>text</th>\n",
       "      <th>category</th>\n",
       "      <th>category_name</th>\n",
       "    </tr>\n",
       "  </thead>\n",
       "  <tbody>\n",
       "    <tr>\n",
       "      <th>1</th>\n",
       "      <td>Stunt as in like why did they even make a big ...</td>\n",
       "      <td>1</td>\n",
       "      <td>Positive</td>\n",
       "    </tr>\n",
       "    <tr>\n",
       "      <th>25</th>\n",
       "      <td>You see, Target, pissing off a good chunk of y...</td>\n",
       "      <td>1</td>\n",
       "      <td>Positive</td>\n",
       "    </tr>\n",
       "    <tr>\n",
       "      <th>56</th>\n",
       "      <td>To be fair, Chinese exports to the US make up ...</td>\n",
       "      <td>1</td>\n",
       "      <td>Positive</td>\n",
       "    </tr>\n",
       "    <tr>\n",
       "      <th>73</th>\n",
       "      <td>Look,  the USA somehow thought a second term f...</td>\n",
       "      <td>1</td>\n",
       "      <td>Positive</td>\n",
       "    </tr>\n",
       "    <tr>\n",
       "      <th>96</th>\n",
       "      <td>200k loss in a month.. haha</td>\n",
       "      <td>1</td>\n",
       "      <td>Positive</td>\n",
       "    </tr>\n",
       "  </tbody>\n",
       "</table>\n",
       "</div>"
      ],
      "text/plain": [
       "                                                 text  category category_name\n",
       "1   Stunt as in like why did they even make a big ...         1      Positive\n",
       "25  You see, Target, pissing off a good chunk of y...         1      Positive\n",
       "56  To be fair, Chinese exports to the US make up ...         1      Positive\n",
       "73  Look,  the USA somehow thought a second term f...         1      Positive\n",
       "96                        200k loss in a month.. haha         1      Positive"
      ]
     },
     "execution_count": 569,
     "metadata": {},
     "output_type": "execute_result"
    }
   ],
   "source": [
    "# Answer here\n",
    "X[X['category_name']=='Positive'][::10][0:5]"
   ]
  },
  {
   "cell_type": "markdown",
   "metadata": {},
   "source": [
    "---"
   ]
  },
  {
   "cell_type": "markdown",
   "metadata": {},
   "source": [
    "## 4. Data Mining using Pandas"
   ]
  },
  {
   "cell_type": "markdown",
   "metadata": {},
   "source": [
    "### 4.1 Missing Values"
   ]
  },
  {
   "cell_type": "markdown",
   "metadata": {},
   "source": [
    "Add the dummy records with missing values"
   ]
  },
  {
   "cell_type": "code",
   "execution_count": 570,
   "metadata": {},
   "outputs": [
    {
     "data": {
      "text/html": [
       "<div>\n",
       "<style scoped>\n",
       "    .dataframe tbody tr th:only-of-type {\n",
       "        vertical-align: middle;\n",
       "    }\n",
       "\n",
       "    .dataframe tbody tr th {\n",
       "        vertical-align: top;\n",
       "    }\n",
       "\n",
       "    .dataframe thead th {\n",
       "        text-align: right;\n",
       "    }\n",
       "</style>\n",
       "<table border=\"1\" class=\"dataframe\">\n",
       "  <thead>\n",
       "    <tr style=\"text-align: right;\">\n",
       "      <th></th>\n",
       "      <th>text</th>\n",
       "      <th>category</th>\n",
       "      <th>category_name</th>\n",
       "    </tr>\n",
       "  </thead>\n",
       "  <tbody>\n",
       "    <tr>\n",
       "      <th>0</th>\n",
       "      <td>False</td>\n",
       "      <td>False</td>\n",
       "      <td>False</td>\n",
       "    </tr>\n",
       "    <tr>\n",
       "      <th>1</th>\n",
       "      <td>False</td>\n",
       "      <td>False</td>\n",
       "      <td>False</td>\n",
       "    </tr>\n",
       "    <tr>\n",
       "      <th>2</th>\n",
       "      <td>False</td>\n",
       "      <td>False</td>\n",
       "      <td>False</td>\n",
       "    </tr>\n",
       "    <tr>\n",
       "      <th>3</th>\n",
       "      <td>False</td>\n",
       "      <td>False</td>\n",
       "      <td>False</td>\n",
       "    </tr>\n",
       "    <tr>\n",
       "      <th>4</th>\n",
       "      <td>False</td>\n",
       "      <td>False</td>\n",
       "      <td>False</td>\n",
       "    </tr>\n",
       "    <tr>\n",
       "      <th>...</th>\n",
       "      <td>...</td>\n",
       "      <td>...</td>\n",
       "      <td>...</td>\n",
       "    </tr>\n",
       "    <tr>\n",
       "      <th>842</th>\n",
       "      <td>False</td>\n",
       "      <td>False</td>\n",
       "      <td>False</td>\n",
       "    </tr>\n",
       "    <tr>\n",
       "      <th>843</th>\n",
       "      <td>False</td>\n",
       "      <td>False</td>\n",
       "      <td>False</td>\n",
       "    </tr>\n",
       "    <tr>\n",
       "      <th>844</th>\n",
       "      <td>False</td>\n",
       "      <td>False</td>\n",
       "      <td>False</td>\n",
       "    </tr>\n",
       "    <tr>\n",
       "      <th>845</th>\n",
       "      <td>False</td>\n",
       "      <td>False</td>\n",
       "      <td>False</td>\n",
       "    </tr>\n",
       "    <tr>\n",
       "      <th>846</th>\n",
       "      <td>False</td>\n",
       "      <td>False</td>\n",
       "      <td>False</td>\n",
       "    </tr>\n",
       "  </tbody>\n",
       "</table>\n",
       "<p>847 rows × 3 columns</p>\n",
       "</div>"
      ],
      "text/plain": [
       "      text  category  category_name\n",
       "0    False     False          False\n",
       "1    False     False          False\n",
       "2    False     False          False\n",
       "3    False     False          False\n",
       "4    False     False          False\n",
       "..     ...       ...            ...\n",
       "842  False     False          False\n",
       "843  False     False          False\n",
       "844  False     False          False\n",
       "845  False     False          False\n",
       "846  False     False          False\n",
       "\n",
       "[847 rows x 3 columns]"
      ]
     },
     "execution_count": 570,
     "metadata": {},
     "output_type": "execute_result"
    }
   ],
   "source": [
    "# check missing values\n",
    "X.isnull()"
   ]
  },
  {
   "cell_type": "markdown",
   "metadata": {},
   "source": [
    "`isnull` function looks through the entire dataset for null values and returns `True` "
   ]
  },
  {
   "cell_type": "code",
   "execution_count": 571,
   "metadata": {},
   "outputs": [
    {
     "data": {
      "text/html": [
       "<div>\n",
       "<style scoped>\n",
       "    .dataframe tbody tr th:only-of-type {\n",
       "        vertical-align: middle;\n",
       "    }\n",
       "\n",
       "    .dataframe tbody tr th {\n",
       "        vertical-align: top;\n",
       "    }\n",
       "\n",
       "    .dataframe thead th {\n",
       "        text-align: right;\n",
       "    }\n",
       "</style>\n",
       "<table border=\"1\" class=\"dataframe\">\n",
       "  <thead>\n",
       "    <tr style=\"text-align: right;\">\n",
       "      <th></th>\n",
       "      <th>text</th>\n",
       "      <th>category</th>\n",
       "      <th>category_name</th>\n",
       "    </tr>\n",
       "  </thead>\n",
       "  <tbody>\n",
       "    <tr>\n",
       "      <th>0</th>\n",
       "      <td>The amoung of missing records is:</td>\n",
       "      <td>The amoung of missing records is:</td>\n",
       "      <td>The amoung of missing records is:</td>\n",
       "    </tr>\n",
       "    <tr>\n",
       "      <th>1</th>\n",
       "      <td>0</td>\n",
       "      <td>0</td>\n",
       "      <td>0</td>\n",
       "    </tr>\n",
       "  </tbody>\n",
       "</table>\n",
       "</div>"
      ],
      "text/plain": [
       "                                 text                            category  \\\n",
       "0  The amoung of missing records is:   The amoung of missing records is:    \n",
       "1                                   0                                   0   \n",
       "\n",
       "                        category_name  \n",
       "0  The amoung of missing records is:   \n",
       "1                                   0  "
      ]
     },
     "execution_count": 571,
     "metadata": {},
     "output_type": "execute_result"
    }
   ],
   "source": [
    "X.isnull().apply(lambda x: dmh.check_missing_values(x))"
   ]
  },
  {
   "cell_type": "markdown",
   "metadata": {},
   "source": [
    "---"
   ]
  },
  {
   "cell_type": "markdown",
   "metadata": {},
   "source": [
    "### >>> **Exercise 4 (Watch Video):** \n",
    "To calculate the missing values in every record instead of every column.  \n",
    "$Hint$ : `axis` parameter. Check the documentation for more information."
   ]
  },
  {
   "cell_type": "code",
   "execution_count": 572,
   "metadata": {},
   "outputs": [
    {
     "data": {
      "text/plain": [
       "0      (The amoung of missing records is: , 0)\n",
       "1      (The amoung of missing records is: , 0)\n",
       "2      (The amoung of missing records is: , 0)\n",
       "3      (The amoung of missing records is: , 0)\n",
       "4      (The amoung of missing records is: , 0)\n",
       "                        ...                   \n",
       "842    (The amoung of missing records is: , 0)\n",
       "843    (The amoung of missing records is: , 0)\n",
       "844    (The amoung of missing records is: , 0)\n",
       "845    (The amoung of missing records is: , 0)\n",
       "846    (The amoung of missing records is: , 0)\n",
       "Length: 847, dtype: object"
      ]
     },
     "execution_count": 572,
     "metadata": {},
     "output_type": "execute_result"
    }
   ],
   "source": [
    "# Answer here\n",
    "X.isnull().apply(lambda x: dmh.check_missing_values(x), axis = 1)"
   ]
  },
  {
   "cell_type": "markdown",
   "metadata": {},
   "source": [
    "---"
   ]
  },
  {
   "cell_type": "markdown",
   "metadata": {},
   "source": [
    "Insert some dummy data into the dataframe and test the reliability of the function.\n",
    "`Series` basically a \"one-dimensional labeled array capable of holding data of any type (integer, string, float, python objects, etc.). "
   ]
  },
  {
   "cell_type": "code",
   "execution_count": 573,
   "metadata": {},
   "outputs": [],
   "source": [
    "# Axis labels called \"index\"\n",
    "dummy_series = pd.Series([\"dummy_record\", 1], index=[\"text\", \"category\"])"
   ]
  },
  {
   "cell_type": "code",
   "execution_count": 574,
   "metadata": {},
   "outputs": [
    {
     "data": {
      "text/plain": [
       "text        dummy_record\n",
       "category               1\n",
       "dtype: object"
      ]
     },
     "execution_count": 574,
     "metadata": {},
     "output_type": "execute_result"
    }
   ],
   "source": [
    "dummy_series"
   ]
  },
  {
   "cell_type": "code",
   "execution_count": 575,
   "metadata": {},
   "outputs": [
    {
     "data": {
      "text/html": [
       "<div>\n",
       "<style scoped>\n",
       "    .dataframe tbody tr th:only-of-type {\n",
       "        vertical-align: middle;\n",
       "    }\n",
       "\n",
       "    .dataframe tbody tr th {\n",
       "        vertical-align: top;\n",
       "    }\n",
       "\n",
       "    .dataframe thead th {\n",
       "        text-align: right;\n",
       "    }\n",
       "</style>\n",
       "<table border=\"1\" class=\"dataframe\">\n",
       "  <thead>\n",
       "    <tr style=\"text-align: right;\">\n",
       "      <th></th>\n",
       "      <th>text</th>\n",
       "      <th>category</th>\n",
       "    </tr>\n",
       "  </thead>\n",
       "  <tbody>\n",
       "    <tr>\n",
       "      <th>0</th>\n",
       "      <td>dummy_record</td>\n",
       "      <td>1</td>\n",
       "    </tr>\n",
       "  </tbody>\n",
       "</table>\n",
       "</div>"
      ],
      "text/plain": [
       "           text category\n",
       "0  dummy_record        1"
      ]
     },
     "execution_count": 575,
     "metadata": {},
     "output_type": "execute_result"
    }
   ],
   "source": [
    "dummy_series.to_frame().T\n",
    "# .to_frame() -> Convert Series to DataFrame\n",
    "# .T          -> Transpose"
   ]
  },
  {
   "cell_type": "code",
   "execution_count": 576,
   "metadata": {},
   "outputs": [],
   "source": [
    "result_with_series = pd.concat([X, dummy_series.to_frame().T], ignore_index=True)"
   ]
  },
  {
   "cell_type": "code",
   "execution_count": 577,
   "metadata": {},
   "outputs": [
    {
     "data": {
      "text/plain": [
       "848"
      ]
     },
     "execution_count": 577,
     "metadata": {},
     "output_type": "execute_result"
    }
   ],
   "source": [
    "# check if the records was commited into result\n",
    "len(result_with_series)"
   ]
  },
  {
   "cell_type": "markdown",
   "metadata": {},
   "source": [
    "Add the record with some missing values.\n",
    "Detect that there is a missing value on the resulting dataframe or not."
   ]
  },
  {
   "cell_type": "code",
   "execution_count": 578,
   "metadata": {},
   "outputs": [
    {
     "data": {
      "text/html": [
       "<div>\n",
       "<style scoped>\n",
       "    .dataframe tbody tr th:only-of-type {\n",
       "        vertical-align: middle;\n",
       "    }\n",
       "\n",
       "    .dataframe tbody tr th {\n",
       "        vertical-align: top;\n",
       "    }\n",
       "\n",
       "    .dataframe thead th {\n",
       "        text-align: right;\n",
       "    }\n",
       "</style>\n",
       "<table border=\"1\" class=\"dataframe\">\n",
       "  <thead>\n",
       "    <tr style=\"text-align: right;\">\n",
       "      <th></th>\n",
       "      <th>text</th>\n",
       "      <th>category</th>\n",
       "      <th>category_name</th>\n",
       "    </tr>\n",
       "  </thead>\n",
       "  <tbody>\n",
       "    <tr>\n",
       "      <th>0</th>\n",
       "      <td>The amoung of missing records is:</td>\n",
       "      <td>The amoung of missing records is:</td>\n",
       "      <td>The amoung of missing records is:</td>\n",
       "    </tr>\n",
       "    <tr>\n",
       "      <th>1</th>\n",
       "      <td>0</td>\n",
       "      <td>0</td>\n",
       "      <td>1</td>\n",
       "    </tr>\n",
       "  </tbody>\n",
       "</table>\n",
       "</div>"
      ],
      "text/plain": [
       "                                 text                            category  \\\n",
       "0  The amoung of missing records is:   The amoung of missing records is:    \n",
       "1                                   0                                   0   \n",
       "\n",
       "                        category_name  \n",
       "0  The amoung of missing records is:   \n",
       "1                                   1  "
      ]
     },
     "execution_count": 578,
     "metadata": {},
     "output_type": "execute_result"
    }
   ],
   "source": [
    "result_with_series.isnull().apply(lambda x: dmh.check_missing_values(x))"
   ]
  },
  {
   "cell_type": "markdown",
   "metadata": {},
   "source": [
    "Insert a simple dictionary directly into the dataframe `X`. "
   ]
  },
  {
   "cell_type": "code",
   "execution_count": 579,
   "metadata": {},
   "outputs": [],
   "source": [
    "# dummy record as dictionary format\n",
    "dummy_dict = [{'text': 'dummy_record',\n",
    "               'category': 1\n",
    "              }]"
   ]
  },
  {
   "cell_type": "code",
   "execution_count": 580,
   "metadata": {},
   "outputs": [],
   "source": [
    "X = pd.concat([X, pd.DataFrame(dummy_dict)], ignore_index=True)"
   ]
  },
  {
   "cell_type": "code",
   "execution_count": 581,
   "metadata": {},
   "outputs": [
    {
     "data": {
      "text/plain": [
       "848"
      ]
     },
     "execution_count": 581,
     "metadata": {},
     "output_type": "execute_result"
    }
   ],
   "source": [
    "len(X)"
   ]
  },
  {
   "cell_type": "code",
   "execution_count": 582,
   "metadata": {},
   "outputs": [
    {
     "data": {
      "text/html": [
       "<div>\n",
       "<style scoped>\n",
       "    .dataframe tbody tr th:only-of-type {\n",
       "        vertical-align: middle;\n",
       "    }\n",
       "\n",
       "    .dataframe tbody tr th {\n",
       "        vertical-align: top;\n",
       "    }\n",
       "\n",
       "    .dataframe thead th {\n",
       "        text-align: right;\n",
       "    }\n",
       "</style>\n",
       "<table border=\"1\" class=\"dataframe\">\n",
       "  <thead>\n",
       "    <tr style=\"text-align: right;\">\n",
       "      <th></th>\n",
       "      <th>text</th>\n",
       "      <th>category</th>\n",
       "      <th>category_name</th>\n",
       "    </tr>\n",
       "  </thead>\n",
       "  <tbody>\n",
       "    <tr>\n",
       "      <th>0</th>\n",
       "      <td>The amoung of missing records is:</td>\n",
       "      <td>The amoung of missing records is:</td>\n",
       "      <td>The amoung of missing records is:</td>\n",
       "    </tr>\n",
       "    <tr>\n",
       "      <th>1</th>\n",
       "      <td>0</td>\n",
       "      <td>0</td>\n",
       "      <td>1</td>\n",
       "    </tr>\n",
       "  </tbody>\n",
       "</table>\n",
       "</div>"
      ],
      "text/plain": [
       "                                 text                            category  \\\n",
       "0  The amoung of missing records is:   The amoung of missing records is:    \n",
       "1                                   0                                   0   \n",
       "\n",
       "                        category_name  \n",
       "0  The amoung of missing records is:   \n",
       "1                                   1  "
      ]
     },
     "execution_count": 582,
     "metadata": {},
     "output_type": "execute_result"
    }
   ],
   "source": [
    "X.isnull().apply(lambda x: dmh.check_missing_values(x))"
   ]
  },
  {
   "cell_type": "markdown",
   "metadata": {},
   "source": [
    "The code to drop the record with missing."
   ]
  },
  {
   "cell_type": "code",
   "execution_count": 583,
   "metadata": {},
   "outputs": [],
   "source": [
    "X.dropna(inplace=True)"
   ]
  },
  {
   "cell_type": "code",
   "execution_count": 584,
   "metadata": {},
   "outputs": [
    {
     "data": {
      "text/html": [
       "<div>\n",
       "<style scoped>\n",
       "    .dataframe tbody tr th:only-of-type {\n",
       "        vertical-align: middle;\n",
       "    }\n",
       "\n",
       "    .dataframe tbody tr th {\n",
       "        vertical-align: top;\n",
       "    }\n",
       "\n",
       "    .dataframe thead th {\n",
       "        text-align: right;\n",
       "    }\n",
       "</style>\n",
       "<table border=\"1\" class=\"dataframe\">\n",
       "  <thead>\n",
       "    <tr style=\"text-align: right;\">\n",
       "      <th></th>\n",
       "      <th>text</th>\n",
       "      <th>category</th>\n",
       "      <th>category_name</th>\n",
       "    </tr>\n",
       "  </thead>\n",
       "  <tbody>\n",
       "    <tr>\n",
       "      <th>0</th>\n",
       "      <td>The amoung of missing records is:</td>\n",
       "      <td>The amoung of missing records is:</td>\n",
       "      <td>The amoung of missing records is:</td>\n",
       "    </tr>\n",
       "    <tr>\n",
       "      <th>1</th>\n",
       "      <td>0</td>\n",
       "      <td>0</td>\n",
       "      <td>0</td>\n",
       "    </tr>\n",
       "  </tbody>\n",
       "</table>\n",
       "</div>"
      ],
      "text/plain": [
       "                                 text                            category  \\\n",
       "0  The amoung of missing records is:   The amoung of missing records is:    \n",
       "1                                   0                                   0   \n",
       "\n",
       "                        category_name  \n",
       "0  The amoung of missing records is:   \n",
       "1                                   0  "
      ]
     },
     "execution_count": 584,
     "metadata": {},
     "output_type": "execute_result"
    }
   ],
   "source": [
    "X.isnull().apply(lambda x: dmh.check_missing_values(x))"
   ]
  },
  {
   "cell_type": "code",
   "execution_count": 585,
   "metadata": {},
   "outputs": [
    {
     "data": {
      "text/plain": [
       "847"
      ]
     },
     "execution_count": 585,
     "metadata": {},
     "output_type": "execute_result"
    }
   ],
   "source": [
    "len(X)"
   ]
  },
  {
   "cell_type": "markdown",
   "metadata": {},
   "source": [
    "---"
   ]
  },
  {
   "cell_type": "markdown",
   "metadata": {},
   "source": [
    "### 4.2 Dealing with Duplicate Data"
   ]
  },
  {
   "cell_type": "markdown",
   "metadata": {},
   "source": [
    "Check how many duplicates in the current dataset. \n",
    "Similar to the `isnull` function used to check for missing values. "
   ]
  },
  {
   "cell_type": "code",
   "execution_count": 586,
   "metadata": {},
   "outputs": [
    {
     "data": {
      "text/plain": [
       "0      False\n",
       "1      False\n",
       "2      False\n",
       "3      False\n",
       "4      False\n",
       "       ...  \n",
       "842    False\n",
       "843    False\n",
       "844     True\n",
       "845    False\n",
       "846    False\n",
       "Length: 847, dtype: bool"
      ]
     },
     "execution_count": 586,
     "metadata": {},
     "output_type": "execute_result"
    }
   ],
   "source": [
    "X.duplicated()"
   ]
  },
  {
   "cell_type": "markdown",
   "metadata": {},
   "source": [
    "Check the sum of duplicate records:"
   ]
  },
  {
   "cell_type": "code",
   "execution_count": 587,
   "metadata": {},
   "outputs": [
    {
     "data": {
      "text/plain": [
       "23"
      ]
     },
     "execution_count": 587,
     "metadata": {},
     "output_type": "execute_result"
    }
   ],
   "source": [
    "sum(X.duplicated())"
   ]
  },
  {
   "cell_type": "markdown",
   "metadata": {},
   "source": [
    "all the `duplicated()` operation check per records instead of per column. "
   ]
  },
  {
   "cell_type": "code",
   "execution_count": 588,
   "metadata": {},
   "outputs": [
    {
     "data": {
      "text/plain": [
       "23"
      ]
     },
     "execution_count": 588,
     "metadata": {},
     "output_type": "execute_result"
    }
   ],
   "source": [
    "sum(X.duplicated('text'))"
   ]
  },
  {
   "cell_type": "markdown",
   "metadata": {},
   "source": [
    "Create some duplicated dummy records and append it to the main dataframe `X`."
   ]
  },
  {
   "cell_type": "code",
   "execution_count": 589,
   "metadata": {},
   "outputs": [],
   "source": [
    "dummy_duplicate_dict = [{\n",
    "                             'text': 'dummy record',\n",
    "                             'category': 1, \n",
    "                             'category_name': \"dummy category\"\n",
    "                        },\n",
    "                        {\n",
    "                             'text': 'dummy record',\n",
    "                             'category': 1, \n",
    "                             'category_name': \"dummy category\"\n",
    "                        }]"
   ]
  },
  {
   "cell_type": "code",
   "execution_count": 590,
   "metadata": {},
   "outputs": [],
   "source": [
    "X = pd.concat([X, pd.DataFrame(dummy_duplicate_dict)], ignore_index=True)"
   ]
  },
  {
   "cell_type": "code",
   "execution_count": 591,
   "metadata": {},
   "outputs": [
    {
     "data": {
      "text/plain": [
       "849"
      ]
     },
     "execution_count": 591,
     "metadata": {},
     "output_type": "execute_result"
    }
   ],
   "source": [
    "len(X)"
   ]
  },
  {
   "cell_type": "code",
   "execution_count": 592,
   "metadata": {},
   "outputs": [
    {
     "data": {
      "text/plain": [
       "24"
      ]
     },
     "execution_count": 592,
     "metadata": {},
     "output_type": "execute_result"
    }
   ],
   "source": [
    "sum(X.duplicated())"
   ]
  },
  {
   "cell_type": "markdown",
   "metadata": {},
   "source": [
    "To get rid of all the duplicated records without preserving a copy. "
   ]
  },
  {
   "cell_type": "code",
   "execution_count": 593,
   "metadata": {},
   "outputs": [],
   "source": [
    "X.drop_duplicates(keep=False, inplace=True) # inplace applies changes directly on our dataframe"
   ]
  },
  {
   "cell_type": "code",
   "execution_count": 594,
   "metadata": {},
   "outputs": [
    {
     "data": {
      "text/plain": [
       "813"
      ]
     },
     "execution_count": 594,
     "metadata": {},
     "output_type": "execute_result"
    }
   ],
   "source": [
    "len(X)"
   ]
  },
  {
   "cell_type": "markdown",
   "metadata": {},
   "source": [
    "---"
   ]
  },
  {
   "cell_type": "markdown",
   "metadata": {},
   "source": [
    "## 5.  Data Preprocessing\n",
    "- Aggregation\n",
    "- Sampling\n",
    "- Dimensionality Reduction\n",
    "- Feature Subset Selection\n",
    "- Feature Creation\n",
    "- Discretization and Binarization\n",
    "- Attribute Transformation"
   ]
  },
  {
   "cell_type": "markdown",
   "metadata": {},
   "source": [
    "---"
   ]
  },
  {
   "cell_type": "markdown",
   "metadata": {},
   "source": [
    "### 5.1 Sampling"
   ]
  },
  {
   "cell_type": "code",
   "execution_count": 595,
   "metadata": {},
   "outputs": [],
   "source": [
    "X_sample = X.sample(n=600) #random state"
   ]
  },
  {
   "cell_type": "code",
   "execution_count": 596,
   "metadata": {},
   "outputs": [
    {
     "data": {
      "text/plain": [
       "600"
      ]
     },
     "execution_count": 596,
     "metadata": {},
     "output_type": "execute_result"
    }
   ],
   "source": [
    "len(X_sample)"
   ]
  },
  {
   "cell_type": "code",
   "execution_count": 597,
   "metadata": {},
   "outputs": [
    {
     "data": {
      "text/html": [
       "<div>\n",
       "<style scoped>\n",
       "    .dataframe tbody tr th:only-of-type {\n",
       "        vertical-align: middle;\n",
       "    }\n",
       "\n",
       "    .dataframe tbody tr th {\n",
       "        vertical-align: top;\n",
       "    }\n",
       "\n",
       "    .dataframe thead th {\n",
       "        text-align: right;\n",
       "    }\n",
       "</style>\n",
       "<table border=\"1\" class=\"dataframe\">\n",
       "  <thead>\n",
       "    <tr style=\"text-align: right;\">\n",
       "      <th></th>\n",
       "      <th>text</th>\n",
       "      <th>category</th>\n",
       "      <th>category_name</th>\n",
       "    </tr>\n",
       "  </thead>\n",
       "  <tbody>\n",
       "    <tr>\n",
       "      <th>16</th>\n",
       "      <td>Jesus Christ</td>\n",
       "      <td>0</td>\n",
       "      <td>Neutral</td>\n",
       "    </tr>\n",
       "    <tr>\n",
       "      <th>107</th>\n",
       "      <td>![gif](giphy|3oz8xZGfHArTvh99YI)</td>\n",
       "      <td>0</td>\n",
       "      <td>Neutral</td>\n",
       "    </tr>\n",
       "    <tr>\n",
       "      <th>180</th>\n",
       "      <td>And r/conservative are currently chest bumping...</td>\n",
       "      <td>1</td>\n",
       "      <td>Positive</td>\n",
       "    </tr>\n",
       "    <tr>\n",
       "      <th>499</th>\n",
       "      <td>Red pill for the masses. All propaganda.</td>\n",
       "      <td>-1</td>\n",
       "      <td>Negative</td>\n",
       "    </tr>\n",
       "  </tbody>\n",
       "</table>\n",
       "</div>"
      ],
      "text/plain": [
       "                                                  text  category category_name\n",
       "16                                        Jesus Christ         0       Neutral\n",
       "107                   ![gif](giphy|3oz8xZGfHArTvh99YI)         0       Neutral\n",
       "180  And r/conservative are currently chest bumping...         1      Positive\n",
       "499           Red pill for the masses. All propaganda.        -1      Negative"
      ]
     },
     "execution_count": 597,
     "metadata": {},
     "output_type": "execute_result"
    }
   ],
   "source": [
    "X_sample[0:4]"
   ]
  },
  {
   "cell_type": "markdown",
   "metadata": {},
   "source": [
    "---"
   ]
  },
  {
   "cell_type": "code",
   "execution_count": 598,
   "metadata": {},
   "outputs": [
    {
     "data": {
      "text/html": [
       "<div>\n",
       "<style scoped>\n",
       "    .dataframe tbody tr th:only-of-type {\n",
       "        vertical-align: middle;\n",
       "    }\n",
       "\n",
       "    .dataframe tbody tr th {\n",
       "        vertical-align: top;\n",
       "    }\n",
       "\n",
       "    .dataframe thead th {\n",
       "        text-align: right;\n",
       "    }\n",
       "</style>\n",
       "<table border=\"1\" class=\"dataframe\">\n",
       "  <thead>\n",
       "    <tr style=\"text-align: right;\">\n",
       "      <th></th>\n",
       "      <th>text</th>\n",
       "      <th>category</th>\n",
       "      <th>category_name</th>\n",
       "    </tr>\n",
       "  </thead>\n",
       "  <tbody>\n",
       "    <tr>\n",
       "      <th>16</th>\n",
       "      <td>Jesus Christ</td>\n",
       "      <td>0</td>\n",
       "      <td>Neutral</td>\n",
       "    </tr>\n",
       "    <tr>\n",
       "      <th>107</th>\n",
       "      <td>![gif](giphy|3oz8xZGfHArTvh99YI)</td>\n",
       "      <td>0</td>\n",
       "      <td>Neutral</td>\n",
       "    </tr>\n",
       "    <tr>\n",
       "      <th>180</th>\n",
       "      <td>And r/conservative are currently chest bumping...</td>\n",
       "      <td>1</td>\n",
       "      <td>Positive</td>\n",
       "    </tr>\n",
       "    <tr>\n",
       "      <th>499</th>\n",
       "      <td>Red pill for the masses. All propaganda.</td>\n",
       "      <td>-1</td>\n",
       "      <td>Negative</td>\n",
       "    </tr>\n",
       "    <tr>\n",
       "      <th>308</th>\n",
       "      <td>MegaWatt's making moves! Bagging Labrador Mine...</td>\n",
       "      <td>-1</td>\n",
       "      <td>Negative</td>\n",
       "    </tr>\n",
       "    <tr>\n",
       "      <th>330</th>\n",
       "      <td>Hey guys! Currently on vacation which has been...</td>\n",
       "      <td>1</td>\n",
       "      <td>Positive</td>\n",
       "    </tr>\n",
       "    <tr>\n",
       "      <th>607</th>\n",
       "      <td>Trump crashed the economy worse than Liz Truss...</td>\n",
       "      <td>-1</td>\n",
       "      <td>Negative</td>\n",
       "    </tr>\n",
       "    <tr>\n",
       "      <th>167</th>\n",
       "      <td>Happening now</td>\n",
       "      <td>0</td>\n",
       "      <td>Neutral</td>\n",
       "    </tr>\n",
       "    <tr>\n",
       "      <th>790</th>\n",
       "      <td>Tesla and Amazon and Apple and Nvidia are in t...</td>\n",
       "      <td>0</td>\n",
       "      <td>Neutral</td>\n",
       "    </tr>\n",
       "    <tr>\n",
       "      <th>488</th>\n",
       "      <td>Oh damn that happened to US citizens? Wonder w...</td>\n",
       "      <td>0</td>\n",
       "      <td>Neutral</td>\n",
       "    </tr>\n",
       "  </tbody>\n",
       "</table>\n",
       "</div>"
      ],
      "text/plain": [
       "                                                  text  category category_name\n",
       "16                                        Jesus Christ         0       Neutral\n",
       "107                   ![gif](giphy|3oz8xZGfHArTvh99YI)         0       Neutral\n",
       "180  And r/conservative are currently chest bumping...         1      Positive\n",
       "499           Red pill for the masses. All propaganda.        -1      Negative\n",
       "308  MegaWatt's making moves! Bagging Labrador Mine...        -1      Negative\n",
       "330  Hey guys! Currently on vacation which has been...         1      Positive\n",
       "607  Trump crashed the economy worse than Liz Truss...        -1      Negative\n",
       "167                                      Happening now         0       Neutral\n",
       "790  Tesla and Amazon and Apple and Nvidia are in t...         0       Neutral\n",
       "488  Oh damn that happened to US citizens? Wonder w...         0       Neutral"
      ]
     },
     "execution_count": 598,
     "metadata": {},
     "output_type": "execute_result"
    }
   ],
   "source": [
    "X_sample[0:10]"
   ]
  },
  {
   "cell_type": "code",
   "execution_count": 599,
   "metadata": {},
   "outputs": [
    {
     "data": {
      "text/html": [
       "<div>\n",
       "<style scoped>\n",
       "    .dataframe tbody tr th:only-of-type {\n",
       "        vertical-align: middle;\n",
       "    }\n",
       "\n",
       "    .dataframe tbody tr th {\n",
       "        vertical-align: top;\n",
       "    }\n",
       "\n",
       "    .dataframe thead th {\n",
       "        text-align: right;\n",
       "    }\n",
       "</style>\n",
       "<table border=\"1\" class=\"dataframe\">\n",
       "  <thead>\n",
       "    <tr style=\"text-align: right;\">\n",
       "      <th></th>\n",
       "      <th>text</th>\n",
       "      <th>category</th>\n",
       "      <th>category_name</th>\n",
       "    </tr>\n",
       "  </thead>\n",
       "  <tbody>\n",
       "    <tr>\n",
       "      <th>0</th>\n",
       "      <td>Calls on retards</td>\n",
       "      <td>-1</td>\n",
       "      <td>Negative</td>\n",
       "    </tr>\n",
       "    <tr>\n",
       "      <th>1</th>\n",
       "      <td>Stunt as in like why did they even make a big ...</td>\n",
       "      <td>1</td>\n",
       "      <td>Positive</td>\n",
       "    </tr>\n",
       "    <tr>\n",
       "      <th>2</th>\n",
       "      <td>Seeing lots of red in the ticker.</td>\n",
       "      <td>0</td>\n",
       "      <td>Neutral</td>\n",
       "    </tr>\n",
       "    <tr>\n",
       "      <th>3</th>\n",
       "      <td>Vision Marine Technologies Inc. is rewriting t...</td>\n",
       "      <td>1</td>\n",
       "      <td>Positive</td>\n",
       "    </tr>\n",
       "    <tr>\n",
       "      <th>4</th>\n",
       "      <td>He didn’t say thank you.</td>\n",
       "      <td>0</td>\n",
       "      <td>Neutral</td>\n",
       "    </tr>\n",
       "    <tr>\n",
       "      <th>5</th>\n",
       "      <td>Hoping to ejaculate in wet warm puss tonight, ...</td>\n",
       "      <td>1</td>\n",
       "      <td>Positive</td>\n",
       "    </tr>\n",
       "    <tr>\n",
       "      <th>6</th>\n",
       "      <td>Trump will respond to china increasing their t...</td>\n",
       "      <td>-1</td>\n",
       "      <td>Negative</td>\n",
       "    </tr>\n",
       "    <tr>\n",
       "      <th>7</th>\n",
       "      <td>Confirmed not a trap. Its been like this for p...</td>\n",
       "      <td>1</td>\n",
       "      <td>Positive</td>\n",
       "    </tr>\n",
       "    <tr>\n",
       "      <th>8</th>\n",
       "      <td>Am I the only one seeing the cup &amp; handle brea...</td>\n",
       "      <td>1</td>\n",
       "      <td>Positive</td>\n",
       "    </tr>\n",
       "    <tr>\n",
       "      <th>9</th>\n",
       "      <td>HLGN is $10. Hurry and catch it now before it ...</td>\n",
       "      <td>0</td>\n",
       "      <td>Neutral</td>\n",
       "    </tr>\n",
       "  </tbody>\n",
       "</table>\n",
       "</div>"
      ],
      "text/plain": [
       "                                                text  category category_name\n",
       "0                                   Calls on retards        -1      Negative\n",
       "1  Stunt as in like why did they even make a big ...         1      Positive\n",
       "2                  Seeing lots of red in the ticker.         0       Neutral\n",
       "3  Vision Marine Technologies Inc. is rewriting t...         1      Positive\n",
       "4                           He didn’t say thank you.         0       Neutral\n",
       "5  Hoping to ejaculate in wet warm puss tonight, ...         1      Positive\n",
       "6  Trump will respond to china increasing their t...        -1      Negative\n",
       "7  Confirmed not a trap. Its been like this for p...         1      Positive\n",
       "8  Am I the only one seeing the cup & handle brea...         1      Positive\n",
       "9  HLGN is $10. Hurry and catch it now before it ...         0       Neutral"
      ]
     },
     "execution_count": 599,
     "metadata": {},
     "output_type": "execute_result"
    }
   ],
   "source": [
    "X[0:10]"
   ]
  },
  {
   "cell_type": "markdown",
   "metadata": {},
   "source": [
    "### >>> Exercise 6 (take home):\n",
    "Any changes from the `X` dataframe to the `X_sample` dataframe? "
   ]
  },
  {
   "cell_type": "code",
   "execution_count": 600,
   "metadata": {},
   "outputs": [],
   "source": [
    "# Answer here\n",
    "# 1. Numbers of rows: X contains all data from 0 to 847, but X_sample randomly selects 600 data and then returning 600 rows.\n",
    "# 2. Order of rows: X follows the original data order, and X_sample be selected randomly so it gets random row order."
   ]
  },
  {
   "cell_type": "markdown",
   "metadata": {},
   "source": [
    "---"
   ]
  },
  {
   "cell_type": "markdown",
   "metadata": {},
   "source": [
    "The distribution of categories in both the sample and original dataset.\n",
    "Visualize and analyze the disparity between the two datasets by using `matplotlib` python library. "
   ]
  },
  {
   "cell_type": "code",
   "execution_count": 601,
   "metadata": {},
   "outputs": [],
   "source": [
    "import matplotlib.pyplot as plt\n",
    "%matplotlib inline"
   ]
  },
  {
   "cell_type": "code",
   "execution_count": 602,
   "metadata": {},
   "outputs": [
    {
     "data": {
      "text/plain": [
       "['Neutral', 'Positive', 'Negative']"
      ]
     },
     "execution_count": 602,
     "metadata": {},
     "output_type": "execute_result"
    }
   ],
   "source": [
    "categories"
   ]
  },
  {
   "cell_type": "code",
   "execution_count": 603,
   "metadata": {},
   "outputs": [
    {
     "name": "stdout",
     "output_type": "stream",
     "text": [
      "category_name\n",
      "Positive    315\n",
      "Neutral     303\n",
      "Negative    195\n",
      "Name: count, dtype: int64\n"
     ]
    },
    {
     "data": {
      "text/plain": [
       "<Axes: title={'center': 'Category distribution'}, xlabel='category_name'>"
      ]
     },
     "execution_count": 603,
     "metadata": {},
     "output_type": "execute_result"
    },
    {
     "data": {
      "image/png": "[encoded data removed]",
      "text/plain": [
       "<Figure size 800x300 with 1 Axes>"
      ]
     },
     "metadata": {},
     "output_type": "display_data"
    }
   ],
   "source": [
    "print(X.category_name.value_counts())\n",
    "\n",
    "# plot barchart for X\n",
    "X.category_name.value_counts().plot(kind = 'bar',\n",
    "                                    title = 'Category distribution',\n",
    "                                    ylim = [0, 400],        \n",
    "                                    rot = 0, fontsize = 11, figsize = (8,3))"
   ]
  },
  {
   "cell_type": "code",
   "execution_count": 604,
   "metadata": {},
   "outputs": [
    {
     "name": "stdout",
     "output_type": "stream",
     "text": [
      "category_name\n",
      "Positive    234\n",
      "Neutral     226\n",
      "Negative    140\n",
      "Name: count, dtype: int64\n"
     ]
    },
    {
     "data": {
      "text/plain": [
       "<Axes: title={'center': 'Category distribution'}, xlabel='category_name'>"
      ]
     },
     "execution_count": 604,
     "metadata": {},
     "output_type": "execute_result"
    },
    {
     "data": {
      "image/png": "[encoded data removed]",
      "text/plain": [
       "<Figure size 800x300 with 1 Axes>"
      ]
     },
     "metadata": {},
     "output_type": "display_data"
    }
   ],
   "source": [
    "print(X_sample.category_name.value_counts())\n",
    "\n",
    "# plot barchart for X_sample\n",
    "X_sample.category_name.value_counts().plot(kind = 'bar',\n",
    "                                           title = 'Category distribution',\n",
    "                                           ylim = [0, 300], \n",
    "                                           rot = 0, fontsize = 12, figsize = (8,3))"
   ]
  },
  {
   "cell_type": "markdown",
   "metadata": {},
   "source": [
    "---"
   ]
  },
  {
   "cell_type": "markdown",
   "metadata": {},
   "source": [
    "### >>> **Exercise 7 (Watch Video):**\n",
    "`ylim` parameters the maximum value for y."
   ]
  },
  {
   "cell_type": "code",
   "execution_count": 605,
   "metadata": {},
   "outputs": [
    {
     "data": {
      "text/plain": [
       "<Axes: title={'center': 'Category distribution'}, xlabel='category_name'>"
      ]
     },
     "execution_count": 605,
     "metadata": {},
     "output_type": "execute_result"
    },
    {
     "data": {
      "image/png": "[encoded data removed]",
      "text/plain": [
       "<Figure size 800x300 with 1 Axes>"
      ]
     },
     "metadata": {},
     "output_type": "display_data"
    }
   ],
   "source": [
    "# Answer here\n",
    "X_sample.category_name.value_counts().plot(kind = 'bar',\n",
    "                                           title = 'Category distribution',\n",
    "                                           ylim = [0, X_sample.category_name.value_counts().max()+30],\n",
    "                                           rot = 0, fontsize = 12, figsize = (8,3))"
   ]
  },
  {
   "cell_type": "markdown",
   "metadata": {},
   "source": [
    "---"
   ]
  },
  {
   "cell_type": "markdown",
   "metadata": {},
   "source": [
    "### >>> **Exercise 8 (take home):** \n",
    "Side-by-side comparison of the distribution between the two datasets."
   ]
  },
  {
   "cell_type": "code",
   "execution_count": 606,
   "metadata": {},
   "outputs": [
    {
     "name": "stdout",
     "output_type": "stream",
     "text": [
      "category_name\n",
      "Positive    315\n",
      "Neutral     303\n",
      "Negative    195\n",
      "Name: count, dtype: int64\n",
      "category_name\n",
      "Positive    234\n",
      "Neutral     226\n",
      "Negative    140\n",
      "Name: count, dtype: int64\n"
     ]
    }
   ],
   "source": [
    "# Answer here\n",
    "print(X.category_name.value_counts())\n",
    "print(X_sample.category_name.value_counts())"
   ]
  },
  {
   "cell_type": "code",
   "execution_count": 607,
   "metadata": {},
   "outputs": [
    {
     "data": {
      "image/png": "[encoded data removed]",
      "text/plain": [
       "<Figure size 600x400 with 1 Axes>"
      ]
     },
     "metadata": {},
     "output_type": "display_data"
    }
   ],
   "source": [
    "xlabel = ['Positive', 'Neutral', 'Negative']\n",
    "X_count = [331, 319, 197]\n",
    "X_sample_count = [241, 225, 134]\n",
    "# setting where label located\n",
    "xlabel_location = np.arange(len(xlabel))\n",
    "bar_width = 0.15\n",
    "\n",
    "plt.figure(figsize = (6,4))\n",
    "plt.bar(xlabel_location, X_count, width = bar_width, label = 'category_name')\n",
    "plt.bar(xlabel_location + bar_width ,X_sample_count, width = bar_width, label = 'category_name')\n",
    "# Let x-axis label align middle\n",
    "plt.xticks(xlabel_location + bar_width/2, xlabel)\n",
    "plt.title('Category distribution')\n",
    "# Setting where label-icon located\n",
    "plt.legend(bbox_to_anchor=(1,1), loc='center right')\n",
    "plt.show()\n",
    "\n",
    "# This barchart is follow matplotlib guides: https://matplotlib.org/stable/gallery/lines_bars_and_markers/barchart.html#sphx-glr-gallery-lines-bars-and-markers-barchart-py"
   ]
  },
  {
   "cell_type": "markdown",
   "metadata": {},
   "source": [
    "---"
   ]
  },
  {
   "cell_type": "markdown",
   "metadata": {},
   "source": [
    "### 5.2 Feature Creation"
   ]
  },
  {
   "cell_type": "markdown",
   "metadata": {},
   "source": [
    "NLTK library to conduct tokenization in splitting a sentence into its individual components(as words, emojis, emails, etc.) \n",
    "\n",
    "Call the `nltk` library as follows:\n",
    "\n",
    "    ```python\n",
    "    import nltk\n",
    "    ```"
   ]
  },
  {
   "cell_type": "code",
   "execution_count": 608,
   "metadata": {},
   "outputs": [
    {
     "name": "stderr",
     "output_type": "stream",
     "text": [
      "[nltk_data] Downloading package punkt to /Users/irene/nltk_data...\n",
      "[nltk_data]   Package punkt is already up-to-date!\n",
      "[nltk_data] Downloading package punkt_tab to /Users/irene/nltk_data...\n",
      "[nltk_data]   Package punkt_tab is already up-to-date!\n"
     ]
    },
    {
     "data": {
      "text/plain": [
       "True"
      ]
     },
     "execution_count": 608,
     "metadata": {},
     "output_type": "execute_result"
    }
   ],
   "source": [
    "import nltk\n",
    "nltk.download(\"punkt\")\n",
    "nltk.download(\"punkt_tab\")"
   ]
  },
  {
   "cell_type": "code",
   "execution_count": 609,
   "metadata": {},
   "outputs": [],
   "source": [
    "# takes a like a minute or two to process\n",
    "\n",
    "X['unigrams'] = X['text'].apply(lambda x: dmh.tokenize_text(x))"
   ]
  },
  {
   "cell_type": "code",
   "execution_count": 610,
   "metadata": {},
   "outputs": [
    {
     "data": {
      "text/plain": [
       "0                                 [Calls, on, retards]\n",
       "1    [Stunt, as, in, like, why, did, they, even, ma...\n",
       "2          [Seeing, lots, of, red, in, the, ticker, .]\n",
       "3    [Vision, Marine, Technologies, Inc., is, rewri...\n",
       "Name: unigrams, dtype: object"
      ]
     },
     "execution_count": 610,
     "metadata": {},
     "output_type": "execute_result"
    }
   ],
   "source": [
    "X[0:4][\"unigrams\"]"
   ]
  },
  {
   "cell_type": "markdown",
   "metadata": {},
   "source": [
    "New columns `unigrams` contains an array of tokens, which were extracted from the original `text` field. "
   ]
  },
  {
   "cell_type": "code",
   "execution_count": 611,
   "metadata": {},
   "outputs": [
    {
     "data": {
      "text/html": [
       "<div>\n",
       "<style scoped>\n",
       "    .dataframe tbody tr th:only-of-type {\n",
       "        vertical-align: middle;\n",
       "    }\n",
       "\n",
       "    .dataframe tbody tr th {\n",
       "        vertical-align: top;\n",
       "    }\n",
       "\n",
       "    .dataframe thead th {\n",
       "        text-align: right;\n",
       "    }\n",
       "</style>\n",
       "<table border=\"1\" class=\"dataframe\">\n",
       "  <thead>\n",
       "    <tr style=\"text-align: right;\">\n",
       "      <th></th>\n",
       "      <th>text</th>\n",
       "      <th>category</th>\n",
       "      <th>category_name</th>\n",
       "      <th>unigrams</th>\n",
       "    </tr>\n",
       "  </thead>\n",
       "  <tbody>\n",
       "    <tr>\n",
       "      <th>0</th>\n",
       "      <td>Calls on retards</td>\n",
       "      <td>-1</td>\n",
       "      <td>Negative</td>\n",
       "      <td>[Calls, on, retards]</td>\n",
       "    </tr>\n",
       "    <tr>\n",
       "      <th>1</th>\n",
       "      <td>Stunt as in like why did they even make a big ...</td>\n",
       "      <td>1</td>\n",
       "      <td>Positive</td>\n",
       "      <td>[Stunt, as, in, like, why, did, they, even, ma...</td>\n",
       "    </tr>\n",
       "    <tr>\n",
       "      <th>2</th>\n",
       "      <td>Seeing lots of red in the ticker.</td>\n",
       "      <td>0</td>\n",
       "      <td>Neutral</td>\n",
       "      <td>[Seeing, lots, of, red, in, the, ticker, .]</td>\n",
       "    </tr>\n",
       "    <tr>\n",
       "      <th>3</th>\n",
       "      <td>Vision Marine Technologies Inc. is rewriting t...</td>\n",
       "      <td>1</td>\n",
       "      <td>Positive</td>\n",
       "      <td>[Vision, Marine, Technologies, Inc., is, rewri...</td>\n",
       "    </tr>\n",
       "  </tbody>\n",
       "</table>\n",
       "</div>"
      ],
      "text/plain": [
       "                                                text  category category_name  \\\n",
       "0                                   Calls on retards        -1      Negative   \n",
       "1  Stunt as in like why did they even make a big ...         1      Positive   \n",
       "2                  Seeing lots of red in the ticker.         0       Neutral   \n",
       "3  Vision Marine Technologies Inc. is rewriting t...         1      Positive   \n",
       "\n",
       "                                            unigrams  \n",
       "0                               [Calls, on, retards]  \n",
       "1  [Stunt, as, in, like, why, did, they, even, ma...  \n",
       "2        [Seeing, lots, of, red, in, the, ticker, .]  \n",
       "3  [Vision, Marine, Technologies, Inc., is, rewri...  "
      ]
     },
     "execution_count": 611,
     "metadata": {},
     "output_type": "execute_result"
    }
   ],
   "source": [
    "X[0:4]"
   ]
  },
  {
   "cell_type": "code",
   "execution_count": 612,
   "metadata": {},
   "outputs": [
    {
     "data": {
      "text/plain": [
       "[['Calls', 'on', 'retards']]"
      ]
     },
     "execution_count": 612,
     "metadata": {},
     "output_type": "execute_result"
    }
   ],
   "source": [
    "list(X[0:1]['unigrams'])"
   ]
  },
  {
   "cell_type": "markdown",
   "metadata": {},
   "source": [
    "---"
   ]
  },
  {
   "cell_type": "markdown",
   "metadata": {},
   "source": [
    "### 5.3 Feature subset selection"
   ]
  },
  {
   "cell_type": "markdown",
   "metadata": {},
   "source": [
    "![alt txt](https://docs.google.com/drawings/d/e/2PACX-1vS01RrtPHS3r1Lf8UjX4POgDol-lVF4JAbjXM3SAOU-dOe-MqUdaEMWwJEPk9TtiUvcoSqTeE--lNep/pub?w=748&h=366)"
   ]
  },
  {
   "cell_type": "markdown",
   "metadata": {},
   "source": [
    "Use scikit learn built in functionalities to generate this document. "
   ]
  },
  {
   "cell_type": "code",
   "execution_count": 613,
   "metadata": {},
   "outputs": [
    {
     "name": "stdout",
     "output_type": "stream",
     "text": [
      "  (np.int32(0), np.int32(689))\t1\n",
      "  (np.int32(0), np.int32(2682))\t1\n",
      "  (np.int32(0), np.int32(3220))\t1\n"
     ]
    }
   ],
   "source": [
    "from sklearn.feature_extraction.text import CountVectorizer\n",
    "\n",
    "count_vect = CountVectorizer()\n",
    "X_counts = count_vect.fit_transform(X.text) #learn the vocabulary and return document-term matrix\n",
    "print(X_counts[0])"
   ]
  },
  {
   "cell_type": "markdown",
   "metadata": {},
   "source": [
    "Examples of what each feature is based on their index in the vector"
   ]
  },
  {
   "cell_type": "code",
   "execution_count": 614,
   "metadata": {},
   "outputs": [
    {
     "data": {
      "text/plain": [
       "'burgeoning'"
      ]
     },
     "execution_count": 614,
     "metadata": {},
     "output_type": "execute_result"
    }
   ],
   "source": [
    "count_vect.get_feature_names_out()[666]"
   ]
  },
  {
   "cell_type": "code",
   "execution_count": 615,
   "metadata": {},
   "outputs": [
    {
     "data": {
      "text/plain": [
       "'deleted'"
      ]
     },
     "execution_count": 615,
     "metadata": {},
     "output_type": "execute_result"
    }
   ],
   "source": [
    "count_vect.get_feature_names_out()[1111]"
   ]
  },
  {
   "cell_type": "code",
   "execution_count": 616,
   "metadata": {},
   "outputs": [
    {
     "data": {
      "text/plain": [
       "'scenario'"
      ]
     },
     "execution_count": 616,
     "metadata": {},
     "output_type": "execute_result"
    }
   ],
   "source": [
    "count_vect.get_feature_names_out()[3333]"
   ]
  },
  {
   "cell_type": "markdown",
   "metadata": {},
   "source": [
    "Built-in, default tokenizer (often referred to as an `analyzer`) and then produces the word frequency vector for each document. \n",
    "Default analyzer provided by `CountVectorizer` to keep things tidy and minimal."
   ]
  },
  {
   "cell_type": "code",
   "execution_count": 617,
   "metadata": {},
   "outputs": [
    {
     "data": {
      "text/plain": [
       "['am', 'craving', 'for', 'hawaiian', 'pizza', 'right', 'now']"
      ]
     },
     "execution_count": 617,
     "metadata": {},
     "output_type": "execute_result"
    }
   ],
   "source": [
    "analyze = count_vect.build_analyzer()\n",
    "analyze(\"I am craving for a hawaiian pizza right now\")\n",
    "\n",
    "# tokenization, remove stop words (e.g i, a, the), create n-gram (or unigram)"
   ]
  },
  {
   "cell_type": "markdown",
   "metadata": {},
   "source": [
    "---"
   ]
  },
  {
   "cell_type": "markdown",
   "metadata": {},
   "source": [
    "### **>>> Exercise 9 (Watch Video):**\n",
    "Analyze the first record of our X dataframe with the new analyzer."
   ]
  },
  {
   "cell_type": "code",
   "execution_count": 618,
   "metadata": {},
   "outputs": [
    {
     "data": {
      "text/plain": [
       "['calls', 'on', 'retards']"
      ]
     },
     "execution_count": 618,
     "metadata": {},
     "output_type": "execute_result"
    }
   ],
   "source": [
    "# Answer here\n",
    "# How do we turn our array[0] text document into a tokenized text using the build_analyzer()?\n",
    "analyze(X.text[0])"
   ]
  },
  {
   "cell_type": "markdown",
   "metadata": {},
   "source": [
    "---"
   ]
  },
  {
   "cell_type": "markdown",
   "metadata": {},
   "source": [
    "Now let us look at the term-document matrix we built above."
   ]
  },
  {
   "cell_type": "code",
   "execution_count": 619,
   "metadata": {},
   "outputs": [
    {
     "data": {
      "text/plain": [
       "(813, 4313)"
      ]
     },
     "execution_count": 619,
     "metadata": {},
     "output_type": "execute_result"
    }
   ],
   "source": [
    "# We can check the shape of this matrix by:\n",
    "X_counts.shape"
   ]
  },
  {
   "cell_type": "code",
   "execution_count": 620,
   "metadata": {},
   "outputs": [
    {
     "data": {
      "text/plain": [
       "array(['00', '000', '01378', '02', '027', '03', '06', '08', '10', '100'],\n",
       "      dtype=object)"
      ]
     },
     "execution_count": 620,
     "metadata": {},
     "output_type": "execute_result"
    }
   ],
   "source": [
    "# We can obtain the feature names of the vectorizer, i.e., the terms\n",
    "# usually on the horizontal axis\n",
    "count_vect.get_feature_names_out()[0:10]"
   ]
  },
  {
   "cell_type": "markdown",
   "metadata": {},
   "source": [
    "![alt txt](https://i.imgur.com/57gA1sd.png)"
   ]
  },
  {
   "cell_type": "markdown",
   "metadata": {},
   "source": [
    "`fit_transform` and `CountVectorizer` learn the vocabulary dictionary and returns a term-document matrix.\n",
    "\n",
    "To extract the first five articles and transform them into document-term matrix."
   ]
  },
  {
   "cell_type": "code",
   "execution_count": 621,
   "metadata": {},
   "outputs": [
    {
     "data": {
      "text/plain": [
       "(813, 4313)"
      ]
     },
     "execution_count": 621,
     "metadata": {},
     "output_type": "execute_result"
    }
   ],
   "source": [
    "X_counts.shape"
   ]
  },
  {
   "cell_type": "code",
   "execution_count": 622,
   "metadata": {},
   "outputs": [
    {
     "data": {
      "text/plain": [
       "array([[0, 0, 0, 0, 0, 0, 0, 0, 0, 0, 0, 0, 0, 0, 0, 0, 0, 0, 0, 0, 0, 0,\n",
       "        0, 0, 0, 0, 0, 0, 0, 0, 0, 0, 0, 0, 0, 0, 0, 0, 0, 0, 0, 0, 0, 0,\n",
       "        0, 0, 0, 0, 0, 0, 0, 0, 0, 0, 0, 0, 0, 0, 0, 0, 0, 0, 0, 0, 0, 0,\n",
       "        0, 0, 0, 0, 0, 0, 0, 0, 0, 0, 0, 0, 0, 0, 0, 0, 0, 0, 0, 0, 0, 0,\n",
       "        0, 0, 0, 0, 0, 0, 0, 0, 0, 0, 0, 0],\n",
       "       [0, 0, 0, 0, 0, 0, 0, 0, 0, 0, 0, 0, 0, 0, 0, 0, 0, 0, 0, 0, 0, 0,\n",
       "        0, 0, 0, 0, 0, 0, 0, 0, 0, 0, 0, 0, 0, 0, 0, 0, 0, 0, 0, 0, 0, 0,\n",
       "        0, 0, 0, 0, 0, 0, 0, 0, 0, 0, 0, 0, 0, 0, 0, 0, 0, 0, 0, 0, 0, 0,\n",
       "        0, 0, 0, 0, 0, 0, 0, 0, 0, 0, 0, 0, 0, 0, 0, 0, 0, 0, 0, 0, 0, 0,\n",
       "        0, 0, 0, 0, 0, 0, 0, 0, 0, 0, 0, 0],\n",
       "       [0, 0, 0, 0, 0, 0, 0, 0, 0, 0, 0, 0, 0, 0, 0, 0, 0, 0, 0, 0, 0, 0,\n",
       "        0, 0, 0, 0, 0, 0, 0, 0, 0, 0, 0, 0, 0, 0, 0, 0, 0, 0, 0, 0, 0, 0,\n",
       "        0, 0, 0, 0, 0, 0, 0, 0, 0, 0, 0, 0, 0, 0, 0, 0, 0, 0, 0, 0, 0, 0,\n",
       "        0, 0, 0, 0, 0, 0, 0, 0, 0, 0, 0, 0, 0, 0, 0, 0, 0, 0, 0, 0, 0, 0,\n",
       "        0, 0, 0, 0, 0, 0, 0, 0, 0, 0, 0, 0],\n",
       "       [0, 0, 0, 0, 0, 0, 0, 0, 0, 0, 0, 0, 0, 0, 0, 0, 0, 0, 3, 0, 0, 0,\n",
       "        0, 0, 0, 0, 0, 0, 0, 0, 0, 0, 0, 0, 0, 0, 0, 0, 0, 0, 0, 0, 0, 0,\n",
       "        0, 0, 0, 0, 0, 0, 0, 0, 0, 0, 0, 0, 0, 0, 0, 0, 0, 0, 0, 0, 0, 0,\n",
       "        0, 0, 0, 0, 0, 0, 0, 0, 0, 0, 0, 0, 0, 0, 0, 0, 0, 0, 0, 0, 0, 0,\n",
       "        0, 0, 0, 0, 0, 0, 0, 0, 0, 0, 0, 0],\n",
       "       [0, 0, 0, 0, 0, 0, 0, 0, 0, 0, 0, 0, 0, 0, 0, 0, 0, 0, 0, 0, 0, 0,\n",
       "        0, 0, 0, 0, 0, 0, 0, 0, 0, 0, 0, 0, 0, 0, 0, 0, 0, 0, 0, 0, 0, 0,\n",
       "        0, 0, 0, 0, 0, 0, 0, 0, 0, 0, 0, 0, 0, 0, 0, 0, 0, 0, 0, 0, 0, 0,\n",
       "        0, 0, 0, 0, 0, 0, 0, 0, 0, 0, 0, 0, 0, 0, 0, 0, 0, 0, 0, 0, 0, 0,\n",
       "        0, 0, 0, 0, 0, 0, 0, 0, 0, 0, 0, 0]])"
      ]
     },
     "execution_count": 622,
     "metadata": {},
     "output_type": "execute_result"
    }
   ],
   "source": [
    "# we convert from sparse array to normal array\n",
    "X_counts[0:5, 0:100].toarray()"
   ]
  },
  {
   "cell_type": "code",
   "execution_count": 623,
   "metadata": {},
   "outputs": [
    {
     "data": {
      "text/plain": [
       "array(['00'], dtype=object)"
      ]
     },
     "execution_count": 623,
     "metadata": {},
     "output_type": "execute_result"
    }
   ],
   "source": [
    "count_vect.get_feature_names_out()[0:1]"
   ]
  },
  {
   "cell_type": "markdown",
   "metadata": {},
   "source": [
    "---"
   ]
  },
  {
   "cell_type": "markdown",
   "metadata": {},
   "source": [
    "Heat map of the term-document matrix to better analyze data or transformation."
   ]
  },
  {
   "cell_type": "code",
   "execution_count": 624,
   "metadata": {},
   "outputs": [],
   "source": [
    "# first twenty features only\n",
    "plot_x = [\"term_\"+str(i) for i in count_vect.get_feature_names_out()[0:20]]"
   ]
  },
  {
   "cell_type": "code",
   "execution_count": 625,
   "metadata": {},
   "outputs": [],
   "source": [
    "# obtain document index\n",
    "plot_y = [\"doc_\"+ str(i) for i in list(X.index)[0:20]]"
   ]
  },
  {
   "cell_type": "code",
   "execution_count": 626,
   "metadata": {},
   "outputs": [
    {
     "data": {
      "text/plain": [
       "array([[0, 0, 0, 0, 0, 0, 0, 0, 0, 0, 0, 0, 0, 0, 0, 0, 0, 0, 0, 0],\n",
       "       [0, 0, 0, 0, 0, 0, 0, 0, 0, 0, 0, 0, 0, 0, 0, 0, 0, 0, 0, 0],\n",
       "       [0, 0, 0, 0, 0, 0, 0, 0, 0, 0, 0, 0, 0, 0, 0, 0, 0, 0, 0, 0],\n",
       "       [0, 0, 0, 0, 0, 0, 0, 0, 0, 0, 0, 0, 0, 0, 0, 0, 0, 0, 3, 0],\n",
       "       [0, 0, 0, 0, 0, 0, 0, 0, 0, 0, 0, 0, 0, 0, 0, 0, 0, 0, 0, 0],\n",
       "       [0, 0, 0, 0, 0, 0, 0, 0, 0, 0, 0, 0, 0, 0, 0, 0, 0, 0, 0, 0],\n",
       "       [0, 0, 0, 0, 0, 0, 0, 0, 0, 0, 0, 0, 0, 0, 0, 0, 0, 0, 0, 0],\n",
       "       [0, 0, 0, 0, 0, 0, 0, 0, 0, 0, 0, 0, 0, 0, 0, 0, 0, 0, 0, 0],\n",
       "       [0, 0, 0, 0, 0, 0, 0, 0, 0, 0, 0, 0, 0, 0, 0, 0, 0, 0, 0, 0],\n",
       "       [0, 0, 0, 0, 0, 0, 0, 0, 1, 0, 0, 0, 0, 0, 0, 0, 0, 0, 0, 0],\n",
       "       [0, 0, 0, 0, 0, 0, 0, 0, 0, 0, 0, 0, 0, 0, 0, 0, 0, 0, 0, 0],\n",
       "       [0, 0, 0, 0, 0, 0, 0, 0, 0, 0, 0, 0, 0, 0, 0, 0, 0, 0, 0, 0],\n",
       "       [0, 0, 0, 0, 0, 0, 0, 0, 0, 0, 0, 0, 0, 0, 0, 0, 0, 0, 0, 0],\n",
       "       [0, 0, 0, 0, 0, 0, 0, 0, 2, 0, 0, 0, 0, 0, 0, 0, 0, 0, 0, 0],\n",
       "       [0, 0, 0, 0, 0, 0, 0, 0, 0, 0, 0, 0, 0, 0, 0, 0, 0, 0, 0, 0],\n",
       "       [0, 0, 0, 0, 0, 0, 0, 0, 0, 0, 0, 0, 0, 0, 0, 0, 0, 0, 0, 0],\n",
       "       [0, 0, 0, 0, 0, 0, 0, 0, 0, 0, 0, 0, 0, 0, 0, 0, 0, 0, 0, 0],\n",
       "       [0, 0, 0, 0, 0, 0, 0, 0, 0, 0, 0, 0, 0, 0, 0, 0, 0, 0, 0, 0],\n",
       "       [0, 0, 0, 0, 0, 0, 0, 0, 0, 0, 0, 0, 0, 0, 0, 0, 0, 0, 0, 0],\n",
       "       [0, 0, 0, 0, 0, 0, 0, 0, 0, 0, 0, 0, 0, 0, 0, 0, 0, 0, 0, 0]])"
      ]
     },
     "execution_count": 626,
     "metadata": {},
     "output_type": "execute_result"
    }
   ],
   "source": [
    "plot_z = X_counts[0:20, 0:20].toarray() #X_counts[how many documents, how many terms]\n",
    "plot_z"
   ]
  },
  {
   "cell_type": "markdown",
   "metadata": {},
   "source": [
    "For the heat map, use `seaborn` built on top of matplotlib and closely integrated with pandas data structures."
   ]
  },
  {
   "cell_type": "markdown",
   "metadata": {},
   "source": [
    "![alt txt](https://i.imgur.com/1isxmIV.png)"
   ]
  },
  {
   "cell_type": "code",
   "execution_count": 627,
   "metadata": {},
   "outputs": [
    {
     "data": {
      "image/png": "[encoded data removed]",
      "text/plain": [
       "<Figure size 900x700 with 2 Axes>"
      ]
     },
     "metadata": {},
     "output_type": "display_data"
    }
   ],
   "source": [
    "import seaborn as sns\n",
    "\n",
    "df_todraw = pd.DataFrame(plot_z, columns = plot_x, index = plot_y)\n",
    "plt.subplots(figsize=(9, 7))\n",
    "ax = sns.heatmap(df_todraw,\n",
    "                 cmap=\"PuRd\",\n",
    "                 vmin=0, vmax=1, annot=True)"
   ]
  },
  {
   "cell_type": "markdown",
   "metadata": {},
   "source": [
    "---"
   ]
  },
  {
   "cell_type": "markdown",
   "metadata": {},
   "source": [
    "### **>>> Exercise 11 (take home):** \n",
    "Try to modify the code above to plot the entire term-document matrix or just a sample of it. "
   ]
  },
  {
   "cell_type": "code",
   "execution_count": 628,
   "metadata": {},
   "outputs": [
    {
     "data": {
      "image/png": "[encoded data removed]",
      "text/plain": [
       "<Figure size 900x700 with 2 Axes>"
      ]
     },
     "metadata": {},
     "output_type": "display_data"
    }
   ],
   "source": [
    "# Answer here\n",
    "# When it says \"there is a lot of words in the vocab\", a helpful way to deal with it is dimension reduction.\n",
    "# So I won't plot the entire term-document matrix but just part of it.\n",
    "\n",
    "# With random sample selection:\n",
    "\n",
    "import random # Randomly select samples \n",
    "\n",
    "# Select documents\n",
    "random_doc = random.sample(range(len(X.index)), 20)\n",
    "# Select terms\n",
    "random_feature = random.sample(range(len(count_vect.get_feature_names_out())), 20)\n",
    "\n",
    "plot_x = [\"term_\" + str(count_vect.get_feature_names_out()[i]) for i in random_feature]\n",
    "plot_y = [\"doc_\" + str(X.index[i]) for i in random_doc]\n",
    "plot_z = X_counts[random_doc][:, random_feature].toarray()  # X_counts[which documents, which terms]\n",
    "\n",
    "df_todraw = pd.DataFrame(plot_z, columns=plot_x, index=plot_y)\n",
    "plt.subplots(figsize=(9, 7))\n",
    "ax = sns.heatmap(df_todraw,\n",
    "                 cmap=\"PuRd\",\n",
    "                 vmin=0, vmax=1, annot=True)\n",
    "plt.show() # Exercise11_homework.png"
   ]
  },
  {
   "cell_type": "markdown",
   "metadata": {},
   "source": [
    "---"
   ]
  },
  {
   "cell_type": "markdown",
   "metadata": {},
   "source": [
    "### 5.4 Attribute Transformation / Aggregation\n",
    "To explore the data first before making any premature conclusions. \n",
    "Ttake the word distribution and put the distribution in a scale that makes it easy to analyze patterns in the distrubution of words."
   ]
  },
  {
   "cell_type": "markdown",
   "metadata": {},
   "source": [
    "###  5.4.1 Transform Text Data"
   ]
  },
  {
   "cell_type": "markdown",
   "metadata": {},
   "source": [
    "To compute these frequencies for each term in all documents. \n",
    "To add values of the 2D matrix, vertically; i.e., sum of each column. "
   ]
  },
  {
   "cell_type": "markdown",
   "metadata": {},
   "source": [
    "![alt txt](https://docs.google.com/drawings/d/e/2PACX-1vTMfs0zWsbeAl-wrpvyCcZqeEUf7ggoGkDubrxX5XtwC5iysHFukD6c-dtyybuHnYigiRWRlRk2S7gp/pub?w=750&h=412)"
   ]
  },
  {
   "cell_type": "code",
   "execution_count": 629,
   "metadata": {},
   "outputs": [],
   "source": [
    "# note this takes time to compute. You may want to reduce the amount of terms you want to compute frequencies for\n",
    "term_frequencies = []\n",
    "for j in range(0,X_counts.shape[1]):\n",
    "    term_frequencies.append(sum(X_counts[:,j].toarray()))\n",
    "\n",
    "#[3, 8, 5, 2, 5, 8, 2, 5, 3, 2]"
   ]
  },
  {
   "cell_type": "code",
   "execution_count": 630,
   "metadata": {},
   "outputs": [],
   "source": [
    "term_frequencies = np.asarray(X_counts.sum(axis=0))[0]"
   ]
  },
  {
   "cell_type": "code",
   "execution_count": 631,
   "metadata": {},
   "outputs": [
    {
     "data": {
      "text/plain": [
       "np.int64(4)"
      ]
     },
     "execution_count": 631,
     "metadata": {},
     "output_type": "execute_result"
    }
   ],
   "source": [
    "term_frequencies[0] #sum of first term: 00"
   ]
  },
  {
   "cell_type": "code",
   "execution_count": 632,
   "metadata": {},
   "outputs": [
    {
     "name": "stderr",
     "output_type": "stream",
     "text": [
      "/var/folders/_k/mqb_krdx6bg3d7mfjd8wsgx00000gn/T/ipykernel_3949/3480579971.py:4: UserWarning:\n",
      "\n",
      "set_ticklabels() should only be used with a fixed number of ticks, i.e. after set_ticks() or using a FixedLocator.\n",
      "\n"
     ]
    },
    {
     "data": {
      "image/png": "[encoded data removed]",
      "text/plain": [
       "<Figure size 10000x1000 with 1 Axes>"
      ]
     },
     "metadata": {},
     "output_type": "display_data"
    }
   ],
   "source": [
    "plt.subplots(figsize=(100, 10))\n",
    "g = sns.barplot(x=count_vect.get_feature_names_out()[:300], \n",
    "            y=term_frequencies[:300])\n",
    "g.set_xticklabels(count_vect.get_feature_names_out()[:300], rotation = 90);"
   ]
  },
  {
   "cell_type": "markdown",
   "metadata": {},
   "source": [
    "---"
   ]
  },
  {
   "cell_type": "markdown",
   "metadata": {},
   "source": [
    "### >>> **Exercise 12 (take home):**\n",
    "Use plotly to achieve a interactive visualization."
   ]
  },
  {
   "cell_type": "code",
   "execution_count": 633,
   "metadata": {},
   "outputs": [
    {
     "name": "stdout",
     "output_type": "stream",
     "text": [
      "\u001b[33mDEPRECATION: Loading egg at /Users/irene/anaconda3/lib/python3.11/site-packages/Pfeature-1.0-py3.11.egg is deprecated. pip 25.1 will enforce this behaviour change. A possible replacement is to use pip for package installation. Discussion can be found at https://github.com/pypa/pip/issues/12330\u001b[0m\u001b[33m\n",
      "\u001b[0mRequirement already satisfied: plotly in /Users/irene/anaconda3/lib/python3.11/site-packages (6.3.0)\n",
      "Requirement already satisfied: narwhals>=1.15.1 in /Users/irene/anaconda3/lib/python3.11/site-packages (from plotly) (2.5.0)\n",
      "Requirement already satisfied: packaging in /Users/irene/anaconda3/lib/python3.11/site-packages (from plotly) (23.1)\n",
      "\n",
      "\u001b[1m[\u001b[0m\u001b[34;49mnotice\u001b[0m\u001b[1;39;49m]\u001b[0m\u001b[39;49m A new release of pip is available: \u001b[0m\u001b[31;49m25.0.1\u001b[0m\u001b[39;49m -> \u001b[0m\u001b[32;49m25.2\u001b[0m\n",
      "\u001b[1m[\u001b[0m\u001b[34;49mnotice\u001b[0m\u001b[1;39;49m]\u001b[0m\u001b[39;49m To update, run: \u001b[0m\u001b[32;49mpip install --upgrade pip\u001b[0m\n"
     ]
    }
   ],
   "source": [
    "! pip install plotly"
   ]
  },
  {
   "cell_type": "code",
   "execution_count": 634,
   "metadata": {},
   "outputs": [
    {
     "data": {
      "application/vnd.plotly.v1+json": {
       "config": {
        "plotlyServerURL": "https://plot.ly"
       },
       "data": [
        {
         "hovertemplate": "Terms=%{x}<br>Term_Frequencies=%{y}<extra></extra>",
         "legendgroup": "",
         "marker": {
          "color": "#636efa",
          "pattern": {
           "shape": ""
          }
         },
         "name": "",
         "orientation": "v",
         "showlegend": false,
         "textposition": "auto",
         "type": "bar",
         "x": [
          "00",
          "000",
          "01378",
          "02",
          "027",
          "03",
          "06",
          "08",
          "10",
          "100",
          "1000",
          "10000",
          "100k",
          "100x",
          "10k",
          "10ks",
          "10yr",
          "11",
          "116",
          "118",
          "12",
          "1242",
          "125",
          "12855584",
          "13",
          "14",
          "140",
          "145",
          "14th",
          "15",
          "150",
          "153",
          "15m",
          "16",
          "160",
          "17",
          "1700",
          "1728",
          "17th",
          "18",
          "186",
          "18630",
          "1870",
          "1934",
          "1945",
          "1947",
          "1953",
          "1961",
          "1969",
          "1973",
          "1974",
          "1981",
          "1992",
          "1999",
          "1k",
          "1m",
          "20",
          "200",
          "2007",
          "200k",
          "2011",
          "2012",
          "2017",
          "2021",
          "20211209",
          "2024",
          "2025",
          "2028",
          "2045",
          "208",
          "21",
          "22",
          "22rate",
          "23",
          "234",
          "235",
          "24",
          "25",
          "250",
          "25bps",
          "25k",
          "27",
          "28",
          "296895",
          "2c_books",
          "2c_wiki_recommendations",
          "2fapps",
          "2k",
          "2nd",
          "2s",
          "30",
          "300",
          "3000",
          "31",
          "31224",
          "31225",
          "31f",
          "33",
          "3306",
          "34",
          "35",
          "350",
          "36",
          "3a",
          "3d",
          "3f",
          "3k",
          "3oz8xzgfhartvh99yi",
          "40",
          "401k",
          "404",
          "41",
          "42",
          "4260",
          "4267",
          "4271",
          "4359",
          "45",
          "4500",
          "456",
          "46",
          "4675",
          "47",
          "4900",
          "4d",
          "4m",
          "4th",
          "4x",
          "50",
          "500",
          "5000",
          "50k",
          "50x",
          "52",
          "522",
          "540",
          "55",
          "58",
          "60",
          "600k",
          "6026762",
          "64",
          "65",
          "66",
          "6969",
          "6k",
          "6th",
          "70",
          "75",
          "7500",
          "77",
          "7k",
          "7s",
          "80",
          "81",
          "83",
          "87",
          "8882",
          "8883",
          "89",
          "90",
          "9000",
          "90k",
          "95",
          "97",
          "98",
          "98th",
          "99",
          "9k",
          "_are",
          "_so",
          "aapl",
          "ability",
          "able",
          "abolish",
          "about",
          "above",
          "absolute",
          "absolutely",
          "abuse",
          "abusing",
          "abysmal",
          "accelerate",
          "accept",
          "acceptable",
          "accepted",
          "access",
          "according",
          "account",
          "accretive",
          "acct",
          "accurate",
          "accurately",
          "aces",
          "acgl",
          "achieved",
          "achievement",
          "achieves",
          "achilles",
          "acn",
          "acquires",
          "acquisition",
          "acquisitions",
          "across",
          "act",
          "action",
          "actionable",
          "actions",
          "actively",
          "actors",
          "acts",
          "actual",
          "actually",
          "ad",
          "adausd",
          "add",
          "added",
          "addicted",
          "addicts",
          "adding",
          "addition",
          "additional",
          "addressed",
          "adjacent",
          "adjust",
          "admin",
          "administration",
          "administrations",
          "admins",
          "admit",
          "admitted",
          "adobe",
          "adp",
          "adult",
          "advanced",
          "advantage",
          "adversaries",
          "advertisements",
          "advice",
          "advise",
          "advised",
          "advisor",
          "advisors",
          "advocating",
          "aerc",
          "aerocontractors",
          "affect",
          "affected",
          "affects",
          "afford",
          "afraid",
          "africa",
          "after",
          "afternoon",
          "afterwards",
          "again",
          "against",
          "agane",
          "age",
          "aged",
          "agencies",
          "agenda",
          "agentnlp",
          "aggressively",
          "aggressor",
          "agnew",
          "ago",
          "agolf",
          "agree",
          "agreed",
          "agreement",
          "agriculture",
          "ahead",
          "ai",
          "aid",
          "aimed",
          "aiming",
          "ain",
          "air",
          "aircraft",
          "airline",
          "airlines",
          "airplane",
          "airplanes",
          "aka",
          "aladeen",
          "albeit",
          "alerts",
          "all",
          "allies",
          "allocating",
          "allocation",
          "allowed",
          "allowing",
          "allows",
          "ally",
          "almasria",
          "almost",
          "alone",
          "along"
         ],
         "xaxis": "x",
         "y": {
          "bdata": "BAYBAQEBAQEVCwEBAQEBAQEFAwEIAQIBAgEBAQEIAgEBAQEBAQECAgEDAQECAQEBAQEBAQEBAQEHAgEBAQEBAgECBgEBAQIEAQMBAQIHAwECAQIBAQEBAQIBCQEBAQEBAQECAQMCAgECAQEBBAEBAQICAQcBAQEBAQEBAQEBAQEMBAQBAQEBAQEBAgEBAgIBAQEBAgIBAgEBAwEBAQECAQUBAQEBAgEBAQEBAwIGAUQEAQMBAQEBAQIBAQEBAQEBAQEBAQEBAQMBAwEDAgEDAQEBAgULAQEBAQEBAwIEAQEDAgoBAQEBAQEBAQEBAQcBAQEDAgEDAwIBAQEBGwEBDgcBAQEBAQEBAQEMAQQBAQECBQEBAQIDAgEGAQEBAQECYQcBBgMBAwIDBgQD",
          "dtype": "i1"
         },
         "yaxis": "y"
        }
       ],
       "layout": {
        "barmode": "relative",
        "height": 600,
        "legend": {
         "tracegroupgap": 0
        },
        "template": {
         "data": {
          "bar": [
           {
            "error_x": {
             "color": "#2a3f5f"
            },
            "error_y": {
             "color": "#2a3f5f"
            },
            "marker": {
             "line": {
              "color": "#E5ECF6",
              "width": 0.5
             },
             "pattern": {
              "fillmode": "overlay",
              "size": 10,
              "solidity": 0.2
             }
            },
            "type": "bar"
           }
          ],
          "barpolar": [
           {
            "marker": {
             "line": {
              "color": "#E5ECF6",
              "width": 0.5
             },
             "pattern": {
              "fillmode": "overlay",
              "size": 10,
              "solidity": 0.2
             }
            },
            "type": "barpolar"
           }
          ],
          "carpet": [
           {
            "aaxis": {
             "endlinecolor": "#2a3f5f",
             "gridcolor": "white",
             "linecolor": "white",
             "minorgridcolor": "white",
             "startlinecolor": "#2a3f5f"
            },
            "baxis": {
             "endlinecolor": "#2a3f5f",
             "gridcolor": "white",
             "linecolor": "white",
             "minorgridcolor": "white",
             "startlinecolor": "#2a3f5f"
            },
            "type": "carpet"
           }
          ],
          "choropleth": [
           {
            "colorbar": {
             "outlinewidth": 0,
             "ticks": ""
            },
            "type": "choropleth"
           }
          ],
          "contour": [
           {
            "colorbar": {
             "outlinewidth": 0,
             "ticks": ""
            },
            "colorscale": [
             [
              0,
              "#0d0887"
             ],
             [
              0.1111111111111111,
              "#46039f"
             ],
             [
              0.2222222222222222,
              "#7201a8"
             ],
             [
              0.3333333333333333,
              "#9c179e"
             ],
             [
              0.4444444444444444,
              "#bd3786"
             ],
             [
              0.5555555555555556,
              "#d8576b"
             ],
             [
              0.6666666666666666,
              "#ed7953"
             ],
             [
              0.7777777777777778,
              "#fb9f3a"
             ],
             [
              0.8888888888888888,
              "#fdca26"
             ],
             [
              1,
              "#f0f921"
             ]
            ],
            "type": "contour"
           }
          ],
          "contourcarpet": [
           {
            "colorbar": {
             "outlinewidth": 0,
             "ticks": ""
            },
            "type": "contourcarpet"
           }
          ],
          "heatmap": [
           {
            "colorbar": {
             "outlinewidth": 0,
             "ticks": ""
            },
            "colorscale": [
             [
              0,
              "#0d0887"
             ],
             [
              0.1111111111111111,
              "#46039f"
             ],
             [
              0.2222222222222222,
              "#7201a8"
             ],
             [
              0.3333333333333333,
              "#9c179e"
             ],
             [
              0.4444444444444444,
              "#bd3786"
             ],
             [
              0.5555555555555556,
              "#d8576b"
             ],
             [
              0.6666666666666666,
              "#ed7953"
             ],
             [
              0.7777777777777778,
              "#fb9f3a"
             ],
             [
              0.8888888888888888,
              "#fdca26"
             ],
             [
              1,
              "#f0f921"
             ]
            ],
            "type": "heatmap"
           }
          ],
          "histogram": [
           {
            "marker": {
             "pattern": {
              "fillmode": "overlay",
              "size": 10,
              "solidity": 0.2
             }
            },
            "type": "histogram"
           }
          ],
          "histogram2d": [
           {
            "colorbar": {
             "outlinewidth": 0,
             "ticks": ""
            },
            "colorscale": [
             [
              0,
              "#0d0887"
             ],
             [
              0.1111111111111111,
              "#46039f"
             ],
             [
              0.2222222222222222,
              "#7201a8"
             ],
             [
              0.3333333333333333,
              "#9c179e"
             ],
             [
              0.4444444444444444,
              "#bd3786"
             ],
             [
              0.5555555555555556,
              "#d8576b"
             ],
             [
              0.6666666666666666,
              "#ed7953"
             ],
             [
              0.7777777777777778,
              "#fb9f3a"
             ],
             [
              0.8888888888888888,
              "#fdca26"
             ],
             [
              1,
              "#f0f921"
             ]
            ],
            "type": "histogram2d"
           }
          ],
          "histogram2dcontour": [
           {
            "colorbar": {
             "outlinewidth": 0,
             "ticks": ""
            },
            "colorscale": [
             [
              0,
              "#0d0887"
             ],
             [
              0.1111111111111111,
              "#46039f"
             ],
             [
              0.2222222222222222,
              "#7201a8"
             ],
             [
              0.3333333333333333,
              "#9c179e"
             ],
             [
              0.4444444444444444,
              "#bd3786"
             ],
             [
              0.5555555555555556,
              "#d8576b"
             ],
             [
              0.6666666666666666,
              "#ed7953"
             ],
             [
              0.7777777777777778,
              "#fb9f3a"
             ],
             [
              0.8888888888888888,
              "#fdca26"
             ],
             [
              1,
              "#f0f921"
             ]
            ],
            "type": "histogram2dcontour"
           }
          ],
          "mesh3d": [
           {
            "colorbar": {
             "outlinewidth": 0,
             "ticks": ""
            },
            "type": "mesh3d"
           }
          ],
          "parcoords": [
           {
            "line": {
             "colorbar": {
              "outlinewidth": 0,
              "ticks": ""
             }
            },
            "type": "parcoords"
           }
          ],
          "pie": [
           {
            "automargin": true,
            "type": "pie"
           }
          ],
          "scatter": [
           {
            "fillpattern": {
             "fillmode": "overlay",
             "size": 10,
             "solidity": 0.2
            },
            "type": "scatter"
           }
          ],
          "scatter3d": [
           {
            "line": {
             "colorbar": {
              "outlinewidth": 0,
              "ticks": ""
             }
            },
            "marker": {
             "colorbar": {
              "outlinewidth": 0,
              "ticks": ""
             }
            },
            "type": "scatter3d"
           }
          ],
          "scattercarpet": [
           {
            "marker": {
             "colorbar": {
              "outlinewidth": 0,
              "ticks": ""
             }
            },
            "type": "scattercarpet"
           }
          ],
          "scattergeo": [
           {
            "marker": {
             "colorbar": {
              "outlinewidth": 0,
              "ticks": ""
             }
            },
            "type": "scattergeo"
           }
          ],
          "scattergl": [
           {
            "marker": {
             "colorbar": {
              "outlinewidth": 0,
              "ticks": ""
             }
            },
            "type": "scattergl"
           }
          ],
          "scattermap": [
           {
            "marker": {
             "colorbar": {
              "outlinewidth": 0,
              "ticks": ""
             }
            },
            "type": "scattermap"
           }
          ],
          "scattermapbox": [
           {
            "marker": {
             "colorbar": {
              "outlinewidth": 0,
              "ticks": ""
             }
            },
            "type": "scattermapbox"
           }
          ],
          "scatterpolar": [
           {
            "marker": {
             "colorbar": {
              "outlinewidth": 0,
              "ticks": ""
             }
            },
            "type": "scatterpolar"
           }
          ],
          "scatterpolargl": [
           {
            "marker": {
             "colorbar": {
              "outlinewidth": 0,
              "ticks": ""
             }
            },
            "type": "scatterpolargl"
           }
          ],
          "scatterternary": [
           {
            "marker": {
             "colorbar": {
              "outlinewidth": 0,
              "ticks": ""
             }
            },
            "type": "scatterternary"
           }
          ],
          "surface": [
           {
            "colorbar": {
             "outlinewidth": 0,
             "ticks": ""
            },
            "colorscale": [
             [
              0,
              "#0d0887"
             ],
             [
              0.1111111111111111,
              "#46039f"
             ],
             [
              0.2222222222222222,
              "#7201a8"
             ],
             [
              0.3333333333333333,
              "#9c179e"
             ],
             [
              0.4444444444444444,
              "#bd3786"
             ],
             [
              0.5555555555555556,
              "#d8576b"
             ],
             [
              0.6666666666666666,
              "#ed7953"
             ],
             [
              0.7777777777777778,
              "#fb9f3a"
             ],
             [
              0.8888888888888888,
              "#fdca26"
             ],
             [
              1,
              "#f0f921"
             ]
            ],
            "type": "surface"
           }
          ],
          "table": [
           {
            "cells": {
             "fill": {
              "color": "#EBF0F8"
             },
             "line": {
              "color": "white"
             }
            },
            "header": {
             "fill": {
              "color": "#C8D4E3"
             },
             "line": {
              "color": "white"
             }
            },
            "type": "table"
           }
          ]
         },
         "layout": {
          "annotationdefaults": {
           "arrowcolor": "#2a3f5f",
           "arrowhead": 0,
           "arrowwidth": 1
          },
          "autotypenumbers": "strict",
          "coloraxis": {
           "colorbar": {
            "outlinewidth": 0,
            "ticks": ""
           }
          },
          "colorscale": {
           "diverging": [
            [
             0,
             "#8e0152"
            ],
            [
             0.1,
             "#c51b7d"
            ],
            [
             0.2,
             "#de77ae"
            ],
            [
             0.3,
             "#f1b6da"
            ],
            [
             0.4,
             "#fde0ef"
            ],
            [
             0.5,
             "#f7f7f7"
            ],
            [
             0.6,
             "#e6f5d0"
            ],
            [
             0.7,
             "#b8e186"
            ],
            [
             0.8,
             "#7fbc41"
            ],
            [
             0.9,
             "#4d9221"
            ],
            [
             1,
             "#276419"
            ]
           ],
           "sequential": [
            [
             0,
             "#0d0887"
            ],
            [
             0.1111111111111111,
             "#46039f"
            ],
            [
             0.2222222222222222,
             "#7201a8"
            ],
            [
             0.3333333333333333,
             "#9c179e"
            ],
            [
             0.4444444444444444,
             "#bd3786"
            ],
            [
             0.5555555555555556,
             "#d8576b"
            ],
            [
             0.6666666666666666,
             "#ed7953"
            ],
            [
             0.7777777777777778,
             "#fb9f3a"
            ],
            [
             0.8888888888888888,
             "#fdca26"
            ],
            [
             1,
             "#f0f921"
            ]
           ],
           "sequentialminus": [
            [
             0,
             "#0d0887"
            ],
            [
             0.1111111111111111,
             "#46039f"
            ],
            [
             0.2222222222222222,
             "#7201a8"
            ],
            [
             0.3333333333333333,
             "#9c179e"
            ],
            [
             0.4444444444444444,
             "#bd3786"
            ],
            [
             0.5555555555555556,
             "#d8576b"
            ],
            [
             0.6666666666666666,
             "#ed7953"
            ],
            [
             0.7777777777777778,
             "#fb9f3a"
            ],
            [
             0.8888888888888888,
             "#fdca26"
            ],
            [
             1,
             "#f0f921"
            ]
           ]
          },
          "colorway": [
           "#636efa",
           "#EF553B",
           "#00cc96",
           "#ab63fa",
           "#FFA15A",
           "#19d3f3",
           "#FF6692",
           "#B6E880",
           "#FF97FF",
           "#FECB52"
          ],
          "font": {
           "color": "#2a3f5f"
          },
          "geo": {
           "bgcolor": "white",
           "lakecolor": "white",
           "landcolor": "#E5ECF6",
           "showlakes": true,
           "showland": true,
           "subunitcolor": "white"
          },
          "hoverlabel": {
           "align": "left"
          },
          "hovermode": "closest",
          "mapbox": {
           "style": "light"
          },
          "paper_bgcolor": "white",
          "plot_bgcolor": "#E5ECF6",
          "polar": {
           "angularaxis": {
            "gridcolor": "white",
            "linecolor": "white",
            "ticks": ""
           },
           "bgcolor": "#E5ECF6",
           "radialaxis": {
            "gridcolor": "white",
            "linecolor": "white",
            "ticks": ""
           }
          },
          "scene": {
           "xaxis": {
            "backgroundcolor": "#E5ECF6",
            "gridcolor": "white",
            "gridwidth": 2,
            "linecolor": "white",
            "showbackground": true,
            "ticks": "",
            "zerolinecolor": "white"
           },
           "yaxis": {
            "backgroundcolor": "#E5ECF6",
            "gridcolor": "white",
            "gridwidth": 2,
            "linecolor": "white",
            "showbackground": true,
            "ticks": "",
            "zerolinecolor": "white"
           },
           "zaxis": {
            "backgroundcolor": "#E5ECF6",
            "gridcolor": "white",
            "gridwidth": 2,
            "linecolor": "white",
            "showbackground": true,
            "ticks": "",
            "zerolinecolor": "white"
           }
          },
          "shapedefaults": {
           "line": {
            "color": "#2a3f5f"
           }
          },
          "ternary": {
           "aaxis": {
            "gridcolor": "white",
            "linecolor": "white",
            "ticks": ""
           },
           "baxis": {
            "gridcolor": "white",
            "linecolor": "white",
            "ticks": ""
           },
           "bgcolor": "#E5ECF6",
           "caxis": {
            "gridcolor": "white",
            "linecolor": "white",
            "ticks": ""
           }
          },
          "title": {
           "x": 0.05
          },
          "xaxis": {
           "automargin": true,
           "gridcolor": "white",
           "linecolor": "white",
           "ticks": "",
           "title": {
            "standoff": 15
           },
           "zerolinecolor": "white",
           "zerolinewidth": 2
          },
          "yaxis": {
           "automargin": true,
           "gridcolor": "white",
           "linecolor": "white",
           "ticks": "",
           "title": {
            "standoff": 15
           },
           "zerolinecolor": "white",
           "zerolinewidth": 2
          }
         }
        },
        "title": {
         "text": "Exercise_12"
        },
        "width": 2500,
        "xaxis": {
         "anchor": "y",
         "domain": [
          0,
          1
         ],
         "tickangle": -90,
         "title": {
          "text": "Terms"
         }
        },
        "yaxis": {
         "anchor": "x",
         "domain": [
          0,
          1
         ],
         "title": {
          "text": "Term_Frequencies"
         }
        }
       }
      }
     },
     "metadata": {},
     "output_type": "display_data"
    }
   ],
   "source": [
    "# Answer here\n",
    "# Install and use plotly  \n",
    "# Reference: https://plotly.com/python/bar-charts/ & https://plotly.com/python/reference/layout/\n",
    "import plotly.express as px\n",
    "\n",
    "# Compute frequencies\n",
    "term_frequencies = np.asarray(X_counts.sum(axis=0))[0]\n",
    "\n",
    "# Construct dataframe with terms and their calculating frequencies\n",
    "df_use_plotly_ex12 = pd.DataFrame({\"Terms\": count_vect.get_feature_names_out()[:300], \"Term_Frequencies\": term_frequencies[:300]})\n",
    "\n",
    "# Follow plotly usage\n",
    "fig_ex12 = px.bar(df_use_plotly_ex12, \n",
    "             x = \"Terms\", \n",
    "             y = \"Term_Frequencies\",\n",
    "             title = \"Exercise_12\")\n",
    "fig_ex12.update_layout(xaxis_tickangle = -90, width = 2500, height = 600) \n",
    "# Let label of x-axis rotation like the demo\n",
    "# Setting figure size to avoid all things stacking together\n",
    "\n",
    "fig_ex12.show()"
   ]
  },
  {
   "cell_type": "markdown",
   "metadata": {},
   "source": [
    "---"
   ]
  },
  {
   "cell_type": "markdown",
   "metadata": {},
   "source": [
    "### >>> **Exercise 13 (take home):** \n",
    "Reduce the number of terms to visualize as an exercise. \n"
   ]
  },
  {
   "cell_type": "code",
   "execution_count": 635,
   "metadata": {},
   "outputs": [
    {
     "name": "stdout",
     "output_type": "stream",
     "text": [
      "Setting threshold: 20\n",
      "Remaining terms: 138\n"
     ]
    },
    {
     "data": {
      "application/vnd.plotly.v1+json": {
       "config": {
        "plotlyServerURL": "https://plot.ly"
       },
       "data": [
        {
         "hovertemplate": "Terms=%{x}<br>Term_Frequencies=%{y}<extra></extra>",
         "legendgroup": "",
         "marker": {
          "color": "#636efa",
          "pattern": {
           "shape": ""
          }
         },
         "name": "",
         "orientation": "v",
         "showlegend": false,
         "textposition": "auto",
         "type": "bar",
         "x": [
          "10",
          "about",
          "after",
          "all",
          "also",
          "an",
          "and",
          "any",
          "are",
          "as",
          "at",
          "back",
          "be",
          "because",
          "been",
          "better",
          "but",
          "buy",
          "by",
          "can",
          "china",
          "companies",
          "company",
          "could",
          "day",
          "did",
          "do",
          "doesn",
          "doing",
          "dollar",
          "don",
          "down",
          "economy",
          "even",
          "everyone",
          "first",
          "for",
          "from",
          "get",
          "go",
          "going",
          "good",
          "has",
          "have",
          "he",
          "here",
          "him",
          "his",
          "how",
          "if",
          "in",
          "into",
          "is",
          "it",
          "its",
          "just",
          "know",
          "last",
          "like",
          "ll",
          "long",
          "make",
          "market",
          "me",
          "money",
          "more",
          "most",
          "much",
          "my",
          "new",
          "no",
          "not",
          "now",
          "of",
          "off",
          "on",
          "one",
          "only",
          "or",
          "other",
          "our",
          "out",
          "over",
          "people",
          "price",
          "re",
          "really",
          "right",
          "see",
          "sell",
          "should",
          "silver",
          "since",
          "so",
          "some",
          "still",
          "stock",
          "stocks",
          "tariffs",
          "than",
          "that",
          "the",
          "their",
          "them",
          "then",
          "there",
          "these",
          "they",
          "think",
          "this",
          "time",
          "to",
          "too",
          "trade",
          "trump",
          "up",
          "us",
          "ve",
          "want",
          "was",
          "way",
          "we",
          "week",
          "well",
          "were",
          "what",
          "when",
          "which",
          "who",
          "why",
          "will",
          "with",
          "world",
          "would",
          "year",
          "years",
          "you",
          "your"
         ],
         "xaxis": "x",
         "y": {
          "bdata": "FQBEABsAYQAaACsA1wEtAJcAbwBcABUAhAAeACUAFABsABgANgBRAEgAFwAdAB8AGwAZADUAGAAgABgAIgAgABoANAAVABkA0QA5ACUAGwAyAC4ATABhAIQAGgAkADMAMwB3ABYBIgCCAVIBFgBfABcAGABTABQAFwAkAEgAIgAuAEMAFwAZAFkAFgA9AGcAPgArARcApwAyACMAUQAkABsALQAgADMAFAA5ABgAHQAnABUAGwAcABUAZQA0ABwAHAAXACcAKQDcAGoDSAA0ACEAPgAWAJQANADRACQAKgIXABUAXAA1AGAAFAAjAF4AGABRABYAFwAXAFgAKgAUACkAJgB/AHwAFwAtABUAGwDDADAA",
          "dtype": "i2"
         },
         "yaxis": "y"
        }
       ],
       "layout": {
        "barmode": "relative",
        "height": 600,
        "legend": {
         "tracegroupgap": 0
        },
        "template": {
         "data": {
          "bar": [
           {
            "error_x": {
             "color": "#2a3f5f"
            },
            "error_y": {
             "color": "#2a3f5f"
            },
            "marker": {
             "line": {
              "color": "#E5ECF6",
              "width": 0.5
             },
             "pattern": {
              "fillmode": "overlay",
              "size": 10,
              "solidity": 0.2
             }
            },
            "type": "bar"
           }
          ],
          "barpolar": [
           {
            "marker": {
             "line": {
              "color": "#E5ECF6",
              "width": 0.5
             },
             "pattern": {
              "fillmode": "overlay",
              "size": 10,
              "solidity": 0.2
             }
            },
            "type": "barpolar"
           }
          ],
          "carpet": [
           {
            "aaxis": {
             "endlinecolor": "#2a3f5f",
             "gridcolor": "white",
             "linecolor": "white",
             "minorgridcolor": "white",
             "startlinecolor": "#2a3f5f"
            },
            "baxis": {
             "endlinecolor": "#2a3f5f",
             "gridcolor": "white",
             "linecolor": "white",
             "minorgridcolor": "white",
             "startlinecolor": "#2a3f5f"
            },
            "type": "carpet"
           }
          ],
          "choropleth": [
           {
            "colorbar": {
             "outlinewidth": 0,
             "ticks": ""
            },
            "type": "choropleth"
           }
          ],
          "contour": [
           {
            "colorbar": {
             "outlinewidth": 0,
             "ticks": ""
            },
            "colorscale": [
             [
              0,
              "#0d0887"
             ],
             [
              0.1111111111111111,
              "#46039f"
             ],
             [
              0.2222222222222222,
              "#7201a8"
             ],
             [
              0.3333333333333333,
              "#9c179e"
             ],
             [
              0.4444444444444444,
              "#bd3786"
             ],
             [
              0.5555555555555556,
              "#d8576b"
             ],
             [
              0.6666666666666666,
              "#ed7953"
             ],
             [
              0.7777777777777778,
              "#fb9f3a"
             ],
             [
              0.8888888888888888,
              "#fdca26"
             ],
             [
              1,
              "#f0f921"
             ]
            ],
            "type": "contour"
           }
          ],
          "contourcarpet": [
           {
            "colorbar": {
             "outlinewidth": 0,
             "ticks": ""
            },
            "type": "contourcarpet"
           }
          ],
          "heatmap": [
           {
            "colorbar": {
             "outlinewidth": 0,
             "ticks": ""
            },
            "colorscale": [
             [
              0,
              "#0d0887"
             ],
             [
              0.1111111111111111,
              "#46039f"
             ],
             [
              0.2222222222222222,
              "#7201a8"
             ],
             [
              0.3333333333333333,
              "#9c179e"
             ],
             [
              0.4444444444444444,
              "#bd3786"
             ],
             [
              0.5555555555555556,
              "#d8576b"
             ],
             [
              0.6666666666666666,
              "#ed7953"
             ],
             [
              0.7777777777777778,
              "#fb9f3a"
             ],
             [
              0.8888888888888888,
              "#fdca26"
             ],
             [
              1,
              "#f0f921"
             ]
            ],
            "type": "heatmap"
           }
          ],
          "histogram": [
           {
            "marker": {
             "pattern": {
              "fillmode": "overlay",
              "size": 10,
              "solidity": 0.2
             }
            },
            "type": "histogram"
           }
          ],
          "histogram2d": [
           {
            "colorbar": {
             "outlinewidth": 0,
             "ticks": ""
            },
            "colorscale": [
             [
              0,
              "#0d0887"
             ],
             [
              0.1111111111111111,
              "#46039f"
             ],
             [
              0.2222222222222222,
              "#7201a8"
             ],
             [
              0.3333333333333333,
              "#9c179e"
             ],
             [
              0.4444444444444444,
              "#bd3786"
             ],
             [
              0.5555555555555556,
              "#d8576b"
             ],
             [
              0.6666666666666666,
              "#ed7953"
             ],
             [
              0.7777777777777778,
              "#fb9f3a"
             ],
             [
              0.8888888888888888,
              "#fdca26"
             ],
             [
              1,
              "#f0f921"
             ]
            ],
            "type": "histogram2d"
           }
          ],
          "histogram2dcontour": [
           {
            "colorbar": {
             "outlinewidth": 0,
             "ticks": ""
            },
            "colorscale": [
             [
              0,
              "#0d0887"
             ],
             [
              0.1111111111111111,
              "#46039f"
             ],
             [
              0.2222222222222222,
              "#7201a8"
             ],
             [
              0.3333333333333333,
              "#9c179e"
             ],
             [
              0.4444444444444444,
              "#bd3786"
             ],
             [
              0.5555555555555556,
              "#d8576b"
             ],
             [
              0.6666666666666666,
              "#ed7953"
             ],
             [
              0.7777777777777778,
              "#fb9f3a"
             ],
             [
              0.8888888888888888,
              "#fdca26"
             ],
             [
              1,
              "#f0f921"
             ]
            ],
            "type": "histogram2dcontour"
           }
          ],
          "mesh3d": [
           {
            "colorbar": {
             "outlinewidth": 0,
             "ticks": ""
            },
            "type": "mesh3d"
           }
          ],
          "parcoords": [
           {
            "line": {
             "colorbar": {
              "outlinewidth": 0,
              "ticks": ""
             }
            },
            "type": "parcoords"
           }
          ],
          "pie": [
           {
            "automargin": true,
            "type": "pie"
           }
          ],
          "scatter": [
           {
            "fillpattern": {
             "fillmode": "overlay",
             "size": 10,
             "solidity": 0.2
            },
            "type": "scatter"
           }
          ],
          "scatter3d": [
           {
            "line": {
             "colorbar": {
              "outlinewidth": 0,
              "ticks": ""
             }
            },
            "marker": {
             "colorbar": {
              "outlinewidth": 0,
              "ticks": ""
             }
            },
            "type": "scatter3d"
           }
          ],
          "scattercarpet": [
           {
            "marker": {
             "colorbar": {
              "outlinewidth": 0,
              "ticks": ""
             }
            },
            "type": "scattercarpet"
           }
          ],
          "scattergeo": [
           {
            "marker": {
             "colorbar": {
              "outlinewidth": 0,
              "ticks": ""
             }
            },
            "type": "scattergeo"
           }
          ],
          "scattergl": [
           {
            "marker": {
             "colorbar": {
              "outlinewidth": 0,
              "ticks": ""
             }
            },
            "type": "scattergl"
           }
          ],
          "scattermap": [
           {
            "marker": {
             "colorbar": {
              "outlinewidth": 0,
              "ticks": ""
             }
            },
            "type": "scattermap"
           }
          ],
          "scattermapbox": [
           {
            "marker": {
             "colorbar": {
              "outlinewidth": 0,
              "ticks": ""
             }
            },
            "type": "scattermapbox"
           }
          ],
          "scatterpolar": [
           {
            "marker": {
             "colorbar": {
              "outlinewidth": 0,
              "ticks": ""
             }
            },
            "type": "scatterpolar"
           }
          ],
          "scatterpolargl": [
           {
            "marker": {
             "colorbar": {
              "outlinewidth": 0,
              "ticks": ""
             }
            },
            "type": "scatterpolargl"
           }
          ],
          "scatterternary": [
           {
            "marker": {
             "colorbar": {
              "outlinewidth": 0,
              "ticks": ""
             }
            },
            "type": "scatterternary"
           }
          ],
          "surface": [
           {
            "colorbar": {
             "outlinewidth": 0,
             "ticks": ""
            },
            "colorscale": [
             [
              0,
              "#0d0887"
             ],
             [
              0.1111111111111111,
              "#46039f"
             ],
             [
              0.2222222222222222,
              "#7201a8"
             ],
             [
              0.3333333333333333,
              "#9c179e"
             ],
             [
              0.4444444444444444,
              "#bd3786"
             ],
             [
              0.5555555555555556,
              "#d8576b"
             ],
             [
              0.6666666666666666,
              "#ed7953"
             ],
             [
              0.7777777777777778,
              "#fb9f3a"
             ],
             [
              0.8888888888888888,
              "#fdca26"
             ],
             [
              1,
              "#f0f921"
             ]
            ],
            "type": "surface"
           }
          ],
          "table": [
           {
            "cells": {
             "fill": {
              "color": "#EBF0F8"
             },
             "line": {
              "color": "white"
             }
            },
            "header": {
             "fill": {
              "color": "#C8D4E3"
             },
             "line": {
              "color": "white"
             }
            },
            "type": "table"
           }
          ]
         },
         "layout": {
          "annotationdefaults": {
           "arrowcolor": "#2a3f5f",
           "arrowhead": 0,
           "arrowwidth": 1
          },
          "autotypenumbers": "strict",
          "coloraxis": {
           "colorbar": {
            "outlinewidth": 0,
            "ticks": ""
           }
          },
          "colorscale": {
           "diverging": [
            [
             0,
             "#8e0152"
            ],
            [
             0.1,
             "#c51b7d"
            ],
            [
             0.2,
             "#de77ae"
            ],
            [
             0.3,
             "#f1b6da"
            ],
            [
             0.4,
             "#fde0ef"
            ],
            [
             0.5,
             "#f7f7f7"
            ],
            [
             0.6,
             "#e6f5d0"
            ],
            [
             0.7,
             "#b8e186"
            ],
            [
             0.8,
             "#7fbc41"
            ],
            [
             0.9,
             "#4d9221"
            ],
            [
             1,
             "#276419"
            ]
           ],
           "sequential": [
            [
             0,
             "#0d0887"
            ],
            [
             0.1111111111111111,
             "#46039f"
            ],
            [
             0.2222222222222222,
             "#7201a8"
            ],
            [
             0.3333333333333333,
             "#9c179e"
            ],
            [
             0.4444444444444444,
             "#bd3786"
            ],
            [
             0.5555555555555556,
             "#d8576b"
            ],
            [
             0.6666666666666666,
             "#ed7953"
            ],
            [
             0.7777777777777778,
             "#fb9f3a"
            ],
            [
             0.8888888888888888,
             "#fdca26"
            ],
            [
             1,
             "#f0f921"
            ]
           ],
           "sequentialminus": [
            [
             0,
             "#0d0887"
            ],
            [
             0.1111111111111111,
             "#46039f"
            ],
            [
             0.2222222222222222,
             "#7201a8"
            ],
            [
             0.3333333333333333,
             "#9c179e"
            ],
            [
             0.4444444444444444,
             "#bd3786"
            ],
            [
             0.5555555555555556,
             "#d8576b"
            ],
            [
             0.6666666666666666,
             "#ed7953"
            ],
            [
             0.7777777777777778,
             "#fb9f3a"
            ],
            [
             0.8888888888888888,
             "#fdca26"
            ],
            [
             1,
             "#f0f921"
            ]
           ]
          },
          "colorway": [
           "#636efa",
           "#EF553B",
           "#00cc96",
           "#ab63fa",
           "#FFA15A",
           "#19d3f3",
           "#FF6692",
           "#B6E880",
           "#FF97FF",
           "#FECB52"
          ],
          "font": {
           "color": "#2a3f5f"
          },
          "geo": {
           "bgcolor": "white",
           "lakecolor": "white",
           "landcolor": "#E5ECF6",
           "showlakes": true,
           "showland": true,
           "subunitcolor": "white"
          },
          "hoverlabel": {
           "align": "left"
          },
          "hovermode": "closest",
          "mapbox": {
           "style": "light"
          },
          "paper_bgcolor": "white",
          "plot_bgcolor": "#E5ECF6",
          "polar": {
           "angularaxis": {
            "gridcolor": "white",
            "linecolor": "white",
            "ticks": ""
           },
           "bgcolor": "#E5ECF6",
           "radialaxis": {
            "gridcolor": "white",
            "linecolor": "white",
            "ticks": ""
           }
          },
          "scene": {
           "xaxis": {
            "backgroundcolor": "#E5ECF6",
            "gridcolor": "white",
            "gridwidth": 2,
            "linecolor": "white",
            "showbackground": true,
            "ticks": "",
            "zerolinecolor": "white"
           },
           "yaxis": {
            "backgroundcolor": "#E5ECF6",
            "gridcolor": "white",
            "gridwidth": 2,
            "linecolor": "white",
            "showbackground": true,
            "ticks": "",
            "zerolinecolor": "white"
           },
           "zaxis": {
            "backgroundcolor": "#E5ECF6",
            "gridcolor": "white",
            "gridwidth": 2,
            "linecolor": "white",
            "showbackground": true,
            "ticks": "",
            "zerolinecolor": "white"
           }
          },
          "shapedefaults": {
           "line": {
            "color": "#2a3f5f"
           }
          },
          "ternary": {
           "aaxis": {
            "gridcolor": "white",
            "linecolor": "white",
            "ticks": ""
           },
           "baxis": {
            "gridcolor": "white",
            "linecolor": "white",
            "ticks": ""
           },
           "bgcolor": "#E5ECF6",
           "caxis": {
            "gridcolor": "white",
            "linecolor": "white",
            "ticks": ""
           }
          },
          "title": {
           "x": 0.05
          },
          "xaxis": {
           "automargin": true,
           "gridcolor": "white",
           "linecolor": "white",
           "ticks": "",
           "title": {
            "standoff": 15
           },
           "zerolinecolor": "white",
           "zerolinewidth": 2
          },
          "yaxis": {
           "automargin": true,
           "gridcolor": "white",
           "linecolor": "white",
           "ticks": "",
           "title": {
            "standoff": 15
           },
           "zerolinecolor": "white",
           "zerolinewidth": 2
          }
         }
        },
        "title": {
         "text": "Exercise_13"
        },
        "width": 2500,
        "xaxis": {
         "anchor": "y",
         "domain": [
          0,
          1
         ],
         "tickangle": -90,
         "title": {
          "text": "Terms"
         }
        },
        "yaxis": {
         "anchor": "x",
         "domain": [
          0,
          1
         ],
         "title": {
          "text": "Term_Frequencies"
         }
        }
       }
      }
     },
     "metadata": {},
     "output_type": "display_data"
    }
   ],
   "source": [
    "# Answer here\n",
    "# To reduce the number of terms\n",
    "# I set up a threshold to filter the lower frequency terms\n",
    "# And then plot the frequency figure about the left terms\n",
    "import plotly.express as px\n",
    "\n",
    "term_frequencies = np.asarray(X_counts.sum(axis=0))[0]\n",
    "\n",
    "# Set a minimum frequency threshold to reduce number of terms\n",
    "min_frequency = 20\n",
    "print(\"Setting threshold:\", (min_frequency))\n",
    "\n",
    "# Keep frequency of terms meeting the threshold\n",
    "frequency_th = term_frequencies >= min_frequency\n",
    "\n",
    "# Filter terms and frequencies from threshold\n",
    "filter_terms = count_vect.get_feature_names_out()[frequency_th]\n",
    "filter_frequencies = term_frequencies[frequency_th]\n",
    "print(f\"Remaining terms: {len(filter_terms)}\")\n",
    "\n",
    "df_use_plotly_ex13 = pd.DataFrame({\"Terms\": filter_terms, \"Term_Frequencies\": filter_frequencies})\n",
    "\n",
    "fig_ex13 = px.bar(df_use_plotly_ex13, \n",
    "             x = \"Terms\", \n",
    "             y = \"Term_Frequencies\",\n",
    "             title = \"Exercise_13\")\n",
    "\n",
    "fig_ex13.update_layout(xaxis_tickangle = -90, width = 2500, height = 600)\n",
    "\n",
    "fig_ex13.show()\n",
    "\n",
    "# (Thershold, remain terms): (15, 202), (10, 310), (20, 145)"
   ]
  },
  {
   "cell_type": "markdown",
   "metadata": {},
   "source": [
    "---"
   ]
  },
  {
   "cell_type": "markdown",
   "metadata": {},
   "source": [
    "### >>> **Exercise 14 (take home):** \n",
    "Sort the terms on the `x-axis` by frequency instead of in alphabetical order. "
   ]
  },
  {
   "cell_type": "code",
   "execution_count": 636,
   "metadata": {},
   "outputs": [
    {
     "data": {
      "application/vnd.plotly.v1+json": {
       "config": {
        "plotlyServerURL": "https://plot.ly"
       },
       "data": [
        {
         "hovertemplate": "Terms=%{x}<br>Term_Frequencies=%{y}<extra></extra>",
         "legendgroup": "",
         "marker": {
          "color": "#636efa",
          "pattern": {
           "shape": ""
          }
         },
         "name": "",
         "orientation": "v",
         "showlegend": false,
         "textposition": "auto",
         "type": "bar",
         "x": [
          "the",
          "to",
          "and",
          "is",
          "it",
          "of",
          "in",
          "that",
          "this",
          "for",
          "you",
          "on",
          "are",
          "they",
          "he",
          "be",
          "will",
          "with",
          "if",
          "as",
          "but",
          "not",
          "so",
          "all",
          "have",
          "us",
          "just",
          "was",
          "trump",
          "at",
          "my",
          "what",
          "like",
          "or",
          "can",
          "we",
          "has",
          "market",
          "their",
          "china",
          "about",
          "more",
          "there",
          "now",
          "no",
          "re",
          "from",
          "by",
          "up",
          "do",
          "even",
          "some",
          "them",
          "think",
          "his",
          "how",
          "people",
          "going",
          "one",
          "your",
          "good",
          "money",
          "any",
          "would",
          "out",
          "an",
          "when",
          "than",
          "who",
          "see",
          "tariffs",
          "why",
          "been",
          "get",
          "time",
          "other",
          "make",
          "him",
          "want",
          "only",
          "me",
          "don",
          "into",
          "then",
          "down",
          "over",
          "doing",
          "could",
          "because",
          "right",
          "company",
          "still",
          "silver",
          "stock",
          "years",
          "our",
          "go",
          "should",
          "after",
          "day",
          "also",
          "economy",
          "here",
          "much",
          "did",
          "first",
          "way",
          "dollar",
          "doesn",
          "buy",
          "last",
          "really",
          "well",
          "companies",
          "know",
          "long",
          "too",
          "most",
          "world",
          "off",
          "stocks",
          "were",
          "week",
          "new",
          "its",
          "these",
          "year",
          "trade",
          "10",
          "sell",
          "everyone",
          "back",
          "since",
          "better",
          "which",
          "ll",
          "ve",
          "price",
          "looking",
          "same",
          "call",
          "american",
          "every",
          "xi",
          "own",
          "need",
          "emote",
          "fuck",
          "does",
          "wants",
          "things",
          "high",
          "say",
          "bad",
          "img",
          "x200b",
          "t5_2th52",
          "never",
          "term",
          "already",
          "someone",
          "anything",
          "today",
          "trading",
          "let",
          "thing",
          "take",
          "point",
          "isn",
          "president",
          "where",
          "seems",
          "news",
          "had",
          "literally",
          "america",
          "big",
          "selling",
          "before",
          "got",
          "bonds",
          "bond",
          "am",
          "shit",
          "look",
          "invest",
          "reason",
          "feel",
          "usa",
          "country",
          "end",
          "hold",
          "war",
          "technology",
          "calls",
          "something",
          "made",
          "nothing",
          "didn",
          "next",
          "portfolio",
          "again",
          "put",
          "sure",
          "few",
          "come",
          "deal",
          "she",
          "many",
          "worse",
          "least",
          "everything",
          "without",
          "anyone",
          "might",
          "countries",
          "tariff",
          "pretty",
          "reddit",
          "buying",
          "another",
          "chinese",
          "said",
          "great",
          "usd",
          "happening",
          "work",
          "50",
          "real",
          "please",
          "else",
          "lot",
          "lose",
          "done",
          "industry",
          "far",
          "currently",
          "target",
          "power",
          "ago",
          "plan",
          "puts",
          "investors",
          "won",
          "while",
          "higher",
          "moving",
          "life",
          "fed",
          "star",
          "called",
          "ever",
          "lithium",
          "rest",
          "happen",
          "actually",
          "risk",
          "free",
          "always",
          "lol",
          "cash",
          "making",
          "very",
          "100",
          "gonna",
          "probably",
          "investment",
          "believe",
          "seen",
          "getting",
          "rates",
          "growth",
          "love",
          "haven",
          "help",
          "short",
          "analysis",
          "little",
          "gold",
          "place",
          "went",
          "thanks",
          "around",
          "both",
          "government",
          "earnings",
          "paper",
          "being",
          "support",
          "days",
          "those",
          "though",
          "until",
          "group",
          "maybe",
          "administration",
          "use",
          "idea",
          "likely",
          "data"
         ],
         "xaxis": "x",
         "y": {
          "bdata": "agMqAtcBggFSASsBFgHcANEA0QDDAKcAlwCUAIQAhAB/AHwAdwBvAGwAZwBlAGEAYQBgAF8AXgBcAFwAWQBYAFMAUQBRAFEATABIAEgASABEAEMAPgA+AD0AOQA5ADYANQA1ADQANAA0ADQAMwAzADMAMgAyADAALgAuAC0ALQAtACsAKgApACkAJwAnACYAJQAlACQAJAAkACQAIwAjACIAIgAiACEAIAAgACAAHwAeAB0AHQAcABwAHAAbABsAGwAbABsAGwAaABoAGgAZABkAGQAYABgAGAAYABgAGAAXABcAFwAXABcAFwAXABcAFwAXABYAFgAWABYAFQAVABUAFQAVABUAFQAUABQAFAAUABQAEwATABMAEwATABMAEgASABIAEgASABIAEgASABIAEgASABIAEgASABIAEgASABEAEQARABEAEQARABEAEQAQABAAEAAQABAAEAAQABAAEAAQABAAEAAQABAAEAAPAA8ADwAPAA8ADwAPAA8ADwAOAA4ADgAOAA4ADgAOAA4ADgAOAA4ADgANAA0ADQANAA0ADQANAA0ADQANAA0ADQANAA0ADQANAA0ADAAMAAwADAAMAAwADAAMAAwADAAMAAwADAAMAAwADAAMAAwADAAMAAwADAALAAsACwALAAsACwALAAsACwALAAsACwALAAsACwALAAsACwALAAsACwALAAsACwALAAsACwALAAoACgAKAAoACgAKAAoACgAKAAoACgAKAAoACgAKAAoACgAKAAoACgAKAAoACgAKAAoACgAJAAkA",
          "dtype": "i2"
         },
         "yaxis": "y"
        }
       ],
       "layout": {
        "barmode": "relative",
        "height": 600,
        "legend": {
         "tracegroupgap": 0
        },
        "template": {
         "data": {
          "bar": [
           {
            "error_x": {
             "color": "#2a3f5f"
            },
            "error_y": {
             "color": "#2a3f5f"
            },
            "marker": {
             "line": {
              "color": "#E5ECF6",
              "width": 0.5
             },
             "pattern": {
              "fillmode": "overlay",
              "size": 10,
              "solidity": 0.2
             }
            },
            "type": "bar"
           }
          ],
          "barpolar": [
           {
            "marker": {
             "line": {
              "color": "#E5ECF6",
              "width": 0.5
             },
             "pattern": {
              "fillmode": "overlay",
              "size": 10,
              "solidity": 0.2
             }
            },
            "type": "barpolar"
           }
          ],
          "carpet": [
           {
            "aaxis": {
             "endlinecolor": "#2a3f5f",
             "gridcolor": "white",
             "linecolor": "white",
             "minorgridcolor": "white",
             "startlinecolor": "#2a3f5f"
            },
            "baxis": {
             "endlinecolor": "#2a3f5f",
             "gridcolor": "white",
             "linecolor": "white",
             "minorgridcolor": "white",
             "startlinecolor": "#2a3f5f"
            },
            "type": "carpet"
           }
          ],
          "choropleth": [
           {
            "colorbar": {
             "outlinewidth": 0,
             "ticks": ""
            },
            "type": "choropleth"
           }
          ],
          "contour": [
           {
            "colorbar": {
             "outlinewidth": 0,
             "ticks": ""
            },
            "colorscale": [
             [
              0,
              "#0d0887"
             ],
             [
              0.1111111111111111,
              "#46039f"
             ],
             [
              0.2222222222222222,
              "#7201a8"
             ],
             [
              0.3333333333333333,
              "#9c179e"
             ],
             [
              0.4444444444444444,
              "#bd3786"
             ],
             [
              0.5555555555555556,
              "#d8576b"
             ],
             [
              0.6666666666666666,
              "#ed7953"
             ],
             [
              0.7777777777777778,
              "#fb9f3a"
             ],
             [
              0.8888888888888888,
              "#fdca26"
             ],
             [
              1,
              "#f0f921"
             ]
            ],
            "type": "contour"
           }
          ],
          "contourcarpet": [
           {
            "colorbar": {
             "outlinewidth": 0,
             "ticks": ""
            },
            "type": "contourcarpet"
           }
          ],
          "heatmap": [
           {
            "colorbar": {
             "outlinewidth": 0,
             "ticks": ""
            },
            "colorscale": [
             [
              0,
              "#0d0887"
             ],
             [
              0.1111111111111111,
              "#46039f"
             ],
             [
              0.2222222222222222,
              "#7201a8"
             ],
             [
              0.3333333333333333,
              "#9c179e"
             ],
             [
              0.4444444444444444,
              "#bd3786"
             ],
             [
              0.5555555555555556,
              "#d8576b"
             ],
             [
              0.6666666666666666,
              "#ed7953"
             ],
             [
              0.7777777777777778,
              "#fb9f3a"
             ],
             [
              0.8888888888888888,
              "#fdca26"
             ],
             [
              1,
              "#f0f921"
             ]
            ],
            "type": "heatmap"
           }
          ],
          "histogram": [
           {
            "marker": {
             "pattern": {
              "fillmode": "overlay",
              "size": 10,
              "solidity": 0.2
             }
            },
            "type": "histogram"
           }
          ],
          "histogram2d": [
           {
            "colorbar": {
             "outlinewidth": 0,
             "ticks": ""
            },
            "colorscale": [
             [
              0,
              "#0d0887"
             ],
             [
              0.1111111111111111,
              "#46039f"
             ],
             [
              0.2222222222222222,
              "#7201a8"
             ],
             [
              0.3333333333333333,
              "#9c179e"
             ],
             [
              0.4444444444444444,
              "#bd3786"
             ],
             [
              0.5555555555555556,
              "#d8576b"
             ],
             [
              0.6666666666666666,
              "#ed7953"
             ],
             [
              0.7777777777777778,
              "#fb9f3a"
             ],
             [
              0.8888888888888888,
              "#fdca26"
             ],
             [
              1,
              "#f0f921"
             ]
            ],
            "type": "histogram2d"
           }
          ],
          "histogram2dcontour": [
           {
            "colorbar": {
             "outlinewidth": 0,
             "ticks": ""
            },
            "colorscale": [
             [
              0,
              "#0d0887"
             ],
             [
              0.1111111111111111,
              "#46039f"
             ],
             [
              0.2222222222222222,
              "#7201a8"
             ],
             [
              0.3333333333333333,
              "#9c179e"
             ],
             [
              0.4444444444444444,
              "#bd3786"
             ],
             [
              0.5555555555555556,
              "#d8576b"
             ],
             [
              0.6666666666666666,
              "#ed7953"
             ],
             [
              0.7777777777777778,
              "#fb9f3a"
             ],
             [
              0.8888888888888888,
              "#fdca26"
             ],
             [
              1,
              "#f0f921"
             ]
            ],
            "type": "histogram2dcontour"
           }
          ],
          "mesh3d": [
           {
            "colorbar": {
             "outlinewidth": 0,
             "ticks": ""
            },
            "type": "mesh3d"
           }
          ],
          "parcoords": [
           {
            "line": {
             "colorbar": {
              "outlinewidth": 0,
              "ticks": ""
             }
            },
            "type": "parcoords"
           }
          ],
          "pie": [
           {
            "automargin": true,
            "type": "pie"
           }
          ],
          "scatter": [
           {
            "fillpattern": {
             "fillmode": "overlay",
             "size": 10,
             "solidity": 0.2
            },
            "type": "scatter"
           }
          ],
          "scatter3d": [
           {
            "line": {
             "colorbar": {
              "outlinewidth": 0,
              "ticks": ""
             }
            },
            "marker": {
             "colorbar": {
              "outlinewidth": 0,
              "ticks": ""
             }
            },
            "type": "scatter3d"
           }
          ],
          "scattercarpet": [
           {
            "marker": {
             "colorbar": {
              "outlinewidth": 0,
              "ticks": ""
             }
            },
            "type": "scattercarpet"
           }
          ],
          "scattergeo": [
           {
            "marker": {
             "colorbar": {
              "outlinewidth": 0,
              "ticks": ""
             }
            },
            "type": "scattergeo"
           }
          ],
          "scattergl": [
           {
            "marker": {
             "colorbar": {
              "outlinewidth": 0,
              "ticks": ""
             }
            },
            "type": "scattergl"
           }
          ],
          "scattermap": [
           {
            "marker": {
             "colorbar": {
              "outlinewidth": 0,
              "ticks": ""
             }
            },
            "type": "scattermap"
           }
          ],
          "scattermapbox": [
           {
            "marker": {
             "colorbar": {
              "outlinewidth": 0,
              "ticks": ""
             }
            },
            "type": "scattermapbox"
           }
          ],
          "scatterpolar": [
           {
            "marker": {
             "colorbar": {
              "outlinewidth": 0,
              "ticks": ""
             }
            },
            "type": "scatterpolar"
           }
          ],
          "scatterpolargl": [
           {
            "marker": {
             "colorbar": {
              "outlinewidth": 0,
              "ticks": ""
             }
            },
            "type": "scatterpolargl"
           }
          ],
          "scatterternary": [
           {
            "marker": {
             "colorbar": {
              "outlinewidth": 0,
              "ticks": ""
             }
            },
            "type": "scatterternary"
           }
          ],
          "surface": [
           {
            "colorbar": {
             "outlinewidth": 0,
             "ticks": ""
            },
            "colorscale": [
             [
              0,
              "#0d0887"
             ],
             [
              0.1111111111111111,
              "#46039f"
             ],
             [
              0.2222222222222222,
              "#7201a8"
             ],
             [
              0.3333333333333333,
              "#9c179e"
             ],
             [
              0.4444444444444444,
              "#bd3786"
             ],
             [
              0.5555555555555556,
              "#d8576b"
             ],
             [
              0.6666666666666666,
              "#ed7953"
             ],
             [
              0.7777777777777778,
              "#fb9f3a"
             ],
             [
              0.8888888888888888,
              "#fdca26"
             ],
             [
              1,
              "#f0f921"
             ]
            ],
            "type": "surface"
           }
          ],
          "table": [
           {
            "cells": {
             "fill": {
              "color": "#EBF0F8"
             },
             "line": {
              "color": "white"
             }
            },
            "header": {
             "fill": {
              "color": "#C8D4E3"
             },
             "line": {
              "color": "white"
             }
            },
            "type": "table"
           }
          ]
         },
         "layout": {
          "annotationdefaults": {
           "arrowcolor": "#2a3f5f",
           "arrowhead": 0,
           "arrowwidth": 1
          },
          "autotypenumbers": "strict",
          "coloraxis": {
           "colorbar": {
            "outlinewidth": 0,
            "ticks": ""
           }
          },
          "colorscale": {
           "diverging": [
            [
             0,
             "#8e0152"
            ],
            [
             0.1,
             "#c51b7d"
            ],
            [
             0.2,
             "#de77ae"
            ],
            [
             0.3,
             "#f1b6da"
            ],
            [
             0.4,
             "#fde0ef"
            ],
            [
             0.5,
             "#f7f7f7"
            ],
            [
             0.6,
             "#e6f5d0"
            ],
            [
             0.7,
             "#b8e186"
            ],
            [
             0.8,
             "#7fbc41"
            ],
            [
             0.9,
             "#4d9221"
            ],
            [
             1,
             "#276419"
            ]
           ],
           "sequential": [
            [
             0,
             "#0d0887"
            ],
            [
             0.1111111111111111,
             "#46039f"
            ],
            [
             0.2222222222222222,
             "#7201a8"
            ],
            [
             0.3333333333333333,
             "#9c179e"
            ],
            [
             0.4444444444444444,
             "#bd3786"
            ],
            [
             0.5555555555555556,
             "#d8576b"
            ],
            [
             0.6666666666666666,
             "#ed7953"
            ],
            [
             0.7777777777777778,
             "#fb9f3a"
            ],
            [
             0.8888888888888888,
             "#fdca26"
            ],
            [
             1,
             "#f0f921"
            ]
           ],
           "sequentialminus": [
            [
             0,
             "#0d0887"
            ],
            [
             0.1111111111111111,
             "#46039f"
            ],
            [
             0.2222222222222222,
             "#7201a8"
            ],
            [
             0.3333333333333333,
             "#9c179e"
            ],
            [
             0.4444444444444444,
             "#bd3786"
            ],
            [
             0.5555555555555556,
             "#d8576b"
            ],
            [
             0.6666666666666666,
             "#ed7953"
            ],
            [
             0.7777777777777778,
             "#fb9f3a"
            ],
            [
             0.8888888888888888,
             "#fdca26"
            ],
            [
             1,
             "#f0f921"
            ]
           ]
          },
          "colorway": [
           "#636efa",
           "#EF553B",
           "#00cc96",
           "#ab63fa",
           "#FFA15A",
           "#19d3f3",
           "#FF6692",
           "#B6E880",
           "#FF97FF",
           "#FECB52"
          ],
          "font": {
           "color": "#2a3f5f"
          },
          "geo": {
           "bgcolor": "white",
           "lakecolor": "white",
           "landcolor": "#E5ECF6",
           "showlakes": true,
           "showland": true,
           "subunitcolor": "white"
          },
          "hoverlabel": {
           "align": "left"
          },
          "hovermode": "closest",
          "mapbox": {
           "style": "light"
          },
          "paper_bgcolor": "white",
          "plot_bgcolor": "#E5ECF6",
          "polar": {
           "angularaxis": {
            "gridcolor": "white",
            "linecolor": "white",
            "ticks": ""
           },
           "bgcolor": "#E5ECF6",
           "radialaxis": {
            "gridcolor": "white",
            "linecolor": "white",
            "ticks": ""
           }
          },
          "scene": {
           "xaxis": {
            "backgroundcolor": "#E5ECF6",
            "gridcolor": "white",
            "gridwidth": 2,
            "linecolor": "white",
            "showbackground": true,
            "ticks": "",
            "zerolinecolor": "white"
           },
           "yaxis": {
            "backgroundcolor": "#E5ECF6",
            "gridcolor": "white",
            "gridwidth": 2,
            "linecolor": "white",
            "showbackground": true,
            "ticks": "",
            "zerolinecolor": "white"
           },
           "zaxis": {
            "backgroundcolor": "#E5ECF6",
            "gridcolor": "white",
            "gridwidth": 2,
            "linecolor": "white",
            "showbackground": true,
            "ticks": "",
            "zerolinecolor": "white"
           }
          },
          "shapedefaults": {
           "line": {
            "color": "#2a3f5f"
           }
          },
          "ternary": {
           "aaxis": {
            "gridcolor": "white",
            "linecolor": "white",
            "ticks": ""
           },
           "baxis": {
            "gridcolor": "white",
            "linecolor": "white",
            "ticks": ""
           },
           "bgcolor": "#E5ECF6",
           "caxis": {
            "gridcolor": "white",
            "linecolor": "white",
            "ticks": ""
           }
          },
          "title": {
           "x": 0.05
          },
          "xaxis": {
           "automargin": true,
           "gridcolor": "white",
           "linecolor": "white",
           "ticks": "",
           "title": {
            "standoff": 15
           },
           "zerolinecolor": "white",
           "zerolinewidth": 2
          },
          "yaxis": {
           "automargin": true,
           "gridcolor": "white",
           "linecolor": "white",
           "ticks": "",
           "title": {
            "standoff": 15
           },
           "zerolinecolor": "white",
           "zerolinewidth": 2
          }
         }
        },
        "title": {
         "text": "Exercise_14"
        },
        "width": 2500,
        "xaxis": {
         "anchor": "y",
         "domain": [
          0,
          1
         ],
         "tickangle": -90,
         "title": {
          "text": "Terms"
         }
        },
        "yaxis": {
         "anchor": "x",
         "domain": [
          0,
          1
         ],
         "title": {
          "text": "Term_Frequencies"
         }
        }
       }
      }
     },
     "metadata": {},
     "output_type": "display_data"
    }
   ],
   "source": [
    "# Answer here\n",
    "# Sort the terms on the `x-axis` by frequency instead of in alphabetical order\n",
    "# \"term_frequencies\" can be used for feature selection to reduce the number of terms\n",
    "# It can be assumed that higher frequencies indicate terms with greater importance\n",
    "# By selecting first 300 high frequency terms: \n",
    "term_frequencies = np.asarray(X_counts.sum(axis=0))[0]\n",
    "\n",
    "# Selecting and ranking\n",
    "first_n_terms = 300\n",
    "first_n_indices = np.argsort(term_frequencies)[-first_n_terms:][::-1]\n",
    "\n",
    "df_use_plotly_ex14 = pd.DataFrame({\"Terms\": count_vect.get_feature_names_out()[first_n_indices], \"Term_Frequencies\" :term_frequencies[first_n_indices]})\n",
    "\n",
    "fig_ex14 = px.bar(df_use_plotly_ex14, \n",
    "             x = \"Terms\", \n",
    "             y = \"Term_Frequencies\",\n",
    "             title = \"Exercise_14\")\n",
    "\n",
    "fig_ex14.update_layout(xaxis_tickangle = -90, width = 2500, height = 600)\n",
    "\n",
    "fig_ex14.show()"
   ]
  },
  {
   "cell_type": "markdown",
   "metadata": {},
   "source": [
    "---"
   ]
  },
  {
   "cell_type": "markdown",
   "metadata": {},
   "source": [
    "Transform the values in that vector into the log distribution. \n",
    "Import the `math` library apply it to the array of values of the term frequency vector. "
   ]
  },
  {
   "cell_type": "code",
   "execution_count": 637,
   "metadata": {},
   "outputs": [],
   "source": [
    "import math\n",
    "term_frequencies_log = [math.log(i) for i in term_frequencies]"
   ]
  },
  {
   "cell_type": "code",
   "execution_count": 638,
   "metadata": {},
   "outputs": [
    {
     "name": "stderr",
     "output_type": "stream",
     "text": [
      "/var/folders/_k/mqb_krdx6bg3d7mfjd8wsgx00000gn/T/ipykernel_3949/2166548998.py:4: UserWarning:\n",
      "\n",
      "set_ticklabels() should only be used with a fixed number of ticks, i.e. after set_ticks() or using a FixedLocator.\n",
      "\n"
     ]
    },
    {
     "data": {
      "image/png": "[encoded data removed]",
      "text/plain": [
       "<Figure size 10000x1000 with 1 Axes>"
      ]
     },
     "metadata": {},
     "output_type": "display_data"
    }
   ],
   "source": [
    "plt.subplots(figsize=(100, 10))\n",
    "g = sns.barplot(x=count_vect.get_feature_names_out()[:300],\n",
    "                y=term_frequencies_log[:300])\n",
    "g.set_xticklabels(count_vect.get_feature_names_out()[:300], rotation = 90);"
   ]
  },
  {
   "cell_type": "markdown",
   "metadata": {},
   "source": [
    "### >>> **Exercise 15 (take home):** \n",
    "From the previous exercise and change the 'term_frequencies' variable for the 'term_frequencies_log'\n",
    "Comment about the differences and other possible insights that can get from a log distribution."
   ]
  },
  {
   "cell_type": "code",
   "execution_count": 639,
   "metadata": {},
   "outputs": [
    {
     "data": {
      "application/vnd.plotly.v1+json": {
       "config": {
        "plotlyServerURL": "https://plot.ly"
       },
       "data": [
        {
         "hovertemplate": "Terms=%{x}<br>Term_Frequencies_Log=%{y}<extra></extra>",
         "legendgroup": "",
         "marker": {
          "color": "#636efa",
          "pattern": {
           "shape": ""
          }
         },
         "name": "",
         "orientation": "v",
         "showlegend": false,
         "textposition": "auto",
         "type": "bar",
         "x": [
          "00",
          "000",
          "01378",
          "02",
          "027",
          "03",
          "06",
          "08",
          "10",
          "100",
          "1000",
          "10000",
          "100k",
          "100x",
          "10k",
          "10ks",
          "10yr",
          "11",
          "116",
          "118",
          "12",
          "1242",
          "125",
          "12855584",
          "13",
          "14",
          "140",
          "145",
          "14th",
          "15",
          "150",
          "153",
          "15m",
          "16",
          "160",
          "17",
          "1700",
          "1728",
          "17th",
          "18",
          "186",
          "18630",
          "1870",
          "1934",
          "1945",
          "1947",
          "1953",
          "1961",
          "1969",
          "1973",
          "1974",
          "1981",
          "1992",
          "1999",
          "1k",
          "1m",
          "20",
          "200",
          "2007",
          "200k",
          "2011",
          "2012",
          "2017",
          "2021",
          "20211209",
          "2024",
          "2025",
          "2028",
          "2045",
          "208",
          "21",
          "22",
          "22rate",
          "23",
          "234",
          "235",
          "24",
          "25",
          "250",
          "25bps",
          "25k",
          "27",
          "28",
          "296895",
          "2c_books",
          "2c_wiki_recommendations",
          "2fapps",
          "2k",
          "2nd",
          "2s",
          "30",
          "300",
          "3000",
          "31",
          "31224",
          "31225",
          "31f",
          "33",
          "3306",
          "34",
          "35",
          "350",
          "36",
          "3a",
          "3d",
          "3f",
          "3k",
          "3oz8xzgfhartvh99yi",
          "40",
          "401k",
          "404",
          "41",
          "42",
          "4260",
          "4267",
          "4271",
          "4359",
          "45",
          "4500",
          "456",
          "46",
          "4675",
          "47",
          "4900",
          "4d",
          "4m",
          "4th",
          "4x",
          "50",
          "500",
          "5000",
          "50k",
          "50x",
          "52",
          "522",
          "540",
          "55",
          "58",
          "60",
          "600k",
          "6026762",
          "64",
          "65",
          "66",
          "6969",
          "6k",
          "6th",
          "70",
          "75",
          "7500",
          "77",
          "7k",
          "7s",
          "80",
          "81",
          "83",
          "87",
          "8882",
          "8883",
          "89",
          "90",
          "9000",
          "90k",
          "95",
          "97",
          "98",
          "98th",
          "99",
          "9k",
          "_are",
          "_so",
          "aapl",
          "ability",
          "able",
          "abolish",
          "about",
          "above",
          "absolute",
          "absolutely",
          "abuse",
          "abusing",
          "abysmal",
          "accelerate",
          "accept",
          "acceptable",
          "accepted",
          "access",
          "according",
          "account",
          "accretive",
          "acct",
          "accurate",
          "accurately",
          "aces",
          "acgl",
          "achieved",
          "achievement",
          "achieves",
          "achilles",
          "acn",
          "acquires",
          "acquisition",
          "acquisitions",
          "across",
          "act",
          "action",
          "actionable",
          "actions",
          "actively",
          "actors",
          "acts",
          "actual",
          "actually",
          "ad",
          "adausd",
          "add",
          "added",
          "addicted",
          "addicts",
          "adding",
          "addition",
          "additional",
          "addressed",
          "adjacent",
          "adjust",
          "admin",
          "administration",
          "administrations",
          "admins",
          "admit",
          "admitted",
          "adobe",
          "adp",
          "adult",
          "advanced",
          "advantage",
          "adversaries",
          "advertisements",
          "advice",
          "advise",
          "advised",
          "advisor",
          "advisors",
          "advocating",
          "aerc",
          "aerocontractors",
          "affect",
          "affected",
          "affects",
          "afford",
          "afraid",
          "africa",
          "after",
          "afternoon",
          "afterwards",
          "again",
          "against",
          "agane",
          "age",
          "aged",
          "agencies",
          "agenda",
          "agentnlp",
          "aggressively",
          "aggressor",
          "agnew",
          "ago",
          "agolf",
          "agree",
          "agreed",
          "agreement",
          "agriculture",
          "ahead",
          "ai",
          "aid",
          "aimed",
          "aiming",
          "ain",
          "air",
          "aircraft",
          "airline",
          "airlines",
          "airplane",
          "airplanes",
          "aka",
          "aladeen",
          "albeit",
          "alerts",
          "all",
          "allies",
          "allocating",
          "allocation",
          "allowed",
          "allowing",
          "allows",
          "ally",
          "almasria",
          "almost",
          "alone",
          "along"
         ],
         "xaxis": "x",
         "y": {
          "bdata": "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",
          "dtype": "f8"
         },
         "yaxis": "y"
        }
       ],
       "layout": {
        "barmode": "relative",
        "height": 1000,
        "legend": {
         "tracegroupgap": 0
        },
        "template": {
         "data": {
          "bar": [
           {
            "error_x": {
             "color": "#2a3f5f"
            },
            "error_y": {
             "color": "#2a3f5f"
            },
            "marker": {
             "line": {
              "color": "#E5ECF6",
              "width": 0.5
             },
             "pattern": {
              "fillmode": "overlay",
              "size": 10,
              "solidity": 0.2
             }
            },
            "type": "bar"
           }
          ],
          "barpolar": [
           {
            "marker": {
             "line": {
              "color": "#E5ECF6",
              "width": 0.5
             },
             "pattern": {
              "fillmode": "overlay",
              "size": 10,
              "solidity": 0.2
             }
            },
            "type": "barpolar"
           }
          ],
          "carpet": [
           {
            "aaxis": {
             "endlinecolor": "#2a3f5f",
             "gridcolor": "white",
             "linecolor": "white",
             "minorgridcolor": "white",
             "startlinecolor": "#2a3f5f"
            },
            "baxis": {
             "endlinecolor": "#2a3f5f",
             "gridcolor": "white",
             "linecolor": "white",
             "minorgridcolor": "white",
             "startlinecolor": "#2a3f5f"
            },
            "type": "carpet"
           }
          ],
          "choropleth": [
           {
            "colorbar": {
             "outlinewidth": 0,
             "ticks": ""
            },
            "type": "choropleth"
           }
          ],
          "contour": [
           {
            "colorbar": {
             "outlinewidth": 0,
             "ticks": ""
            },
            "colorscale": [
             [
              0,
              "#0d0887"
             ],
             [
              0.1111111111111111,
              "#46039f"
             ],
             [
              0.2222222222222222,
              "#7201a8"
             ],
             [
              0.3333333333333333,
              "#9c179e"
             ],
             [
              0.4444444444444444,
              "#bd3786"
             ],
             [
              0.5555555555555556,
              "#d8576b"
             ],
             [
              0.6666666666666666,
              "#ed7953"
             ],
             [
              0.7777777777777778,
              "#fb9f3a"
             ],
             [
              0.8888888888888888,
              "#fdca26"
             ],
             [
              1,
              "#f0f921"
             ]
            ],
            "type": "contour"
           }
          ],
          "contourcarpet": [
           {
            "colorbar": {
             "outlinewidth": 0,
             "ticks": ""
            },
            "type": "contourcarpet"
           }
          ],
          "heatmap": [
           {
            "colorbar": {
             "outlinewidth": 0,
             "ticks": ""
            },
            "colorscale": [
             [
              0,
              "#0d0887"
             ],
             [
              0.1111111111111111,
              "#46039f"
             ],
             [
              0.2222222222222222,
              "#7201a8"
             ],
             [
              0.3333333333333333,
              "#9c179e"
             ],
             [
              0.4444444444444444,
              "#bd3786"
             ],
             [
              0.5555555555555556,
              "#d8576b"
             ],
             [
              0.6666666666666666,
              "#ed7953"
             ],
             [
              0.7777777777777778,
              "#fb9f3a"
             ],
             [
              0.8888888888888888,
              "#fdca26"
             ],
             [
              1,
              "#f0f921"
             ]
            ],
            "type": "heatmap"
           }
          ],
          "histogram": [
           {
            "marker": {
             "pattern": {
              "fillmode": "overlay",
              "size": 10,
              "solidity": 0.2
             }
            },
            "type": "histogram"
           }
          ],
          "histogram2d": [
           {
            "colorbar": {
             "outlinewidth": 0,
             "ticks": ""
            },
            "colorscale": [
             [
              0,
              "#0d0887"
             ],
             [
              0.1111111111111111,
              "#46039f"
             ],
             [
              0.2222222222222222,
              "#7201a8"
             ],
             [
              0.3333333333333333,
              "#9c179e"
             ],
             [
              0.4444444444444444,
              "#bd3786"
             ],
             [
              0.5555555555555556,
              "#d8576b"
             ],
             [
              0.6666666666666666,
              "#ed7953"
             ],
             [
              0.7777777777777778,
              "#fb9f3a"
             ],
             [
              0.8888888888888888,
              "#fdca26"
             ],
             [
              1,
              "#f0f921"
             ]
            ],
            "type": "histogram2d"
           }
          ],
          "histogram2dcontour": [
           {
            "colorbar": {
             "outlinewidth": 0,
             "ticks": ""
            },
            "colorscale": [
             [
              0,
              "#0d0887"
             ],
             [
              0.1111111111111111,
              "#46039f"
             ],
             [
              0.2222222222222222,
              "#7201a8"
             ],
             [
              0.3333333333333333,
              "#9c179e"
             ],
             [
              0.4444444444444444,
              "#bd3786"
             ],
             [
              0.5555555555555556,
              "#d8576b"
             ],
             [
              0.6666666666666666,
              "#ed7953"
             ],
             [
              0.7777777777777778,
              "#fb9f3a"
             ],
             [
              0.8888888888888888,
              "#fdca26"
             ],
             [
              1,
              "#f0f921"
             ]
            ],
            "type": "histogram2dcontour"
           }
          ],
          "mesh3d": [
           {
            "colorbar": {
             "outlinewidth": 0,
             "ticks": ""
            },
            "type": "mesh3d"
           }
          ],
          "parcoords": [
           {
            "line": {
             "colorbar": {
              "outlinewidth": 0,
              "ticks": ""
             }
            },
            "type": "parcoords"
           }
          ],
          "pie": [
           {
            "automargin": true,
            "type": "pie"
           }
          ],
          "scatter": [
           {
            "fillpattern": {
             "fillmode": "overlay",
             "size": 10,
             "solidity": 0.2
            },
            "type": "scatter"
           }
          ],
          "scatter3d": [
           {
            "line": {
             "colorbar": {
              "outlinewidth": 0,
              "ticks": ""
             }
            },
            "marker": {
             "colorbar": {
              "outlinewidth": 0,
              "ticks": ""
             }
            },
            "type": "scatter3d"
           }
          ],
          "scattercarpet": [
           {
            "marker": {
             "colorbar": {
              "outlinewidth": 0,
              "ticks": ""
             }
            },
            "type": "scattercarpet"
           }
          ],
          "scattergeo": [
           {
            "marker": {
             "colorbar": {
              "outlinewidth": 0,
              "ticks": ""
             }
            },
            "type": "scattergeo"
           }
          ],
          "scattergl": [
           {
            "marker": {
             "colorbar": {
              "outlinewidth": 0,
              "ticks": ""
             }
            },
            "type": "scattergl"
           }
          ],
          "scattermap": [
           {
            "marker": {
             "colorbar": {
              "outlinewidth": 0,
              "ticks": ""
             }
            },
            "type": "scattermap"
           }
          ],
          "scattermapbox": [
           {
            "marker": {
             "colorbar": {
              "outlinewidth": 0,
              "ticks": ""
             }
            },
            "type": "scattermapbox"
           }
          ],
          "scatterpolar": [
           {
            "marker": {
             "colorbar": {
              "outlinewidth": 0,
              "ticks": ""
             }
            },
            "type": "scatterpolar"
           }
          ],
          "scatterpolargl": [
           {
            "marker": {
             "colorbar": {
              "outlinewidth": 0,
              "ticks": ""
             }
            },
            "type": "scatterpolargl"
           }
          ],
          "scatterternary": [
           {
            "marker": {
             "colorbar": {
              "outlinewidth": 0,
              "ticks": ""
             }
            },
            "type": "scatterternary"
           }
          ],
          "surface": [
           {
            "colorbar": {
             "outlinewidth": 0,
             "ticks": ""
            },
            "colorscale": [
             [
              0,
              "#0d0887"
             ],
             [
              0.1111111111111111,
              "#46039f"
             ],
             [
              0.2222222222222222,
              "#7201a8"
             ],
             [
              0.3333333333333333,
              "#9c179e"
             ],
             [
              0.4444444444444444,
              "#bd3786"
             ],
             [
              0.5555555555555556,
              "#d8576b"
             ],
             [
              0.6666666666666666,
              "#ed7953"
             ],
             [
              0.7777777777777778,
              "#fb9f3a"
             ],
             [
              0.8888888888888888,
              "#fdca26"
             ],
             [
              1,
              "#f0f921"
             ]
            ],
            "type": "surface"
           }
          ],
          "table": [
           {
            "cells": {
             "fill": {
              "color": "#EBF0F8"
             },
             "line": {
              "color": "white"
             }
            },
            "header": {
             "fill": {
              "color": "#C8D4E3"
             },
             "line": {
              "color": "white"
             }
            },
            "type": "table"
           }
          ]
         },
         "layout": {
          "annotationdefaults": {
           "arrowcolor": "#2a3f5f",
           "arrowhead": 0,
           "arrowwidth": 1
          },
          "autotypenumbers": "strict",
          "coloraxis": {
           "colorbar": {
            "outlinewidth": 0,
            "ticks": ""
           }
          },
          "colorscale": {
           "diverging": [
            [
             0,
             "#8e0152"
            ],
            [
             0.1,
             "#c51b7d"
            ],
            [
             0.2,
             "#de77ae"
            ],
            [
             0.3,
             "#f1b6da"
            ],
            [
             0.4,
             "#fde0ef"
            ],
            [
             0.5,
             "#f7f7f7"
            ],
            [
             0.6,
             "#e6f5d0"
            ],
            [
             0.7,
             "#b8e186"
            ],
            [
             0.8,
             "#7fbc41"
            ],
            [
             0.9,
             "#4d9221"
            ],
            [
             1,
             "#276419"
            ]
           ],
           "sequential": [
            [
             0,
             "#0d0887"
            ],
            [
             0.1111111111111111,
             "#46039f"
            ],
            [
             0.2222222222222222,
             "#7201a8"
            ],
            [
             0.3333333333333333,
             "#9c179e"
            ],
            [
             0.4444444444444444,
             "#bd3786"
            ],
            [
             0.5555555555555556,
             "#d8576b"
            ],
            [
             0.6666666666666666,
             "#ed7953"
            ],
            [
             0.7777777777777778,
             "#fb9f3a"
            ],
            [
             0.8888888888888888,
             "#fdca26"
            ],
            [
             1,
             "#f0f921"
            ]
           ],
           "sequentialminus": [
            [
             0,
             "#0d0887"
            ],
            [
             0.1111111111111111,
             "#46039f"
            ],
            [
             0.2222222222222222,
             "#7201a8"
            ],
            [
             0.3333333333333333,
             "#9c179e"
            ],
            [
             0.4444444444444444,
             "#bd3786"
            ],
            [
             0.5555555555555556,
             "#d8576b"
            ],
            [
             0.6666666666666666,
             "#ed7953"
            ],
            [
             0.7777777777777778,
             "#fb9f3a"
            ],
            [
             0.8888888888888888,
             "#fdca26"
            ],
            [
             1,
             "#f0f921"
            ]
           ]
          },
          "colorway": [
           "#636efa",
           "#EF553B",
           "#00cc96",
           "#ab63fa",
           "#FFA15A",
           "#19d3f3",
           "#FF6692",
           "#B6E880",
           "#FF97FF",
           "#FECB52"
          ],
          "font": {
           "color": "#2a3f5f"
          },
          "geo": {
           "bgcolor": "white",
           "lakecolor": "white",
           "landcolor": "#E5ECF6",
           "showlakes": true,
           "showland": true,
           "subunitcolor": "white"
          },
          "hoverlabel": {
           "align": "left"
          },
          "hovermode": "closest",
          "mapbox": {
           "style": "light"
          },
          "paper_bgcolor": "white",
          "plot_bgcolor": "#E5ECF6",
          "polar": {
           "angularaxis": {
            "gridcolor": "white",
            "linecolor": "white",
            "ticks": ""
           },
           "bgcolor": "#E5ECF6",
           "radialaxis": {
            "gridcolor": "white",
            "linecolor": "white",
            "ticks": ""
           }
          },
          "scene": {
           "xaxis": {
            "backgroundcolor": "#E5ECF6",
            "gridcolor": "white",
            "gridwidth": 2,
            "linecolor": "white",
            "showbackground": true,
            "ticks": "",
            "zerolinecolor": "white"
           },
           "yaxis": {
            "backgroundcolor": "#E5ECF6",
            "gridcolor": "white",
            "gridwidth": 2,
            "linecolor": "white",
            "showbackground": true,
            "ticks": "",
            "zerolinecolor": "white"
           },
           "zaxis": {
            "backgroundcolor": "#E5ECF6",
            "gridcolor": "white",
            "gridwidth": 2,
            "linecolor": "white",
            "showbackground": true,
            "ticks": "",
            "zerolinecolor": "white"
           }
          },
          "shapedefaults": {
           "line": {
            "color": "#2a3f5f"
           }
          },
          "ternary": {
           "aaxis": {
            "gridcolor": "white",
            "linecolor": "white",
            "ticks": ""
           },
           "baxis": {
            "gridcolor": "white",
            "linecolor": "white",
            "ticks": ""
           },
           "bgcolor": "#E5ECF6",
           "caxis": {
            "gridcolor": "white",
            "linecolor": "white",
            "ticks": ""
           }
          },
          "title": {
           "x": 0.05
          },
          "xaxis": {
           "automargin": true,
           "gridcolor": "white",
           "linecolor": "white",
           "ticks": "",
           "title": {
            "standoff": 15
           },
           "zerolinecolor": "white",
           "zerolinewidth": 2
          },
          "yaxis": {
           "automargin": true,
           "gridcolor": "white",
           "linecolor": "white",
           "ticks": "",
           "title": {
            "standoff": 15
           },
           "zerolinecolor": "white",
           "zerolinewidth": 2
          }
         }
        },
        "title": {
         "text": "Exercise_15"
        },
        "width": 2500,
        "xaxis": {
         "anchor": "y",
         "domain": [
          0,
          1
         ],
         "tickangle": -90,
         "title": {
          "text": "Terms"
         }
        },
        "yaxis": {
         "anchor": "x",
         "domain": [
          0,
          1
         ],
         "title": {
          "text": "Term_Frequencies_Log"
         }
        }
       }
      }
     },
     "metadata": {},
     "output_type": "display_data"
    },
    {
     "data": {
      "application/vnd.plotly.v1+json": {
       "config": {
        "plotlyServerURL": "https://plot.ly"
       },
       "data": [
        {
         "hovertemplate": "Terms=%{x}<br>Term_Frequencies_Log=%{y}<extra></extra>",
         "legendgroup": "",
         "marker": {
          "color": "#636efa",
          "pattern": {
           "shape": ""
          }
         },
         "name": "",
         "orientation": "v",
         "showlegend": false,
         "textposition": "auto",
         "type": "bar",
         "x": [
          "the",
          "to",
          "and",
          "is",
          "it",
          "of",
          "in",
          "that",
          "this",
          "for",
          "you",
          "on",
          "are",
          "they",
          "he",
          "be",
          "will",
          "with",
          "if",
          "as",
          "but",
          "not",
          "so",
          "all",
          "have",
          "us",
          "just",
          "was",
          "trump",
          "at",
          "my",
          "what",
          "like",
          "or",
          "can",
          "we",
          "has",
          "market",
          "their",
          "china",
          "about",
          "more",
          "there",
          "now",
          "no",
          "re",
          "from",
          "by",
          "up",
          "do",
          "even",
          "some",
          "them",
          "think",
          "his",
          "how",
          "people",
          "going",
          "one",
          "your",
          "good",
          "money",
          "any",
          "would",
          "out",
          "an",
          "when",
          "than",
          "who",
          "see",
          "tariffs",
          "why",
          "been",
          "get",
          "time",
          "other",
          "make",
          "him",
          "want",
          "only",
          "me",
          "don",
          "into",
          "then",
          "down",
          "over",
          "doing",
          "could",
          "because",
          "right",
          "company",
          "still",
          "silver",
          "stock",
          "years",
          "our",
          "go",
          "should",
          "after",
          "day",
          "also",
          "economy",
          "here",
          "much",
          "did",
          "first",
          "way",
          "dollar",
          "doesn",
          "buy",
          "last",
          "really",
          "well",
          "companies",
          "know",
          "long",
          "too",
          "most",
          "world",
          "off",
          "stocks",
          "were",
          "week",
          "new",
          "its",
          "these",
          "year",
          "trade",
          "10",
          "sell",
          "everyone",
          "back",
          "since",
          "better",
          "which",
          "ll",
          "ve",
          "price",
          "looking",
          "same",
          "call",
          "american",
          "every",
          "xi",
          "own",
          "need",
          "emote",
          "fuck",
          "does",
          "wants",
          "things",
          "high",
          "say",
          "bad",
          "img",
          "x200b",
          "t5_2th52",
          "never",
          "term",
          "already",
          "someone",
          "anything",
          "today",
          "trading",
          "let",
          "thing",
          "take",
          "point",
          "isn",
          "president",
          "where",
          "seems",
          "news",
          "had",
          "literally",
          "america",
          "big",
          "selling",
          "before",
          "got",
          "bonds",
          "bond",
          "am",
          "shit",
          "look",
          "invest",
          "reason",
          "feel",
          "usa",
          "country",
          "end",
          "hold",
          "war",
          "technology",
          "calls",
          "something",
          "made",
          "nothing",
          "didn",
          "next",
          "portfolio",
          "again",
          "put",
          "sure",
          "few",
          "come",
          "deal",
          "she",
          "many",
          "worse",
          "least",
          "everything",
          "without",
          "anyone",
          "might",
          "countries",
          "tariff",
          "pretty",
          "reddit",
          "buying",
          "another",
          "chinese",
          "said",
          "great",
          "usd",
          "happening",
          "work",
          "50",
          "real",
          "please",
          "else",
          "lot",
          "lose",
          "done",
          "industry",
          "far",
          "currently",
          "target",
          "power",
          "ago",
          "plan",
          "puts",
          "investors",
          "won",
          "while",
          "higher",
          "moving",
          "life",
          "fed",
          "star",
          "called",
          "ever",
          "lithium",
          "rest",
          "happen",
          "actually",
          "risk",
          "free",
          "always",
          "lol",
          "cash",
          "making",
          "very",
          "100",
          "gonna",
          "probably",
          "investment",
          "believe",
          "seen",
          "getting",
          "rates",
          "growth",
          "love",
          "haven",
          "help",
          "short",
          "analysis",
          "little",
          "gold",
          "place",
          "went",
          "thanks",
          "around",
          "both",
          "government",
          "earnings",
          "paper",
          "being",
          "support",
          "days",
          "those",
          "though",
          "until",
          "group",
          "maybe",
          "administration",
          "use",
          "idea",
          "likely",
          "data",
          "water",
          "republican",
          "through",
          "read",
          "stop",
          "current",
          "share",
          "old",
          "mean",
          "comes",
          "state",
          "trust",
          "may",
          "potential",
          "stuff",
          "30",
          "month",
          "wrong",
          "investing",
          "treasuries",
          "graphite",
          "part",
          "powell",
          "lmao",
          "americans",
          "yeah",
          "squeeze",
          "past",
          "talk",
          "talking",
          "start",
          "during",
          "months",
          "lower",
          "safe",
          "yields",
          "economic",
          "massive",
          "matter",
          "debt",
          "man",
          "thought",
          "coming",
          "12",
          "media",
          "spy",
          "insider",
          "makes",
          "com",
          "bought",
          "electric",
          "yet",
          "system",
          "million",
          "line",
          "hurt",
          "15",
          "drop",
          "left",
          "ev",
          "show",
          "bull",
          "guys",
          "care",
          "goes",
          "completely",
          "aviation",
          "anymore",
          "white",
          "face",
          "dividend",
          "red",
          "using",
          "hey",
          "stockbuyvest",
          "fucking",
          "significant",
          "build",
          "guy",
          "cost",
          "started",
          "expecting",
          "sales",
          "recent",
          "recently",
          "against",
          "sector",
          "live",
          "safety",
          "full",
          "ask",
          "knows",
          "less",
          "coin",
          "worth",
          "hours",
          "thank",
          "inflight",
          "hard",
          "funds",
          "between",
          "check",
          "different",
          "advice",
          "markets",
          "dont",
          "4271",
          "working",
          "enough",
          "citizens",
          "gme",
          "prison",
          "understand",
          "crazy",
          "report",
          "win",
          "treasury",
          "congress",
          "wanted",
          "lots",
          "two",
          "find",
          "basically",
          "soon",
          "true",
          "insights",
          "lost",
          "allies",
          "losing",
          "morning",
          "play",
          "wasn",
          "based",
          "try",
          "trying",
          "record",
          "20",
          "goods",
          "ok",
          "person",
          "playing",
          "wait",
          "under",
          "physical",
          "art",
          "away",
          "late",
          "business",
          "small",
          "25",
          "found",
          "ass",
          "retard",
          "list",
          "best",
          "smart",
          "chart",
          "yes",
          "charging",
          "ccp",
          "fair",
          "inflation",
          "dollars",
          "removed",
          "tesla",
          "systems",
          "000",
          "sense",
          "change",
          "airlines",
          "falling",
          "allocation",
          "looks",
          "april",
          "inc",
          "others",
          "vs",
          "fast",
          "2025",
          "law",
          "vote",
          "product",
          "giving",
          "almost",
          "office",
          "maga",
          "local",
          "biggest",
          "assets",
          "dumb",
          "stupid",
          "political",
          "happens",
          "whole",
          "similar",
          "recession",
          "easily",
          "bank",
          "policy",
          "evgo",
          "rich",
          "post",
          "revenue",
          "able",
          "retarded",
          "future",
          "crash",
          "uk",
          "holds",
          "cut",
          "position",
          "especially",
          "trend",
          "sort",
          "interest",
          "remember",
          "such",
          "himself",
          "half",
          "avoid",
          "futures",
          "idiot",
          "game",
          "thoughts",
          "car",
          "nobody",
          "worst",
          "times",
          "capital",
          "keep",
          "shares",
          "dude",
          "due",
          "mostly",
          "strategy",
          "note",
          "cannot",
          "weeks",
          "energy",
          "wsb",
          "situation",
          "instead",
          "apple",
          "base",
          "strong",
          "kind",
          "level",
          "interesting",
          "switch",
          "international",
          "cnbc",
          "stable",
          "japan",
          "store",
          "job",
          "anyway",
          "learn",
          "spike",
          "nice",
          "actual",
          "needs",
          "couple",
          "exactly",
          "90",
          "hear",
          "orange",
          "bullshit",
          "her",
          "chatgpt",
          "highest",
          "move",
          "etfs",
          "fucked",
          "wild",
          "monday",
          "cse",
          "waiting",
          "portfolios",
          "trap",
          "wise",
          "parts",
          "unfortunately",
          "except",
          "confident",
          "question",
          "fall",
          "voted",
          "walmart",
          "once",
          "gets",
          "warning",
          "gop",
          "version",
          "nvidia",
          "northern",
          "happened",
          "cards",
          "green",
          "corp",
          "used",
          "watch",
          "uptrend",
          "ha",
          "expect",
          "reading",
          "mind",
          "friends",
          "thread",
          "bigger",
          "fire",
          "save",
          "following",
          "brain",
          "imagine",
          "saying",
          "thinking",
          "bit",
          "majority",
          "yo",
          "financial",
          "tell",
          "delusional",
          "tech",
          "demand",
          "seeing",
          "ai",
          "clown",
          "zero",
          "democracy",
          "11",
          "give",
          "foreign",
          "forward",
          "wonder",
          "dd",
          "mentioned",
          "entire",
          "top",
          "wouldn",
          "kings",
          "period",
          "chain",
          "closely",
          "sometimes",
          "large",
          "points",
          "poor",
          "kinda",
          "oil",
          "consumer",
          "perfectly",
          "popular",
          "politically",
          "ones",
          "phone",
          "online",
          "space",
          "sna",
          "pause",
          "changing",
          "solutions",
          "players",
          "paying",
          "sold",
          "pre",
          "pr",
          "combined",
          "comment",
          "propaganda",
          "social",
          "speed",
          "products",
          "possible",
          "clearly",
          "profit",
          "spend",
          "prices",
          "politics",
          "services",
          "slow",
          "russia",
          "breaking",
          "retail",
          "millions",
          "bear",
          "shipping",
          "mid",
          "rise",
          "become",
          "rising",
          "de",
          "dead",
          "book",
          "means",
          "rule",
          "deep",
          "battery",
          "living",
          "blame",
          "begging",
          "bitcoin",
          "says",
          "major",
          "billion",
          "school",
          "biden",
          "beyond",
          "second",
          "ltd",
          "low",
          "bet",
          "despite",
          "customer",
          "ceo",
          "couldn",
          "oh",
          "public",
          "officials",
          "center",
          "pushing",
          "leader",
          "cause",
          "simply",
          "cool",
          "north",
          "non",
          "rate",
          "night",
          "loss",
          "ready",
          "currency",
          "net",
          "navigation",
          "businesses",
          "dictatorship",
          "crashing",
          "relevant",
          "criminals",
          "critical",
          "remove",
          "monitoring",
          "atlas",
          "crypto",
          "shop",
          "bro",
          "00",
          "phase",
          "donald",
          "dumbass",
          "weak",
          "honestly",
          "vp",
          "fine",
          "individual",
          "follow",
          "above",
          "hell",
          "total",
          "torrente",
          "fell",
          "friday",
          "additional",
          "weekend",
          "yesterday",
          "having",
          "agree",
          "god",
          "either",
          "hasn",
          "house",
          "tracking",
          "dump",
          "step",
          "felt",
          "supply",
          "etc",
          "amzn",
          "holding",
          "insane",
          "super",
          "word",
          "survive",
          "information",
          "amazon",
          "each",
          "equities",
          "home",
          "worked",
          "works",
          "22",
          "alone",
          "traders",
          "interested",
          "history",
          "syntheia",
          "happy",
          "health",
          "terms",
          "5000",
          "guess",
          "ending",
          "stay",
          "fact",
          "square",
          "assuming",
          "starting",
          "election",
          "elected",
          "young",
          "em",
          "ticker",
          "asked",
          "federal",
          "40",
          "imo",
          "argument",
          "jail",
          "further",
          "el",
          "gaining",
          "fun",
          "standard",
          "500",
          "cycle",
          "brazilian",
          "rooting",
          "brazil",
          "genius",
          "run",
          "retards",
          "traded",
          "flat",
          "decision",
          "options",
          "premarket",
          "restaurants",
          "watching",
          "bring",
          "program",
          "actionable",
          "marine",
          "funny",
          "advisors",
          "watchlist",
          "whenever",
          "mining",
          "furniture",
          "marketing",
          "results",
          "transmission",
          "production",
          "hyperinflation",
          "traction",
          "fxaix",
          "military",
          "took",
          "chargers",
          "missing",
          "favorite",
          "wendy",
          "ton",
          "wednesday",
          "hour",
          "chasing",
          "weekly",
          "boating",
          "huge",
          "tldr",
          "told",
          "adjust",
          "together",
          "previous",
          "room",
          "gave",
          "topic",
          "decide",
          "pressure",
          "general",
          "bp",
          "boliviana",
          "damage",
          "damn",
          "metals",
          "process",
          "weaker",
          "wealth",
          "cheap",
          "hopefully",
          "tired",
          "orders",
          "adding",
          "date",
          "riot",
          "matters",
          "respond",
          "acquisition",
          "hodl",
          "upon",
          "newsletter",
          "reaction",
          "updated",
          "haha",
          "handle",
          "numbers",
          "realize",
          "hands",
          "nvda",
          "35",
          "harder",
          "executive",
          "campaign",
          "google",
          "gone",
          "receiving",
          "control",
          "80",
          "goal",
          "unexpected",
          "contracts",
          "course",
          "court",
          "cancellations",
          "expectations",
          "near",
          "expensive",
          "quite",
          "cares",
          "nonsense",
          "quickly",
          "quick",
          "raise",
          "exports",
          "extremely",
          "rally",
          "grocery",
          "explain",
          "factory",
          "case",
          "nivolumab",
          "capable",
          "rapidly",
          "growing",
          "corrupt",
          "quarterly",
          "rational",
          "vehicle",
          "casino",
          "costco",
          "nearly",
          "exact",
          "essentially",
          "23",
          "crox",
          "tsla",
          "protect",
          "truss",
          "fan",
          "moon",
          "replaced",
          "ongoing",
          "acn",
          "hive",
          "warrant",
          "thus",
          "germany",
          "hkd",
          "across",
          "repurchase",
          "brother",
          "onto",
          "moment",
          "modernizing",
          "cult",
          "consequences",
          "currencies",
          "tsx",
          "ethiopian",
          "gm",
          "mph",
          "vision",
          "buyers",
          "global",
          "aapl",
          "held",
          "nations",
          "nation",
          "bunch",
          "voters",
          "cents",
          "absolutely",
          "myself",
          "providing",
          "helps",
          "related",
          "must",
          "250",
          "european",
          "prove",
          "fake",
          "eu",
          "turns",
          "mr",
          "value",
          "normal",
          "chess",
          "learned",
          "bankrupt",
          "lesson",
          "internet",
          "sides",
          "sideways",
          "write",
          "study",
          "plays",
          "writing",
          "stronger",
          "peace",
          "shows",
          "dip",
          "investor",
          "disaster",
          "straight",
          "leading",
          "combination",
          "single",
          "drops",
          "clear",
          "site",
          "banned",
          "dumping",
          "appreciated",
          "finance",
          "easy",
          "supreme",
          "shift",
          "amount",
          "supported",
          "policies",
          "comments",
          "supplier",
          "forget",
          "forever",
          "circle",
          "116",
          "limited",
          "suffer",
          "words",
          "pay",
          "lie",
          "shorts",
          "developments",
          "ford",
          "successful",
          "announced",
          "sitting",
          "plans",
          "eating",
          "firms",
          "stations",
          "states",
          "article",
          "itself",
          "auto",
          "kiss",
          "sorry",
          "jan",
          "downtrend",
          "close",
          "yourself",
          "perfect",
          "doge",
          "personal",
          "attention",
          "jerome",
          "specific",
          "asml",
          "personally",
          "double",
          "spent",
          "joke",
          "performance",
          "steal",
          "slave",
          "yield",
          "laugh",
          "backed",
          "ipilimumab",
          "discount",
          "later",
          "driving",
          "slv",
          "drive",
          "drinking",
          "smaller",
          "peoples",
          "known",
          "largest",
          "stick",
          "land",
          "isms",
          "aren",
          "aviación",
          "discussions",
          "disgusting",
          "isnt",
          "issue",
          "depression",
          "destroying",
          "passed",
          "impact",
          "independent",
          "selloff",
          "effect",
          "partners",
          "chicks",
          "comparison",
          "edit",
          "thesis",
          "industries",
          "third",
          "posts",
          "takes",
          "im",
          "edge",
          "manage",
          "below",
          "winning",
          "main",
          "tank",
          "imports",
          "sec",
          "telling",
          "technologies",
          "lying",
          "machine",
          "screwed",
          "willing",
          "common",
          "positions",
          "18630",
          "tends",
          "terrible",
          "increases",
          "air",
          "wife",
          "service",
          "sentiment",
          "black",
          "almasria",
          "party",
          "pass",
          "along",
          "aerocontractors",
          "set",
          "lmk",
          "sw",
          "mango",
          "liz",
          "amc",
          "manipulation",
          "info",
          "idiots",
          "depressing",
          "shaun",
          "definitely",
          "improvement",
          "looked",
          "affect",
          "economist",
          "saving",
          "allows",
          "longer",
          "within",
          "allowed",
          "tactics",
          "percent",
          "otherwise",
          "college",
          "complete",
          "pandemic",
          "coffee",
          "comply",
          "fix",
          "gotten",
          "co",
          "obama",
          "panic",
          "gain",
          "fixed",
          "controls",
          "compliance",
          "compete",
          "number",
          "overvalued",
          "flow",
          "nuclear",
          "gotta",
          "collaboration",
          "compare",
          "cooked",
          "perhaps",
          "focus",
          "firing",
          "fear",
          "concern",
          "factories",
          "fund",
          "gamestop",
          "games",
          "patients",
          "girl",
          "ordered",
          "confidence",
          "falls",
          "oracle",
          "family",
          "partnership",
          "force",
          "generated",
          "generations",
          "pattern",
          "pack",
          "patient",
          "fsggx",
          "german",
          "fidelity",
          "commenting",
          "conservatives",
          "conservative",
          "consequence",
          "optimizing",
          "figured",
          "forgot",
          "farm",
          "confused",
          "figure",
          "pbr",
          "felon",
          "girls",
          "given",
          "feels",
          "obvious",
          "focuses",
          "contract",
          "communication",
          "fees",
          "pelosi",
          "fired",
          "folks",
          "continuing",
          "globally",
          "opposite",
          "offering",
          "friend",
          "french",
          "oscr",
          "glass",
          "context",
          "conclusion",
          "gives",
          "often",
          "gbtc",
          "peanut",
          "commitment",
          "footsteps",
          "fundamentals",
          "missed",
          "nope",
          "luck",
          "including",
          "income",
          "lows",
          "efficiently",
          "increased",
          "increasing",
          "incredible",
          "effectively",
          "effective",
          "india",
          "losses",
          "losers",
          "economics",
          "denial",
          "dependent",
          "deporting",
          "loans",
          "infrastructure",
          "eat",
          "innovation",
          "innovative",
          "description",
          "listed",
          "include",
          "incentive",
          "designed",
          "egypt",
          "enjoy",
          "hurts",
          "declare",
          "decline",
          "ice",
          "ideas",
          "defense",
          "empty",
          "margin",
          "mara",
          "manufacturing",
          "empires",
          "management",
          "illegal",
          "elon",
          "import",
          "important",
          "degree",
          "dei",
          "elect",
          "delay",
          "mad",
          "lump",
          "inquiries",
          "link",
          "decided",
          "launch",
          "discord",
          "ipos",
          "ironically",
          "dream",
          "larger",
          "draw",
          "knowledge",
          "issues",
          "knowing",
          "items",
          "dividends",
          "kissing",
          "documents",
          "kick",
          "japanese",
          "key",
          "kept",
          "keeping",
          "kavl",
          "jesus",
          "dope",
          "jobs",
          "jpow",
          "laughable",
          "dropped",
          "lines",
          "ip",
          "insanity",
          "easier",
          "destroy",
          "early",
          "earlier",
          "integrated",
          "intelligence",
          "intent",
          "intentionally",
          "diamond",
          "interests",
          "lets",
          "interview",
          "intolerable",
          "lee",
          "leaves",
          "introduced",
          "inventory",
          "investments",
          "investopedia",
          "directly",
          "leadership",
          "laws",
          "decisions",
          "match",
          "copy",
          "headlines",
          "example",
          "hearing",
          "heavily",
          "everywhere",
          "heck",
          "event",
          "covid",
          "cramer",
          "hello",
          "nasdaq",
          "crashed",
          "name",
          "nah",
          "helped",
          "create",
          "hence",
          "credit",
          "crimes",
          "criminal",
          "europe",
          "hi",
          "highly",
          "hire",
          "heads",
          "heading",
          "morons",
          "head",
          "extra",
          "greatest",
          "groceries",
          "noise",
          "export",
          "nixon",
          "grow",
          "expert",
          "nightmare",
          "nigeria",
          "experience",
          "guidance",
          "halt",
          "count",
          "hand",
          "handled",
          "counter",
          "happily",
          "network",
          "exist",
          "negotiating",
          "exciting",
          "negative",
          "hiring",
          "hit",
          "math",
          "hongqiao",
          "dark",
          "mesothelioma",
          "environmentally",
          "environment",
          "dca",
          "entirely",
          "mental",
          "memory",
          "memes",
          "dcaing",
          "hot",
          "meet",
          "medium",
          "medical",
          "deals",
          "entered",
          "enter",
          "ensuring",
          "debacle",
          "ensures",
          "decade",
          "decades",
          "ensure",
          "hooked",
          "meta",
          "hitting",
          "metal",
          "crush",
          "crushed",
          "hk",
          "monarchy",
          "etf",
          "models",
          "model",
          "curiosity",
          "curious",
          "june",
          "miss",
          "essential",
          "holders",
          "holdings",
          "cuts",
          "cutting",
          "minerals",
          "homeless",
          "cycles",
          "equinox",
          "honest",
          "middle",
          "daily",
          "join",
          "preparing",
          "sound",
          "trans",
          "acceptable",
          "type",
          "bloomberg",
          "rules",
          "tzu",
          "bob",
          "roth",
          "ross",
          "rose",
          "ability",
          "umus",
          "rolling",
          "bomb",
          "98",
          "rklb",
          "understanding",
          "undervalued",
          "rip",
          "ridiculous",
          "bottom",
          "8883",
          "richard",
          "77",
          "united",
          "reverse",
          "tweets",
          "tv",
          "sad",
          "act",
          "bets",
          "transitory",
          "search",
          "treasurys",
          "treatment",
          "tree",
          "trending",
          "screw",
          "trends",
          "scotus",
          "schd",
          "trillion",
          "safer",
          "bills",
          "truly",
          "scale",
          "trusted",
          "saw",
          "blackrock",
          "sand",
          "sam",
          "salvador",
          "blatant",
          "blend",
          "75",
          "branch",
          "70",
          "burn",
          "remembered",
          "uv1",
          "relative",
          "4260",
          "bulk",
          "bullish",
          "regulators",
          "42",
          "regime",
          "regards",
          "regardless",
          "3d",
          "users",
          "36",
          "350",
          "vehicles",
          "3306",
          "came",
          "reasons",
          "canada",
          "vice",
          "realized",
          "reality",
          "reacts",
          "usually",
          "user",
          "brand",
          "unwinding",
          "return",
          "break",
          "unless",
          "65",
          "64",
          "60",
          "resource",
          "reserves",
          "reserve",
          "broker",
          "requires",
          "bros",
          "btw",
          "republicans",
          "update",
          "reprieve",
          "upgrade",
          "reports",
          "reporting",
          "replied",
          "upgrades",
          "bs",
          "upswing",
          "useless",
          "seeking",
          "acts",
          "video",
          "traditional",
          "spot",
          "sports",
          "assumption",
          "surprise",
          "surprised",
          "surrounded",
          "amd",
          "ath",
          "spine",
          "spin",
          "speculative",
          "speculation",
          "specified",
          "ally",
          "spaxx",
          "alerts",
          "taken",
          "south",
          "taking",
          "source",
          "sounds",
          "sorts",
          "talks",
          "tangerine",
          "somehow",
          "assume",
          "supporters",
          "asleep",
          "annex",
          "anywhere",
          "apparently",
          "studies",
          "strategic",
          "stupidity",
          "sub",
          "storms",
          "answer",
          "approved",
          "stopped",
          "subreddit",
          "stimulus",
          "superior",
          "areas",
          "stepping",
          "arguing",
          "steady",
          "arms",
          "sum",
          "summary",
          "sun",
          "anal",
          "stage",
          "asking",
          "auy",
          "aircraft",
          "ain",
          "tomorrow",
          "til",
          "battle",
          "shitty",
          "till",
          "beautiful",
          "sherwood",
          "bed",
          "sharp",
          "title",
          "admin",
          "toilet",
          "addition",
          "shopping",
          "totalitarian",
          "several",
          "seven",
          "belong",
          "belongs",
          "serious",
          "benefit",
          "towards",
          "sells",
          "sellers",
          "seem",
          "basis",
          "shorted",
          "ahead",
          "teslas",
          "taxpayer",
          "average",
          "technical",
          "smooth",
          "awesome",
          "baba",
          "slightly",
          "sleep",
          "backing",
          "skill",
          "sir",
          "test",
          "tickers",
          "signs",
          "themselves",
          "thinks",
          "ban",
          "side",
          "showing",
          "affected",
          "thrown",
          "barely",
          "thursday",
          "advocating",
          "victory",
          "strongest",
          "rcat",
          "programs",
          "protest",
          "protections",
          "2021",
          "proposals",
          "chair",
          "chance",
          "project",
          "progression",
          "profits",
          "proven",
          "200",
          "profile",
          "produces",
          "changes",
          "problems",
          "problem",
          "whether",
          "charged",
          "proud",
          "provides",
          "wanna",
          "watercraft",
          "qqqm",
          "qqq",
          "cat",
          "catalyst",
          "catch",
          "warm",
          "21",
          "q1",
          "causing",
          "publication",
          "purchase",
          "punishment",
          "pumps",
          "waves",
          "ways",
          "2024",
          "wbd",
          "weakness",
          "primary",
          "prevent",
          "pretend",
          "pivot",
          "woke",
          "woman",
          "wont",
          "claims",
          "wow",
          "wrote",
          "platinum",
          "clean",
          "yea",
          "presidency",
          "pissing",
          "pissed",
          "yippee",
          "yours",
          "pilot",
          "closed",
          "pick",
          "yup",
          "125",
          "13",
          "chips",
          "port",
          "whoops",
          "cheaper",
          "1945",
          "wiki",
          "cheeto",
          "18",
          "17th",
          "chicken",
          "pound",
          "children",
          "posted",
          "possibly",
          "150",
          "positive",
          "chip",
          "winter",
          "wish",
          "cashing",
          "private",
          "walk",
          "25k",
          "rampant",
          "card",
          "rationale",
          "28",
          "walked",
          "cant",
          "range",
          "rather",
          "raises",
          "walking",
          "vix",
          "random",
          "carts",
          "questions",
          "2nd",
          "24",
          "cartman",
          "eli5",
          "electronics",
          "agenda",
          "15m",
          "153",
          "electing",
          "facebook",
          "aged",
          "facilities",
          "elections",
          "3f",
          "faced",
          "agencies",
          "3a",
          "fellas",
          "2c_books",
          "ejaculate",
          "agentnlp",
          "aid",
          "fictional",
          "airline",
          "fickle",
          "fiber",
          "fewer",
          "aiming",
          "aimed",
          "effing",
          "effort",
          "egg",
          "ego",
          "felons",
          "14th",
          "agriculture",
          "agreement",
          "agreed",
          "agolf",
          "2c_wiki_recommendations",
          "agnew",
          "eitherway",
          "aggressor",
          "aggressively",
          "elmo",
          "234",
          "age",
          "feeling",
          "employed",
          "eye",
          "feelings",
          "296895",
          "en",
          "advisor",
          "3oz8xzgfhartvh99yi",
          "advised",
          "ended",
          "advise",
          "186",
          "agane",
          "1870",
          "ends",
          "endure",
          "extreme",
          "feedback",
          "enemy",
          "1934",
          "advertisements",
          "engineered",
          "english",
          "aerc",
          "1728",
          "1700",
          "17",
          "elsewhere",
          "16",
          "160",
          "efficiency",
          "elva",
          "afternoon",
          "3k",
          "ezbc",
          "ema",
          "africa",
          "emails",
          "afraid",
          "embargo",
          "afford",
          "embargoed",
          "embargoing",
          "feet",
          "emoluments",
          "affects",
          "emotional",
          "eyes",
          "afterwards",
          "140",
          "efficacy",
          "earings",
          "animal",
          "angle",
          "anger",
          "fairness",
          "firesale",
          "03",
          "dvax",
          "dwac",
          "dxy",
          "angeles",
          "anduril",
          "anime",
          "3000",
          "andrew",
          "fires",
          "earmings",
          "06",
          "31",
          "anathema",
          "analytics",
          "analysts",
          "08",
          "2fapps",
          "dumpster",
          "1000",
          "fiscal",
          "aoc",
          "flag",
          "2s",
          "01378",
          "anticipate",
          "fitlx",
          "fit",
          "anti",
          "fishing",
          "dumbassery",
          "02",
          "2k",
          "027",
          "dumbfuck",
          "annually",
          "dumped",
          "300",
          "annual",
          "annoying",
          "announces",
          "announce",
          "dumps",
          "31224",
          "10000",
          "145",
          "12855584",
          "filtering",
          "allowing",
          "fill",
          "allocating",
          "fairytale",
          "failed",
          "ecstasy",
          "34",
          "albeit",
          "edgy",
          "fafillion",
          "finally",
          "aladeen",
          "fight",
          "editron",
          "14",
          "education",
          "eerie",
          "aka",
          "airplanes",
          "adversaries",
          "airplane",
          "economically",
          "1242",
          "100k",
          "31225",
          "finviz",
          "among",
          "100x",
          "amirite",
          "eastwood",
          "fairy",
          "10k",
          "americas",
          "10ks",
          "eaten",
          "10yr",
          "33",
          "amendment",
          "financially",
          "31f",
          "failing",
          "118",
          "ebidta",
          "echo",
          "amazed",
          "amass",
          "alright",
          "enhance",
          "feed",
          "advantage",
          "89",
          "98th",
          "faster",
          "97",
          "95",
          "90k",
          "9000",
          "evidence",
          "fallacy",
          "evil",
          "expire",
          "235",
          "favorable",
          "fashioned",
          "4500",
          "8882",
          "456",
          "87",
          "83",
          "examples",
          "81",
          "7s",
          "7k",
          "99",
          "everybody",
          "9k",
          "_are",
          "evaluate",
          "faults",
          "evaluated",
          "exploration",
          "accept",
          "accelerate",
          "abysmal",
          "abusing",
          "abuse",
          "explodes",
          "absolute",
          "20211209",
          "evening",
          "fault",
          "abolish",
          "fauci",
          "father",
          "explains",
          "fate",
          "_so",
          "fat",
          "experienced",
          "apart",
          "46",
          "fans",
          "55",
          "exit",
          "540",
          "4d",
          "exiting",
          "2045",
          "522",
          "52",
          "208",
          "expand",
          "50x",
          "4m",
          "expanding",
          "50k",
          "expected",
          "4th",
          "expands",
          "22rate",
          "expansion",
          "expectation",
          "4x",
          "58",
          "600k",
          "7500",
          "existed",
          "fascist",
          "fascism",
          "excited",
          "4675",
          "fascinated",
          "fartcoin",
          "excl",
          "2028",
          "6th",
          "far_",
          "6k",
          "excuse",
          "excuses",
          "executed",
          "47",
          "executor",
          "6969",
          "66",
          "4900",
          "fantasies",
          "6026762",
          "faith",
          "accepted",
          "enhanced",
          "adausd",
          "addicts",
          "addicted",
          "episode",
          "added",
          "1969",
          "epitome",
          "equal",
          "february",
          "1973",
          "add",
          "ad",
          "access",
          "1974",
          "1981",
          "equipment",
          "feb",
          "fairly",
          "features",
          "extort",
          "extention",
          "era",
          "1992",
          "41",
          "entry",
          "entourage",
          "1961",
          "advanced",
          "enjoying",
          "enjoyment",
          "enlightening",
          "adult",
          "fedex",
          "enrichment",
          "401k",
          "enrolled",
          "404",
          "adp",
          "adobe",
          "1947",
          "admitted",
          "admit",
          "admins",
          "administrations",
          "enterprise",
          "1953",
          "adjacent",
          "addressed",
          "1999",
          "actors",
          "extent",
          "ethernet",
          "achieved",
          "4359",
          "acgl",
          "aces",
          "fb",
          "accurately",
          "accurate",
          "200k",
          "ethusd",
          "2011",
          "2012",
          "acct",
          "etrade",
          "favourite",
          "favourable",
          "2017",
          "accretive",
          "euro",
          "account",
          "according",
          "45",
          "achievement",
          "4267",
          "actively",
          "fbtc",
          "actions",
          "27",
          "feat",
          "1k",
          "1m",
          "extension",
          "exposure",
          "established",
          "expose",
          "estate",
          "estee",
          "action",
          "25bps",
          "fdx",
          "acquisitions",
          "acquires",
          "2007",
          "fdlxx",
          "achilles",
          "fd",
          "achieves",
          "excercised",
          "cluster",
          "ape",
          "cpi",
          "california",
          "calculus",
          "calculated",
          "cage",
          "cadres",
          "courts",
          "cabling",
          "cabinet",
          "coverage",
          "covered",
          "byddy",
          "covering",
          "button",
          "coworkers",
          "cpo",
          "coup",
          "burying",
          "burned",
          "burgeoning",
          "bumping",
          "bullying",
          "crashes",
          "crayola",
          "crayon",
          "bullets",
          "bulletproof",
          "created",
          "creates",
          "creating",
          "credibility",
          "calling",
          "calm",
          "app",
          "corrected",
          "cases",
          "carter",
          "cars",
          "carryover",
          "cope",
          "carry",
          "copper",
          "carney",
          "careful",
          "core",
          "cardboard",
          "capitaliq",
          "corporal",
          "corporations",
          "corruption",
          "counties",
          "capability",
          "cap",
          "candle",
          "candidate",
          "costs",
          "cot",
          "cough",
          "cancer",
          "canceled",
          "cancel",
          "canadianinvestor",
          "canadian",
          "counterargument",
          "camps",
          "credible",
          "crime",
          "built",
          "breast",
          "cup",
          "broke",
          "broader",
          "brkb",
          "bristol",
          "bringing",
          "brief",
          "brics",
          "curse",
          "curve",
          "brick",
          "customers",
          "brewing",
          "brew",
          "breakout",
          "building",
          "breakeven",
          "cuz",
          "cyberlux",
          "cybertruck",
          "breakdown",
          "brasileiro",
          "branded",
          "cyrpto",
          "brace",
          "dad",
          "boycotting",
          "boycott",
          "damaged",
          "box",
          "culture",
          "broken",
          "brokerage",
          "cryptos",
          "buffet",
          "cripple",
          "crisis",
          "criteria",
          "buddy",
          "bud",
          "criticism",
          "bucko",
          "criticizing",
          "crm",
          "crml",
          "crocs",
          "crooks",
          "btcusd",
          "cross",
          "btcq",
          "crucial",
          "btco",
          "btcm",
          "btbt",
          "crumbling",
          "brutal",
          "brrrrrr",
          "brrr",
          "brought",
          "cry",
          "crying",
          "brothers",
          "brokers",
          "cooking",
          "conversion",
          "cats",
          "commit",
          "command",
          "circulate",
          "circles",
          "cifr",
          "chyyyynnnnnaaaaa",
          "chunk",
          "christmas",
          "commercial",
          "christ",
          "commission",
          "chpt",
          "chose",
          "choosing",
          "choice",
          "committed",
          "compliant",
          "committing",
          "commodity",
          "communicated",
          "communities",
          "community",
          "compact",
          "chin",
          "chill",
          "chief",
          "chest",
          "cherry",
          "competing",
          "complain",
          "chemotherapy",
          "cisco",
          "citing",
          "city",
          "civilizational",
          "club",
          "clothes",
          "coal",
          "coast",
          "closet",
          "closes",
          "cock",
          "closer",
          "cohen",
          "clint",
          "col",
          "clinics",
          "colapse",
          "clinically",
          "climbers",
          "collapse",
          "collectivism",
          "climbed",
          "climb",
          "columbia",
          "click",
          "clever",
          "comcast",
          "clause",
          "classes",
          "class",
          "clarify",
          "comedy",
          "claiming",
          "chemistry",
          "cheer",
          "conversation",
          "contact",
          "console",
          "chalk",
          "consolidating",
          "cgc",
          "cftc",
          "certificate",
          "conspiracy",
          "constitution",
          "constructive",
          "consulted",
          "certainly",
          "consumes",
          "certain",
          "central",
          "contest",
          "checkpoint",
          "centers",
          "cent",
          "censorship",
          "continually",
          "continue",
          "caved",
          "contractor",
          "cautious",
          "contradicts",
          "contribute",
          "contribution",
          "caused",
          "caught",
          "convenient",
          "consistently",
          "considering",
          "challenges",
          "chamber",
          "compose",
          "cheat",
          "comprehension",
          "computes",
          "concede",
          "conceded",
          "concentrate",
          "concentrated",
          "concepts",
          "chatter",
          "concerning",
          "charge",
          "concerns",
          "concerted",
          "concluded",
          "characterize",
          "conditioned",
          "conditions",
          "chaos",
          "channel",
          "changed",
          "confirm",
          "confirmed",
          "confiscating",
          "congressional",
          "connections",
          "conquer",
          "cons",
          "consecutive",
          "dan",
          "danfoss",
          "dangerous",
          "distract",
          "aware",
          "discuss",
          "avoiding",
          "discussing",
          "discussion",
          "avoided",
          "avgo",
          "disgusted",
          "disloyal",
          "disney",
          "dissatisfaction",
          "dissent",
          "dissolution",
          "distance",
          "distributed",
          "cmcsa",
          "distributor",
          "diversify",
          "diversifying",
          "avct",
          "available",
          "auusi",
          "divesting",
          "automatically",
          "automakers",
          "djt",
          "autocracy",
          "authority",
          "australia",
          "dm",
          "discounting",
          "awful",
          "b2b",
          "backtracking",
          "dick",
          "dictator",
          "banzai",
          "bans",
          "banks",
          "bankers",
          "didnt",
          "banging",
          "die",
          "differences",
          "bang",
          "difficult",
          "digging",
          "digit",
          "ball",
          "dilution",
          "balanced",
          "balance",
          "dimon",
          "bakrupt",
          "bail",
          "bags",
          "dis",
          "disabled",
          "disappointed",
          "bagging",
          "baffling",
          "badly",
          "badass",
          "dmgi",
          "doctors",
          "barfed",
          "arbitration",
          "dr",
          "articles",
          "arming",
          "arkb",
          "drag",
          "arhs",
          "dragon",
          "dramatic",
          "dramatically",
          "ard",
          "drawdown",
          "arch",
          "dreams",
          "drills",
          "drinker",
          "dod",
          "arbitrary",
          "arbitrage",
          "drives",
          "aquafina",
          "drone",
          "aptitude",
          "apps",
          "approval",
          "dropping",
          "drumpf",
          "appointments",
          "appointed",
          "applying",
          "appears",
          "downwards",
          "downvoted",
          "artificial",
          "downturn",
          "doe",
          "aurcana",
          "audience",
          "atus",
          "attractive",
          "dog",
          "attracted",
          "attendance",
          "dogeusd",
          "attempting",
          "domiciled",
          "attacked",
          "attack",
          "atm",
          "donjr",
          "donnie",
          "donno",
          "asts",
          "astonishing",
          "donny",
          "astonished",
          "doom",
          "dose",
          "doublet",
          "assert",
          "doubling",
          "asia",
          "ashes",
          "asap",
          "diamonds",
          "barista",
          "bowl",
          "defi",
          "blnk",
          "blinks",
          "blinked",
          "blink",
          "blind",
          "blgo",
          "deeply",
          "defaulted",
          "defaulting",
          "defence",
          "blazing",
          "blazer",
          "blaming",
          "defensives",
          "deficiency",
          "bigg",
          "deficit",
          "deficits",
          "bitf",
          "bitching",
          "bitb",
          "definition",
          "bing",
          "definitions",
          "billions",
          "billionaires",
          "definitive",
          "degenerated",
          "billionaire",
          "degraded",
          "blockchain",
          "decent",
          "blue",
          "december",
          "bouncing",
          "bounce",
          "das",
          "dasani",
          "bot",
          "borrow",
          "boring",
          "bored",
          "borderline",
          "boost",
          "boomers",
          "dcfs",
          "boomer",
          "boomed",
          "boom",
          "booking",
          "bonus",
          "bong",
          "bolton",
          "bolster",
          "death",
          "bois",
          "debauchery",
          "dec",
          "board",
          "bnzi",
          "bmw",
          "bluffed",
          "bluff",
          "bigly",
          "bid",
          "develop",
          "bc",
          "behaviour",
          "depressed",
          "behavior",
          "beginning",
          "beginner",
          "begin",
          "began",
          "becuz",
          "beauty",
          "derailed",
          "descent",
          "described",
          "beaten",
          "beat",
          "deserve",
          "delete",
          "deserved",
          "design",
          "bby",
          "desperation",
          "bbq",
          "bb",
          "bastion",
          "basket",
          "destroyed",
          "basics",
          "destroys",
          "determine",
          "devalue",
          "barrel",
          "behind",
          "belichick",
          "deportation",
          "belief",
          "bickering",
          "biases",
          "deleted",
          "deliver",
          "delta",
          "betting",
          "dem",
          "betrayed",
          "demanding",
          "demise",
          "betrayals",
          "beta",
          "bessent",
          "besides",
          "benjamin",
          "benefits",
          "democrat",
          "bending",
          "democratic",
          "democrats",
          "bellarus",
          "bell",
          "belive",
          "believing",
          "denmark",
          "denominated",
          "departments",
          "believable",
          "depend",
          "flair",
          "zsil",
          "flavor",
          "scoop",
          "settle",
          "serve",
          "seriously",
          "september",
          "sent",
          "sensing",
          "sensational",
          "semi",
          "self",
          "sees",
          "seemed",
          "seeks",
          "security",
          "securities",
          "sectors",
          "seconds",
          "secondary",
          "seats",
          "scrounge",
          "screwing",
          "screaming",
          "setup",
          "severe",
          "sexist",
          "shakedown",
          "shifted",
          "shibusd",
          "shelves",
          "shell",
          "shel",
          "sheet",
          "shattered",
          "shame",
          "shaky",
          "shafted",
          "sgov",
          "shabby",
          "shabalomillion",
          "shabaling",
          "shabadamillion",
          "shabadabalo",
          "sh_relvol_o1",
          "sh_instown_o50",
          "sh_curvol_o5000",
          "sh_avgvol_o2000",
          "scot",
          "science",
          "shilling",
          "scheme",
          "russian",
          "rural",
          "running",
          "rumors",
          "rumor",
          "rulebook",
          "ruins",
          "ruined",
          "rtx",
          "rr",
          "royally",
          "round",
          "roughly",
          "root",
          "rooney",
          "ron",
          "rollercoaster",
          "roids",
          "rode",
          "rocky8888",
          "rock",
          "russians",
          "rvph",
          "ryan",
          "sayeth",
          "scents",
          "scenario",
          "scary",
          "scared",
          "scare",
          "scanner",
          "scamming",
          "scaling",
          "sc",
          "savvy",
          "safest",
          "savings",
          "saved",
          "saunas",
          "sates",
          "sara",
          "salvadorian",
          "salesmen",
          "salary",
          "sailed",
          "shifting",
          "shine",
          "preclinical",
          "sma",
          "spacex",
          "sovereign",
          "sources",
          "sorkin",
          "sooo",
          "sooner",
          "somewhere",
          "somewhat",
          "someplace",
          "somebody",
          "solid",
          "sole",
          "software",
          "soap",
          "snowflake",
          "sniffling",
          "sneakers",
          "snap",
          "snake",
          "smug",
          "smoothly",
          "spaghetti",
          "speak",
          "speaks",
          "spooking",
          "stamp",
          "squibb",
          "squad",
          "sqqq",
          "sq",
          "sputter",
          "spur",
          "spring",
          "spread",
          "spontaneously",
          "special",
          "sponsored",
          "spoke",
          "split",
          "spiro",
          "spilling",
          "spiking",
          "spgi",
          "spending",
          "spelled",
          "smells",
          "slowly",
          "ship",
          "slowing",
          "shown",
          "shower",
          "showcase",
          "shotty",
          "shortvolume",
          "shortly",
          "shorting",
          "shortexemptvolume",
          "shortages",
          "shops",
          "shoppers",
          "shoots",
          "shooting",
          "shoot",
          "shockingly",
          "shittler",
          "shitting",
          "shitshow",
          "shits",
          "shitadel",
          "shirts",
          "shrink",
          "shut",
          "shuttering",
          "simultaneously",
          "sliver",
          "slide",
          "sleeping",
          "skyline",
          "skills",
          "sized",
          "sit",
          "singapore",
          "singal",
          "simulated",
          "si",
          "simplify",
          "simple",
          "signing",
          "significance",
          "signaled",
          "sign",
          "sighted",
          "siding",
          "sick",
          "robinhood",
          "robbed",
          "roaring",
          "qifu",
          "rapid",
          "rang",
          "randomized",
          "rallying",
          "raising",
          "raised",
          "rage",
          "rafalson",
          "radical",
          "racist",
          "rabid",
          "quoting",
          "quote",
          "qult",
          "quietly",
          "query",
          "queens",
          "quasi",
          "quarters",
          "quant",
          "quality",
          "rating",
          "ratio",
          "rationally",
          "reasoning",
          "reciyclical",
          "reciprocal",
          "recharge",
          "receptionist",
          "rebound",
          "rebates",
          "rebalanced",
          "rebalance",
          "reassuring",
          "reasonable",
          "raytheon",
          "rearranged",
          "realizes",
          "reads",
          "react",
          "reached",
          "reach",
          "rddt",
          "rbdx",
          "razor",
          "qualified",
          "qfin",
          "rn",
          "qe",
          "promising"
         ],
         "xaxis": "x",
         "y": {
          "bdata": "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",
          "dtype": "f8"
         },
         "yaxis": "y"
        }
       ],
       "layout": {
        "barmode": "relative",
        "height": 800,
        "legend": {
         "tracegroupgap": 0
        },
        "template": {
         "data": {
          "bar": [
           {
            "error_x": {
             "color": "#2a3f5f"
            },
            "error_y": {
             "color": "#2a3f5f"
            },
            "marker": {
             "line": {
              "color": "#E5ECF6",
              "width": 0.5
             },
             "pattern": {
              "fillmode": "overlay",
              "size": 10,
              "solidity": 0.2
             }
            },
            "type": "bar"
           }
          ],
          "barpolar": [
           {
            "marker": {
             "line": {
              "color": "#E5ECF6",
              "width": 0.5
             },
             "pattern": {
              "fillmode": "overlay",
              "size": 10,
              "solidity": 0.2
             }
            },
            "type": "barpolar"
           }
          ],
          "carpet": [
           {
            "aaxis": {
             "endlinecolor": "#2a3f5f",
             "gridcolor": "white",
             "linecolor": "white",
             "minorgridcolor": "white",
             "startlinecolor": "#2a3f5f"
            },
            "baxis": {
             "endlinecolor": "#2a3f5f",
             "gridcolor": "white",
             "linecolor": "white",
             "minorgridcolor": "white",
             "startlinecolor": "#2a3f5f"
            },
            "type": "carpet"
           }
          ],
          "choropleth": [
           {
            "colorbar": {
             "outlinewidth": 0,
             "ticks": ""
            },
            "type": "choropleth"
           }
          ],
          "contour": [
           {
            "colorbar": {
             "outlinewidth": 0,
             "ticks": ""
            },
            "colorscale": [
             [
              0,
              "#0d0887"
             ],
             [
              0.1111111111111111,
              "#46039f"
             ],
             [
              0.2222222222222222,
              "#7201a8"
             ],
             [
              0.3333333333333333,
              "#9c179e"
             ],
             [
              0.4444444444444444,
              "#bd3786"
             ],
             [
              0.5555555555555556,
              "#d8576b"
             ],
             [
              0.6666666666666666,
              "#ed7953"
             ],
             [
              0.7777777777777778,
              "#fb9f3a"
             ],
             [
              0.8888888888888888,
              "#fdca26"
             ],
             [
              1,
              "#f0f921"
             ]
            ],
            "type": "contour"
           }
          ],
          "contourcarpet": [
           {
            "colorbar": {
             "outlinewidth": 0,
             "ticks": ""
            },
            "type": "contourcarpet"
           }
          ],
          "heatmap": [
           {
            "colorbar": {
             "outlinewidth": 0,
             "ticks": ""
            },
            "colorscale": [
             [
              0,
              "#0d0887"
             ],
             [
              0.1111111111111111,
              "#46039f"
             ],
             [
              0.2222222222222222,
              "#7201a8"
             ],
             [
              0.3333333333333333,
              "#9c179e"
             ],
             [
              0.4444444444444444,
              "#bd3786"
             ],
             [
              0.5555555555555556,
              "#d8576b"
             ],
             [
              0.6666666666666666,
              "#ed7953"
             ],
             [
              0.7777777777777778,
              "#fb9f3a"
             ],
             [
              0.8888888888888888,
              "#fdca26"
             ],
             [
              1,
              "#f0f921"
             ]
            ],
            "type": "heatmap"
           }
          ],
          "histogram": [
           {
            "marker": {
             "pattern": {
              "fillmode": "overlay",
              "size": 10,
              "solidity": 0.2
             }
            },
            "type": "histogram"
           }
          ],
          "histogram2d": [
           {
            "colorbar": {
             "outlinewidth": 0,
             "ticks": ""
            },
            "colorscale": [
             [
              0,
              "#0d0887"
             ],
             [
              0.1111111111111111,
              "#46039f"
             ],
             [
              0.2222222222222222,
              "#7201a8"
             ],
             [
              0.3333333333333333,
              "#9c179e"
             ],
             [
              0.4444444444444444,
              "#bd3786"
             ],
             [
              0.5555555555555556,
              "#d8576b"
             ],
             [
              0.6666666666666666,
              "#ed7953"
             ],
             [
              0.7777777777777778,
              "#fb9f3a"
             ],
             [
              0.8888888888888888,
              "#fdca26"
             ],
             [
              1,
              "#f0f921"
             ]
            ],
            "type": "histogram2d"
           }
          ],
          "histogram2dcontour": [
           {
            "colorbar": {
             "outlinewidth": 0,
             "ticks": ""
            },
            "colorscale": [
             [
              0,
              "#0d0887"
             ],
             [
              0.1111111111111111,
              "#46039f"
             ],
             [
              0.2222222222222222,
              "#7201a8"
             ],
             [
              0.3333333333333333,
              "#9c179e"
             ],
             [
              0.4444444444444444,
              "#bd3786"
             ],
             [
              0.5555555555555556,
              "#d8576b"
             ],
             [
              0.6666666666666666,
              "#ed7953"
             ],
             [
              0.7777777777777778,
              "#fb9f3a"
             ],
             [
              0.8888888888888888,
              "#fdca26"
             ],
             [
              1,
              "#f0f921"
             ]
            ],
            "type": "histogram2dcontour"
           }
          ],
          "mesh3d": [
           {
            "colorbar": {
             "outlinewidth": 0,
             "ticks": ""
            },
            "type": "mesh3d"
           }
          ],
          "parcoords": [
           {
            "line": {
             "colorbar": {
              "outlinewidth": 0,
              "ticks": ""
             }
            },
            "type": "parcoords"
           }
          ],
          "pie": [
           {
            "automargin": true,
            "type": "pie"
           }
          ],
          "scatter": [
           {
            "fillpattern": {
             "fillmode": "overlay",
             "size": 10,
             "solidity": 0.2
            },
            "type": "scatter"
           }
          ],
          "scatter3d": [
           {
            "line": {
             "colorbar": {
              "outlinewidth": 0,
              "ticks": ""
             }
            },
            "marker": {
             "colorbar": {
              "outlinewidth": 0,
              "ticks": ""
             }
            },
            "type": "scatter3d"
           }
          ],
          "scattercarpet": [
           {
            "marker": {
             "colorbar": {
              "outlinewidth": 0,
              "ticks": ""
             }
            },
            "type": "scattercarpet"
           }
          ],
          "scattergeo": [
           {
            "marker": {
             "colorbar": {
              "outlinewidth": 0,
              "ticks": ""
             }
            },
            "type": "scattergeo"
           }
          ],
          "scattergl": [
           {
            "marker": {
             "colorbar": {
              "outlinewidth": 0,
              "ticks": ""
             }
            },
            "type": "scattergl"
           }
          ],
          "scattermap": [
           {
            "marker": {
             "colorbar": {
              "outlinewidth": 0,
              "ticks": ""
             }
            },
            "type": "scattermap"
           }
          ],
          "scattermapbox": [
           {
            "marker": {
             "colorbar": {
              "outlinewidth": 0,
              "ticks": ""
             }
            },
            "type": "scattermapbox"
           }
          ],
          "scatterpolar": [
           {
            "marker": {
             "colorbar": {
              "outlinewidth": 0,
              "ticks": ""
             }
            },
            "type": "scatterpolar"
           }
          ],
          "scatterpolargl": [
           {
            "marker": {
             "colorbar": {
              "outlinewidth": 0,
              "ticks": ""
             }
            },
            "type": "scatterpolargl"
           }
          ],
          "scatterternary": [
           {
            "marker": {
             "colorbar": {
              "outlinewidth": 0,
              "ticks": ""
             }
            },
            "type": "scatterternary"
           }
          ],
          "surface": [
           {
            "colorbar": {
             "outlinewidth": 0,
             "ticks": ""
            },
            "colorscale": [
             [
              0,
              "#0d0887"
             ],
             [
              0.1111111111111111,
              "#46039f"
             ],
             [
              0.2222222222222222,
              "#7201a8"
             ],
             [
              0.3333333333333333,
              "#9c179e"
             ],
             [
              0.4444444444444444,
              "#bd3786"
             ],
             [
              0.5555555555555556,
              "#d8576b"
             ],
             [
              0.6666666666666666,
              "#ed7953"
             ],
             [
              0.7777777777777778,
              "#fb9f3a"
             ],
             [
              0.8888888888888888,
              "#fdca26"
             ],
             [
              1,
              "#f0f921"
             ]
            ],
            "type": "surface"
           }
          ],
          "table": [
           {
            "cells": {
             "fill": {
              "color": "#EBF0F8"
             },
             "line": {
              "color": "white"
             }
            },
            "header": {
             "fill": {
              "color": "#C8D4E3"
             },
             "line": {
              "color": "white"
             }
            },
            "type": "table"
           }
          ]
         },
         "layout": {
          "annotationdefaults": {
           "arrowcolor": "#2a3f5f",
           "arrowhead": 0,
           "arrowwidth": 1
          },
          "autotypenumbers": "strict",
          "coloraxis": {
           "colorbar": {
            "outlinewidth": 0,
            "ticks": ""
           }
          },
          "colorscale": {
           "diverging": [
            [
             0,
             "#8e0152"
            ],
            [
             0.1,
             "#c51b7d"
            ],
            [
             0.2,
             "#de77ae"
            ],
            [
             0.3,
             "#f1b6da"
            ],
            [
             0.4,
             "#fde0ef"
            ],
            [
             0.5,
             "#f7f7f7"
            ],
            [
             0.6,
             "#e6f5d0"
            ],
            [
             0.7,
             "#b8e186"
            ],
            [
             0.8,
             "#7fbc41"
            ],
            [
             0.9,
             "#4d9221"
            ],
            [
             1,
             "#276419"
            ]
           ],
           "sequential": [
            [
             0,
             "#0d0887"
            ],
            [
             0.1111111111111111,
             "#46039f"
            ],
            [
             0.2222222222222222,
             "#7201a8"
            ],
            [
             0.3333333333333333,
             "#9c179e"
            ],
            [
             0.4444444444444444,
             "#bd3786"
            ],
            [
             0.5555555555555556,
             "#d8576b"
            ],
            [
             0.6666666666666666,
             "#ed7953"
            ],
            [
             0.7777777777777778,
             "#fb9f3a"
            ],
            [
             0.8888888888888888,
             "#fdca26"
            ],
            [
             1,
             "#f0f921"
            ]
           ],
           "sequentialminus": [
            [
             0,
             "#0d0887"
            ],
            [
             0.1111111111111111,
             "#46039f"
            ],
            [
             0.2222222222222222,
             "#7201a8"
            ],
            [
             0.3333333333333333,
             "#9c179e"
            ],
            [
             0.4444444444444444,
             "#bd3786"
            ],
            [
             0.5555555555555556,
             "#d8576b"
            ],
            [
             0.6666666666666666,
             "#ed7953"
            ],
            [
             0.7777777777777778,
             "#fb9f3a"
            ],
            [
             0.8888888888888888,
             "#fdca26"
            ],
            [
             1,
             "#f0f921"
            ]
           ]
          },
          "colorway": [
           "#636efa",
           "#EF553B",
           "#00cc96",
           "#ab63fa",
           "#FFA15A",
           "#19d3f3",
           "#FF6692",
           "#B6E880",
           "#FF97FF",
           "#FECB52"
          ],
          "font": {
           "color": "#2a3f5f"
          },
          "geo": {
           "bgcolor": "white",
           "lakecolor": "white",
           "landcolor": "#E5ECF6",
           "showlakes": true,
           "showland": true,
           "subunitcolor": "white"
          },
          "hoverlabel": {
           "align": "left"
          },
          "hovermode": "closest",
          "mapbox": {
           "style": "light"
          },
          "paper_bgcolor": "white",
          "plot_bgcolor": "#E5ECF6",
          "polar": {
           "angularaxis": {
            "gridcolor": "white",
            "linecolor": "white",
            "ticks": ""
           },
           "bgcolor": "#E5ECF6",
           "radialaxis": {
            "gridcolor": "white",
            "linecolor": "white",
            "ticks": ""
           }
          },
          "scene": {
           "xaxis": {
            "backgroundcolor": "#E5ECF6",
            "gridcolor": "white",
            "gridwidth": 2,
            "linecolor": "white",
            "showbackground": true,
            "ticks": "",
            "zerolinecolor": "white"
           },
           "yaxis": {
            "backgroundcolor": "#E5ECF6",
            "gridcolor": "white",
            "gridwidth": 2,
            "linecolor": "white",
            "showbackground": true,
            "ticks": "",
            "zerolinecolor": "white"
           },
           "zaxis": {
            "backgroundcolor": "#E5ECF6",
            "gridcolor": "white",
            "gridwidth": 2,
            "linecolor": "white",
            "showbackground": true,
            "ticks": "",
            "zerolinecolor": "white"
           }
          },
          "shapedefaults": {
           "line": {
            "color": "#2a3f5f"
           }
          },
          "ternary": {
           "aaxis": {
            "gridcolor": "white",
            "linecolor": "white",
            "ticks": ""
           },
           "baxis": {
            "gridcolor": "white",
            "linecolor": "white",
            "ticks": ""
           },
           "bgcolor": "#E5ECF6",
           "caxis": {
            "gridcolor": "white",
            "linecolor": "white",
            "ticks": ""
           }
          },
          "title": {
           "x": 0.05
          },
          "xaxis": {
           "automargin": true,
           "gridcolor": "white",
           "linecolor": "white",
           "ticks": "",
           "title": {
            "standoff": 15
           },
           "zerolinecolor": "white",
           "zerolinewidth": 2
          },
          "yaxis": {
           "automargin": true,
           "gridcolor": "white",
           "linecolor": "white",
           "ticks": "",
           "title": {
            "standoff": 15
           },
           "zerolinecolor": "white",
           "zerolinewidth": 2
          }
         }
        },
        "title": {
         "text": "Exercise_15_2"
        },
        "width": 8000,
        "xaxis": {
         "anchor": "y",
         "domain": [
          0,
          1
         ],
         "tickangle": -90,
         "title": {
          "text": "Terms"
         }
        },
        "yaxis": {
         "anchor": "x",
         "domain": [
          0,
          1
         ],
         "title": {
          "text": "Term_Frequencies_Log"
         }
        }
       }
      }
     },
     "metadata": {},
     "output_type": "display_data"
    }
   ],
   "source": [
    "# Answer here\n",
    "# Plot in alphabetical order\n",
    "term_frequencies_log = [math.log(i) for i in term_frequencies]\n",
    "\n",
    "df_use_plotly_ex15 = pd.DataFrame({\"Terms\": count_vect.get_feature_names_out()[:300], \n",
    "                                   \"Term_Frequencies_Log\": term_frequencies_log[:300]})\n",
    "\n",
    "fig_ex15 = px.bar(df_use_plotly_ex15, \n",
    "             x = \"Terms\", \n",
    "             y = \"Term_Frequencies_Log\",\n",
    "             title = \"Exercise_15\")\n",
    "fig_ex15.update_layout(xaxis_tickangle = -90, width = 2500, height = 1000) \n",
    "\n",
    "fig_ex15.show()\n",
    "\n",
    "# Plot by ranking frequency (like fig_ex14)\n",
    "first_n_terms = 3000 # Select more terms to see the differences overall\n",
    "first_n_indices = np.argsort(term_frequencies_log)[-first_n_terms:][::-1]\n",
    "term_frequencies_log = np.array(term_frequencies_log)\n",
    "\n",
    "df_use_plotly_ex15_2 = pd.DataFrame({\"Terms\": count_vect.get_feature_names_out()[first_n_indices], \n",
    "                                     \"Term_Frequencies_Log\": term_frequencies_log[first_n_indices]})\n",
    "\n",
    "fig_ex15_2 = px.bar(df_use_plotly_ex15_2, \n",
    "             x = \"Terms\", \n",
    "             y = \"Term_Frequencies_Log\",\n",
    "             title = \"Exercise_15_2\")\n",
    "\n",
    "fig_ex15_2.update_layout(xaxis_tickangle = -90, width = 8000, height = 800)\n",
    "\n",
    "fig_ex15_2.show()\n"
   ]
  },
  {
   "cell_type": "markdown",
   "metadata": {},
   "source": [
    "What are the differences by changing 'term_frequencies' to 'term_frequencies_log'?\n",
    "\n",
    "        1. smaller scale range within higher and lower frequency terms\n",
    "\n",
    "        2. the visualization shows smoother transition (without a suddenly drop-off)\n",
    "\n",
    "\n",
    "What info. can get from a log distribution?\n",
    "\n",
    "        1. provide a more normal distribution by normalized the extreme values (become better statistical properties)\n",
    "\n",
    "        2. another perspective to analyze the relative importance of the terms"
   ]
  },
  {
   "cell_type": "markdown",
   "metadata": {},
   "source": [
    "End of Phase 1\n",
    "\n",
    "The phase 1 exercises and homeworks should be committed and submitted before September 28th"
   ]
  },
  {
   "cell_type": "markdown",
   "metadata": {},
   "source": [
    "# Phase 2"
   ]
  },
  {
   "cell_type": "code",
   "execution_count": 640,
   "metadata": {},
   "outputs": [],
   "source": [
    "### Begin Assignment Here"
   ]
  }
 ],
 "metadata": {
  "kernelspec": {
   "display_name": "DM2025-Lab1-Exercise",
   "language": "python",
   "name": "python3"
  },
  "language_info": {
   "codemirror_mode": {
    "name": "ipython",
    "version": 3
   },
   "file_extension": ".py",
   "mimetype": "text/x-python",
   "name": "python",
   "nbconvert_exporter": "python",
   "pygments_lexer": "ipython3",
   "version": "3.11.10"
  }
 },
 "nbformat": 4,
 "nbformat_minor": 4
}
